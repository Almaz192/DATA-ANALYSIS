{
 "cells": [
  {
   "cell_type": "markdown",
   "id": "9800fc7e",
   "metadata": {},
   "source": [
    "<div>\n",
    "    <img src=\"https://live-production.wcms.abc-cdn.net.au/ac56ffe2b5282f82358e6b396e2da2ba?impolicy=wcms_crop_resize&cropH=1915&cropW=3404&xPos=5&yPos=0&width=862&height=485\" width=\"500\"/>\n",
    "</div>\n",
    "\n",
    "\n",
    "---"
   ]
  },
  {
   "cell_type": "code",
   "execution_count": 1,
   "id": "19aed8d5",
   "metadata": {},
   "outputs": [],
   "source": [
    "import pandas as pd\n",
    "import numpy as np \n",
    "from sklearn.tree import DecisionTreeClassifier\n",
    "from sklearn.ensemble import RandomForestClassifier\n",
    "from sklearn.model_selection import train_test_split\n",
    "\n",
    "from sklearn.pipeline import Pipeline           # для создания пайплайна\n",
    "from sklearn.impute import SimpleImputer        # для заполнения пустых значений\n",
    "from sklearn.preprocessing import OneHotEncoder # для перевода категориальных значений в числовые\n",
    "\n",
    "from sklearn.compose import ColumnTransformer\n",
    "\n",
    "from sklearn.ensemble import RandomForestClassifier"
   ]
  },
  {
   "cell_type": "markdown",
   "id": "d5064fc7",
   "metadata": {},
   "source": [
    "## 0. Problem Statement\n",
    "\n",
    "About Company:\n",
    "\n",
    "**TSI Airlines** - largest airline of Kyrgyzstan by size and passengers carried.\n",
    "\n",
    "#### Problem\n",
    "You need to create a model that will accurately predict passenger **satisfaction**."
   ]
  },
  {
   "cell_type": "code",
   "execution_count": 2,
   "id": "90fc8cc0",
   "metadata": {},
   "outputs": [
    {
     "data": {
      "text/html": [
       "<div>\n",
       "<style scoped>\n",
       "    .dataframe tbody tr th:only-of-type {\n",
       "        vertical-align: middle;\n",
       "    }\n",
       "\n",
       "    .dataframe tbody tr th {\n",
       "        vertical-align: top;\n",
       "    }\n",
       "\n",
       "    .dataframe thead th {\n",
       "        text-align: right;\n",
       "    }\n",
       "</style>\n",
       "<table border=\"1\" class=\"dataframe\">\n",
       "  <thead>\n",
       "    <tr style=\"text-align: right;\">\n",
       "      <th></th>\n",
       "      <th>id</th>\n",
       "      <th>Gender</th>\n",
       "      <th>Customer Type</th>\n",
       "      <th>Age</th>\n",
       "      <th>Type of Travel</th>\n",
       "      <th>Class</th>\n",
       "      <th>Flight Distance</th>\n",
       "      <th>Inflight wifi service</th>\n",
       "      <th>Departure/Arrival time convenient</th>\n",
       "      <th>Ease of Online booking</th>\n",
       "      <th>...</th>\n",
       "      <th>Inflight entertainment</th>\n",
       "      <th>On-board service</th>\n",
       "      <th>Leg room service</th>\n",
       "      <th>Baggage handling</th>\n",
       "      <th>Checkin service</th>\n",
       "      <th>Inflight service</th>\n",
       "      <th>Cleanliness</th>\n",
       "      <th>Departure Delay in Minutes</th>\n",
       "      <th>Arrival Delay in Minutes</th>\n",
       "      <th>satisfaction</th>\n",
       "    </tr>\n",
       "  </thead>\n",
       "  <tbody>\n",
       "    <tr>\n",
       "      <th>0</th>\n",
       "      <td>87265</td>\n",
       "      <td>Male</td>\n",
       "      <td>Loyal Customer</td>\n",
       "      <td>25</td>\n",
       "      <td>Business travel</td>\n",
       "      <td>Business</td>\n",
       "      <td>3904</td>\n",
       "      <td>4</td>\n",
       "      <td>4</td>\n",
       "      <td>1</td>\n",
       "      <td>...</td>\n",
       "      <td>5</td>\n",
       "      <td>3</td>\n",
       "      <td>3</td>\n",
       "      <td>4</td>\n",
       "      <td>4</td>\n",
       "      <td>5</td>\n",
       "      <td>5</td>\n",
       "      <td>0</td>\n",
       "      <td>0.0</td>\n",
       "      <td>satisfied</td>\n",
       "    </tr>\n",
       "    <tr>\n",
       "      <th>1</th>\n",
       "      <td>65499</td>\n",
       "      <td>Female</td>\n",
       "      <td>disloyal Customer</td>\n",
       "      <td>26</td>\n",
       "      <td>Business travel</td>\n",
       "      <td>Business</td>\n",
       "      <td>1067</td>\n",
       "      <td>5</td>\n",
       "      <td>5</td>\n",
       "      <td>5</td>\n",
       "      <td>...</td>\n",
       "      <td>4</td>\n",
       "      <td>3</td>\n",
       "      <td>2</td>\n",
       "      <td>5</td>\n",
       "      <td>3</td>\n",
       "      <td>5</td>\n",
       "      <td>4</td>\n",
       "      <td>0</td>\n",
       "      <td>0.0</td>\n",
       "      <td>satisfied</td>\n",
       "    </tr>\n",
       "    <tr>\n",
       "      <th>2</th>\n",
       "      <td>10789</td>\n",
       "      <td>Female</td>\n",
       "      <td>Loyal Customer</td>\n",
       "      <td>55</td>\n",
       "      <td>Business travel</td>\n",
       "      <td>Business</td>\n",
       "      <td>3953</td>\n",
       "      <td>4</td>\n",
       "      <td>5</td>\n",
       "      <td>5</td>\n",
       "      <td>...</td>\n",
       "      <td>4</td>\n",
       "      <td>4</td>\n",
       "      <td>4</td>\n",
       "      <td>4</td>\n",
       "      <td>4</td>\n",
       "      <td>4</td>\n",
       "      <td>4</td>\n",
       "      <td>0</td>\n",
       "      <td>11.0</td>\n",
       "      <td>neutral or dissatisfied</td>\n",
       "    </tr>\n",
       "    <tr>\n",
       "      <th>3</th>\n",
       "      <td>5490</td>\n",
       "      <td>Male</td>\n",
       "      <td>Loyal Customer</td>\n",
       "      <td>32</td>\n",
       "      <td>Business travel</td>\n",
       "      <td>Eco</td>\n",
       "      <td>910</td>\n",
       "      <td>1</td>\n",
       "      <td>1</td>\n",
       "      <td>1</td>\n",
       "      <td>...</td>\n",
       "      <td>1</td>\n",
       "      <td>1</td>\n",
       "      <td>1</td>\n",
       "      <td>4</td>\n",
       "      <td>4</td>\n",
       "      <td>3</td>\n",
       "      <td>1</td>\n",
       "      <td>0</td>\n",
       "      <td>0.0</td>\n",
       "      <td>neutral or dissatisfied</td>\n",
       "    </tr>\n",
       "    <tr>\n",
       "      <th>4</th>\n",
       "      <td>99452</td>\n",
       "      <td>Female</td>\n",
       "      <td>Loyal Customer</td>\n",
       "      <td>36</td>\n",
       "      <td>Business travel</td>\n",
       "      <td>Business</td>\n",
       "      <td>283</td>\n",
       "      <td>1</td>\n",
       "      <td>1</td>\n",
       "      <td>1</td>\n",
       "      <td>...</td>\n",
       "      <td>5</td>\n",
       "      <td>5</td>\n",
       "      <td>5</td>\n",
       "      <td>5</td>\n",
       "      <td>3</td>\n",
       "      <td>5</td>\n",
       "      <td>3</td>\n",
       "      <td>17</td>\n",
       "      <td>20.0</td>\n",
       "      <td>satisfied</td>\n",
       "    </tr>\n",
       "  </tbody>\n",
       "</table>\n",
       "<p>5 rows × 24 columns</p>\n",
       "</div>"
      ],
      "text/plain": [
       "      id  Gender      Customer Type  Age   Type of Travel     Class  \\\n",
       "0  87265    Male     Loyal Customer   25  Business travel  Business   \n",
       "1  65499  Female  disloyal Customer   26  Business travel  Business   \n",
       "2  10789  Female     Loyal Customer   55  Business travel  Business   \n",
       "3   5490    Male     Loyal Customer   32  Business travel       Eco   \n",
       "4  99452  Female     Loyal Customer   36  Business travel  Business   \n",
       "\n",
       "   Flight Distance  Inflight wifi service  Departure/Arrival time convenient  \\\n",
       "0             3904                      4                                  4   \n",
       "1             1067                      5                                  5   \n",
       "2             3953                      4                                  5   \n",
       "3              910                      1                                  1   \n",
       "4              283                      1                                  1   \n",
       "\n",
       "   Ease of Online booking  ...  Inflight entertainment  On-board service  \\\n",
       "0                       1  ...                       5                 3   \n",
       "1                       5  ...                       4                 3   \n",
       "2                       5  ...                       4                 4   \n",
       "3                       1  ...                       1                 1   \n",
       "4                       1  ...                       5                 5   \n",
       "\n",
       "   Leg room service  Baggage handling  Checkin service  Inflight service  \\\n",
       "0                 3                 4                4                 5   \n",
       "1                 2                 5                3                 5   \n",
       "2                 4                 4                4                 4   \n",
       "3                 1                 4                4                 3   \n",
       "4                 5                 5                3                 5   \n",
       "\n",
       "   Cleanliness  Departure Delay in Minutes  Arrival Delay in Minutes  \\\n",
       "0            5                           0                       0.0   \n",
       "1            4                           0                       0.0   \n",
       "2            4                           0                      11.0   \n",
       "3            1                           0                       0.0   \n",
       "4            3                          17                      20.0   \n",
       "\n",
       "              satisfaction  \n",
       "0                satisfied  \n",
       "1                satisfied  \n",
       "2  neutral or dissatisfied  \n",
       "3  neutral or dissatisfied  \n",
       "4                satisfied  \n",
       "\n",
       "[5 rows x 24 columns]"
      ]
     },
     "execution_count": 2,
     "metadata": {},
     "output_type": "execute_result"
    }
   ],
   "source": [
    "# read the datafile\n",
    "df = pd.read_csv(\"satisfaction_train.csv\")\n",
    "\n",
    "df.head()"
   ]
  },
  {
   "cell_type": "code",
   "execution_count": 3,
   "id": "d593fb13",
   "metadata": {},
   "outputs": [],
   "source": [
    "numerical_cols = ['Age', 'Flight Distance', 'Inflight wifi service', 'Departure/Arrival time convenient', 'Ease of Online booking', 'Gate location', 'Food and drink', 'Online boarding', 'Seat comfort', 'Inflight entertainment', 'On-board service', 'Leg room service', 'Baggage handling', 'Checkin service', 'Inflight service', 'Cleanliness', 'Departure Delay in Minutes', 'Arrival Delay in Minutes']\n",
    "categorical_cols = ['Gender', 'Customer Type', 'Type of Travel', 'Class', 'satisfaction']\n",
    "df = df.drop(columns = ['id'])"
   ]
  },
  {
   "cell_type": "code",
   "execution_count": 4,
   "id": "5f4b2591",
   "metadata": {},
   "outputs": [],
   "source": [
    "X = df.copy()\n",
    "y = X.pop(\"satisfaction\")\n",
    "X_train, X_test, y_train, y_test = train_test_split(X, y, test_size = 0.2, random_state = 0)"
   ]
  },
  {
   "cell_type": "code",
   "execution_count": null,
   "id": "13c9ea47",
   "metadata": {},
   "outputs": [],
   "source": []
  },
  {
   "cell_type": "code",
   "execution_count": null,
   "id": "506757b0",
   "metadata": {},
   "outputs": [],
   "source": []
  },
  {
   "cell_type": "markdown",
   "id": "f3c146a5",
   "metadata": {},
   "source": [
    "## 1. Data Preprocessing"
   ]
  },
  {
   "cell_type": "code",
   "execution_count": 5,
   "id": "0c0bac9c",
   "metadata": {},
   "outputs": [],
   "source": [
    "# ФУНКЦИИ для автотматизации подготовки данных\n",
    "\n",
    "def fill_missing_values(df: pd.DataFrame, strategy: str ='mean') -> pd.DataFrame:\n",
    "    \"\"\"Заполнение пустых значений указанными стратегиями\"\"\"\n",
    "    df = df.copy()\n",
    "    fill_value = 0\n",
    "    for column in df.columns:\n",
    "        if strategy == 'mean':\n",
    "            fill_value = df[column].mean()\n",
    "        elif strategy == 'median':\n",
    "            fill_value = df[column].median()\n",
    "        elif strategy == 'mode':\n",
    "            fill_value = df[column].mode()[0] # берем первую моду\n",
    "            \n",
    "        ### TO DO\n",
    "        df[column].fillna( value = fill_value, inplace=True )\n",
    "    return df\n",
    "\n",
    "\n",
    "def one_hot_encoder(df: pd.DataFrame, columns: list) -> pd.DataFrame:\n",
    "    \"\"\"Категорийные данные в численные\"\"\"\n",
    "    df = df.copy()\n",
    "    # Убираем численные столбцы - их не трогаем\n",
    "    df_num = df.drop(columns = columns)\n",
    "    \n",
    "    # В датафрейме оставляем только категорийные столбцы\n",
    "    df = df[columns].copy()\n",
    "    \n",
    "    # Новый датафрейм который будем возвращать\n",
    "    df_prep = pd.DataFrame()\n",
    "    \n",
    "    for column in df.columns:\n",
    "        # Уникальные значения столбца\n",
    "        unique_values = df[column].unique()\n",
    "        # Если уникальных значений меньше 2, то просто replace\n",
    "        if len(unique_values) <= 2:\n",
    "            df_prep[column] = df[column]\n",
    "            for i in range(len(unique_values)):\n",
    "                df_prep[column] = df_prep[column].replace({unique_values[i]: i})\n",
    "        else: # Иначе get_dummies\n",
    "            dummies = pd.get_dummies( df[column], prefix=column )\n",
    "            df_prep = pd.concat([df_prep, dummies], axis=1)\n",
    "    \n",
    "    # Соединяем численные и категорийные столбцы\n",
    "    return pd.concat([df_num, df_prep], axis=1)"
   ]
  },
  {
   "cell_type": "code",
   "execution_count": 6,
   "id": "624ee2d4",
   "metadata": {},
   "outputs": [],
   "source": [
    "df[numerical_cols] = fill_missing_values( df[numerical_cols] )\n",
    "df[categorical_cols] = fill_missing_values(df[categorical_cols], strategy='mode')\n",
    "df = one_hot_encoder( df, categorical_cols )"
   ]
  },
  {
   "cell_type": "code",
   "execution_count": 7,
   "id": "3bf0140f",
   "metadata": {},
   "outputs": [],
   "source": [
    "X = df.copy()\n",
    "\n",
    "y = X.pop('satisfaction')"
   ]
  },
  {
   "cell_type": "code",
   "execution_count": 8,
   "id": "5e9ca662",
   "metadata": {},
   "outputs": [],
   "source": [
    "X_train, X_test, y_train, y_test = train_test_split(X, y, test_size = 0.2, random_state = 0)"
   ]
  },
  {
   "cell_type": "code",
   "execution_count": null,
   "id": "2803185a",
   "metadata": {},
   "outputs": [],
   "source": []
  },
  {
   "cell_type": "markdown",
   "id": "9ce5982d",
   "metadata": {},
   "source": [
    "## 2. Modeling"
   ]
  },
  {
   "cell_type": "code",
   "execution_count": 10,
   "id": "a28a333e",
   "metadata": {},
   "outputs": [
    {
     "data": {
      "text/plain": [
       "(1.0, 0.9615625)"
      ]
     },
     "execution_count": 10,
     "metadata": {},
     "output_type": "execute_result"
    }
   ],
   "source": [
    "model = RandomForestClassifier(\n",
    "                               max_depth = None,\n",
    "                               min_samples_split = 2,\n",
    "                               n_estimators = 300)\n",
    "\n",
    "\n",
    "\n",
    "model.fit(X_train, y_train)\n",
    "model.score(X_train, y_train), model.score(X_test, y_test)"
   ]
  },
  {
   "cell_type": "code",
   "execution_count": null,
   "id": "53f48264",
   "metadata": {},
   "outputs": [],
   "source": []
  },
  {
   "cell_type": "markdown",
   "id": "d4f7a6fc",
   "metadata": {},
   "source": [
    "## 3. Hyperparameter Tuning (Find Best Parameters)"
   ]
  },
  {
   "cell_type": "code",
   "execution_count": 7,
   "id": "c46eced7",
   "metadata": {},
   "outputs": [],
   "source": [
    "from sklearn.model_selection import GridSearchCV"
   ]
  },
  {
   "cell_type": "code",
   "execution_count": null,
   "id": "fc219221",
   "metadata": {},
   "outputs": [],
   "source": [
    "list_n_estimators = [10, 30, 50, 70, 100, 120, 150, 200, 300]\n",
    "list_max_depth = [1, 2, 4, 6, 8, 10, 13, 17, 20, None]\n",
    "list_min_samples_split = [2, 3, 5, 7, 9, 11, 15]"
   ]
  },
  {
   "cell_type": "code",
   "execution_count": null,
   "id": "ae457a4a",
   "metadata": {},
   "outputs": [],
   "source": [
    "grid = {'n_estimators': list_n_estimators,\n",
    "        'max_depth': list_max_depth,\n",
    "        'min_samples_split': list_min_samples_split}"
   ]
  },
  {
   "cell_type": "code",
   "execution_count": null,
   "id": "ad7830ce",
   "metadata": {},
   "outputs": [],
   "source": [
    "model = RandomForestClassifier(random_state = 1)"
   ]
  },
  {
   "cell_type": "code",
   "execution_count": null,
   "id": "0ccad109",
   "metadata": {},
   "outputs": [],
   "source": [
    "search = GridSearchCV(estimator = model,\n",
    "                      param_grid = grid,\n",
    "                      n_jobs = -1,\n",
    "                      cv = 3,\n",
    "                     error_score='raise')"
   ]
  },
  {
   "cell_type": "code",
   "execution_count": null,
   "id": "bec22af0",
   "metadata": {},
   "outputs": [],
   "source": [
    "%%time\n",
    "search.fit(X_train, y_train)"
   ]
  },
  {
   "cell_type": "code",
   "execution_count": null,
   "id": "9b4df267",
   "metadata": {},
   "outputs": [],
   "source": [
    "search.best_params_"
   ]
  },
  {
   "cell_type": "code",
   "execution_count": null,
   "id": "ba40edbb",
   "metadata": {},
   "outputs": [],
   "source": [
    "model = RandomForestClassifier(\n",
    "                               max_depth = None,\n",
    "                               min_samples_split = 2,\n",
    "                               n_estimators = 300)\n",
    "\n",
    "\n",
    "\n",
    "model.fit(X_train, y_train)\n",
    "model.score(X_train, y_train), model.score(X_test, y_test)"
   ]
  },
  {
   "cell_type": "markdown",
   "id": "a8cced09",
   "metadata": {},
   "source": [
    "## 4. Write Pipeline For Data Preparation and Prediction"
   ]
  },
  {
   "cell_type": "code",
   "execution_count": null,
   "id": "033aa8a5",
   "metadata": {},
   "outputs": [],
   "source": []
  },
  {
   "cell_type": "code",
   "execution_count": null,
   "id": "151494fb",
   "metadata": {
    "scrolled": true
   },
   "outputs": [],
   "source": []
  },
  {
   "cell_type": "code",
   "execution_count": 14,
   "id": "be806cce",
   "metadata": {},
   "outputs": [],
   "source": [
    "# ФУНКЦИИ для автотматизации подготовки данных\n",
    "\n",
    "def fill_missing_values(df: pd.DataFrame, strategy: str ='mean') -> pd.DataFrame:\n",
    "    \"\"\"Заполнение пустых значений указанными стратегиями\"\"\"\n",
    "    df = df.copy()\n",
    "    fill_value = 0\n",
    "    for column in df.columns:\n",
    "        if strategy == 'mean':\n",
    "            fill_value = df[column].mean()\n",
    "        elif strategy == 'median':\n",
    "            fill_value = df[column].median()\n",
    "        elif strategy == 'mode':\n",
    "            fill_value = df[column].mode()[0] # берем первую моду\n",
    "            \n",
    "        ### TO DO\n",
    "        df[column].fillna( value = fill_value, inplace=True )\n",
    "    return df\n",
    "\n",
    "\n",
    "def one_hot_encoder(df: pd.DataFrame, columns: list) -> pd.DataFrame:\n",
    "    \"\"\"Категорийные данные в численные\"\"\"\n",
    "    df = df.copy()\n",
    "    # Убираем численные столбцы - их не трогаем\n",
    "    df_num = df.drop(columns = columns)\n",
    "    \n",
    "    # В датафрейме оставляем только категорийные столбцы\n",
    "    df = df[columns].copy()\n",
    "    \n",
    "    # Новый датафрейм который будем возвращать\n",
    "    df_prep = pd.DataFrame()\n",
    "    \n",
    "    for column in df.columns:\n",
    "        # Уникальные значения столбца\n",
    "        unique_values = df[column].unique()\n",
    "        # Если уникальных значений меньше 2, то просто replace\n",
    "        if len(unique_values) <= 2:\n",
    "            df_prep[column] = df[column]\n",
    "            for i in range(len(unique_values)):\n",
    "                df_prep[column] = df_prep[column].replace({unique_values[i]: i})\n",
    "        else: # Иначе get_dummies\n",
    "            dummies = pd.get_dummies( df[column], prefix=column )\n",
    "            df_prep = pd.concat([df_prep, dummies], axis=1)\n",
    "    \n",
    "    # Соединяем численные и категорийные столбцы\n",
    "    return pd.concat([df_num, df_prep], axis=1)"
   ]
  },
  {
   "cell_type": "markdown",
   "id": "78c3469e",
   "metadata": {},
   "source": [
    "## 5. Predict Test Data"
   ]
  },
  {
   "cell_type": "markdown",
   "id": "bd4a2447",
   "metadata": {},
   "source": [
    "### Read and Prepare test data using your pipeline"
   ]
  },
  {
   "cell_type": "code",
   "execution_count": 11,
   "id": "0ff760b5",
   "metadata": {},
   "outputs": [],
   "source": [
    "df = pd.read_csv(\"satisfaction_test.csv\")"
   ]
  },
  {
   "cell_type": "code",
   "execution_count": 12,
   "id": "8985d743",
   "metadata": {},
   "outputs": [
    {
     "data": {
      "text/html": [
       "<div>\n",
       "<style scoped>\n",
       "    .dataframe tbody tr th:only-of-type {\n",
       "        vertical-align: middle;\n",
       "    }\n",
       "\n",
       "    .dataframe tbody tr th {\n",
       "        vertical-align: top;\n",
       "    }\n",
       "\n",
       "    .dataframe thead th {\n",
       "        text-align: right;\n",
       "    }\n",
       "</style>\n",
       "<table border=\"1\" class=\"dataframe\">\n",
       "  <thead>\n",
       "    <tr style=\"text-align: right;\">\n",
       "      <th></th>\n",
       "      <th>id</th>\n",
       "      <th>Gender</th>\n",
       "      <th>Customer Type</th>\n",
       "      <th>Age</th>\n",
       "      <th>Type of Travel</th>\n",
       "      <th>Class</th>\n",
       "      <th>Flight Distance</th>\n",
       "      <th>Inflight wifi service</th>\n",
       "      <th>Departure/Arrival time convenient</th>\n",
       "      <th>Ease of Online booking</th>\n",
       "      <th>...</th>\n",
       "      <th>Seat comfort</th>\n",
       "      <th>Inflight entertainment</th>\n",
       "      <th>On-board service</th>\n",
       "      <th>Leg room service</th>\n",
       "      <th>Baggage handling</th>\n",
       "      <th>Checkin service</th>\n",
       "      <th>Inflight service</th>\n",
       "      <th>Cleanliness</th>\n",
       "      <th>Departure Delay in Minutes</th>\n",
       "      <th>Arrival Delay in Minutes</th>\n",
       "    </tr>\n",
       "  </thead>\n",
       "  <tbody>\n",
       "    <tr>\n",
       "      <th>0</th>\n",
       "      <td>86338</td>\n",
       "      <td>Female</td>\n",
       "      <td>Loyal Customer</td>\n",
       "      <td>31</td>\n",
       "      <td>Business travel</td>\n",
       "      <td>Business</td>\n",
       "      <td>1669</td>\n",
       "      <td>1</td>\n",
       "      <td>1</td>\n",
       "      <td>1</td>\n",
       "      <td>...</td>\n",
       "      <td>4</td>\n",
       "      <td>4</td>\n",
       "      <td>3</td>\n",
       "      <td>2</td>\n",
       "      <td>5</td>\n",
       "      <td>3</td>\n",
       "      <td>4</td>\n",
       "      <td>4</td>\n",
       "      <td>2</td>\n",
       "      <td>14.0</td>\n",
       "    </tr>\n",
       "    <tr>\n",
       "      <th>1</th>\n",
       "      <td>102382</td>\n",
       "      <td>Male</td>\n",
       "      <td>Loyal Customer</td>\n",
       "      <td>38</td>\n",
       "      <td>Business travel</td>\n",
       "      <td>Eco</td>\n",
       "      <td>397</td>\n",
       "      <td>5</td>\n",
       "      <td>4</td>\n",
       "      <td>4</td>\n",
       "      <td>...</td>\n",
       "      <td>5</td>\n",
       "      <td>5</td>\n",
       "      <td>4</td>\n",
       "      <td>5</td>\n",
       "      <td>4</td>\n",
       "      <td>3</td>\n",
       "      <td>2</td>\n",
       "      <td>5</td>\n",
       "      <td>0</td>\n",
       "      <td>0.0</td>\n",
       "    </tr>\n",
       "    <tr>\n",
       "      <th>2</th>\n",
       "      <td>123516</td>\n",
       "      <td>Female</td>\n",
       "      <td>Loyal Customer</td>\n",
       "      <td>69</td>\n",
       "      <td>Personal Travel</td>\n",
       "      <td>Eco</td>\n",
       "      <td>2296</td>\n",
       "      <td>3</td>\n",
       "      <td>5</td>\n",
       "      <td>4</td>\n",
       "      <td>...</td>\n",
       "      <td>5</td>\n",
       "      <td>3</td>\n",
       "      <td>3</td>\n",
       "      <td>4</td>\n",
       "      <td>3</td>\n",
       "      <td>4</td>\n",
       "      <td>3</td>\n",
       "      <td>3</td>\n",
       "      <td>0</td>\n",
       "      <td>0.0</td>\n",
       "    </tr>\n",
       "    <tr>\n",
       "      <th>3</th>\n",
       "      <td>88120</td>\n",
       "      <td>Male</td>\n",
       "      <td>Loyal Customer</td>\n",
       "      <td>64</td>\n",
       "      <td>Business travel</td>\n",
       "      <td>Business</td>\n",
       "      <td>406</td>\n",
       "      <td>1</td>\n",
       "      <td>1</td>\n",
       "      <td>1</td>\n",
       "      <td>...</td>\n",
       "      <td>4</td>\n",
       "      <td>5</td>\n",
       "      <td>5</td>\n",
       "      <td>5</td>\n",
       "      <td>5</td>\n",
       "      <td>3</td>\n",
       "      <td>5</td>\n",
       "      <td>3</td>\n",
       "      <td>23</td>\n",
       "      <td>17.0</td>\n",
       "    </tr>\n",
       "    <tr>\n",
       "      <th>4</th>\n",
       "      <td>6557</td>\n",
       "      <td>Male</td>\n",
       "      <td>Loyal Customer</td>\n",
       "      <td>47</td>\n",
       "      <td>Business travel</td>\n",
       "      <td>Business</td>\n",
       "      <td>2022</td>\n",
       "      <td>5</td>\n",
       "      <td>5</td>\n",
       "      <td>5</td>\n",
       "      <td>...</td>\n",
       "      <td>5</td>\n",
       "      <td>4</td>\n",
       "      <td>4</td>\n",
       "      <td>4</td>\n",
       "      <td>4</td>\n",
       "      <td>5</td>\n",
       "      <td>4</td>\n",
       "      <td>3</td>\n",
       "      <td>0</td>\n",
       "      <td>NaN</td>\n",
       "    </tr>\n",
       "  </tbody>\n",
       "</table>\n",
       "<p>5 rows × 23 columns</p>\n",
       "</div>"
      ],
      "text/plain": [
       "       id  Gender   Customer Type  Age   Type of Travel     Class  \\\n",
       "0   86338  Female  Loyal Customer   31  Business travel  Business   \n",
       "1  102382    Male  Loyal Customer   38  Business travel       Eco   \n",
       "2  123516  Female  Loyal Customer   69  Personal Travel       Eco   \n",
       "3   88120    Male  Loyal Customer   64  Business travel  Business   \n",
       "4    6557    Male  Loyal Customer   47  Business travel  Business   \n",
       "\n",
       "   Flight Distance  Inflight wifi service  Departure/Arrival time convenient  \\\n",
       "0             1669                      1                                  1   \n",
       "1              397                      5                                  4   \n",
       "2             2296                      3                                  5   \n",
       "3              406                      1                                  1   \n",
       "4             2022                      5                                  5   \n",
       "\n",
       "   Ease of Online booking  ...  Seat comfort  Inflight entertainment  \\\n",
       "0                       1  ...             4                       4   \n",
       "1                       4  ...             5                       5   \n",
       "2                       4  ...             5                       3   \n",
       "3                       1  ...             4                       5   \n",
       "4                       5  ...             5                       4   \n",
       "\n",
       "   On-board service  Leg room service  Baggage handling  Checkin service  \\\n",
       "0                 3                 2                 5                3   \n",
       "1                 4                 5                 4                3   \n",
       "2                 3                 4                 3                4   \n",
       "3                 5                 5                 5                3   \n",
       "4                 4                 4                 4                5   \n",
       "\n",
       "   Inflight service  Cleanliness  Departure Delay in Minutes  \\\n",
       "0                 4            4                           2   \n",
       "1                 2            5                           0   \n",
       "2                 3            3                           0   \n",
       "3                 5            3                          23   \n",
       "4                 4            3                           0   \n",
       "\n",
       "   Arrival Delay in Minutes  \n",
       "0                      14.0  \n",
       "1                       0.0  \n",
       "2                       0.0  \n",
       "3                      17.0  \n",
       "4                       NaN  \n",
       "\n",
       "[5 rows x 23 columns]"
      ]
     },
     "execution_count": 12,
     "metadata": {},
     "output_type": "execute_result"
    }
   ],
   "source": [
    "df.head()"
   ]
  },
  {
   "cell_type": "code",
   "execution_count": 13,
   "id": "9fc105d7",
   "metadata": {},
   "outputs": [],
   "source": [
    "numerical_cols = ['Age', 'Flight Distance', 'Inflight wifi service', 'Departure/Arrival time convenient', 'Ease of Online booking', 'Gate location', 'Food and drink', 'Online boarding', 'Seat comfort', 'Inflight entertainment', 'On-board service', 'Leg room service', 'Baggage handling', 'Checkin service', 'Inflight service', 'Cleanliness', 'Departure Delay in Minutes', 'Arrival Delay in Minutes']\n",
    "categorical_cols = ['Gender', 'Customer Type', 'Type of Travel', 'Class']\n",
    "df = df.drop(columns = ['id'])"
   ]
  },
  {
   "cell_type": "code",
   "execution_count": 15,
   "id": "29d62262",
   "metadata": {},
   "outputs": [],
   "source": [
    "df[numerical_cols] = fill_missing_values( df[numerical_cols] )\n",
    "df[categorical_cols] = fill_missing_values(df[categorical_cols], strategy='mode')\n",
    "df = one_hot_encoder( df, categorical_cols )\n"
   ]
  },
  {
   "cell_type": "code",
   "execution_count": null,
   "id": "f4ff2b5d",
   "metadata": {},
   "outputs": [],
   "source": []
  },
  {
   "cell_type": "code",
   "execution_count": 16,
   "id": "2cbdaa00",
   "metadata": {},
   "outputs": [
    {
     "name": "stdout",
     "output_type": "stream",
     "text": [
      "RANDOM FOREST: 0.9615625\n"
     ]
    }
   ],
   "source": [
    "score=model.score(X_test,y_test)\n",
    "print(\"RANDOM FOREST:\", score)"
   ]
  },
  {
   "cell_type": "code",
   "execution_count": null,
   "id": "60c974cd",
   "metadata": {},
   "outputs": [],
   "source": []
  },
  {
   "cell_type": "markdown",
   "id": "25781fa5",
   "metadata": {},
   "source": [
    "### Make a prediction using your best model:"
   ]
  },
  {
   "cell_type": "code",
   "execution_count": 249,
   "id": "eb00177c",
   "metadata": {},
   "outputs": [],
   "source": [
    "def predict(data, model_name):\n",
    "    with open('Almazmodel.pkl', 'rb') as file:\n",
    "        model = pickle.load(file)\n",
    "        \n",
    "    y_pred = model.predict(data)\n",
    "    return y_pred"
   ]
  },
  {
   "cell_type": "code",
   "execution_count": 17,
   "id": "8290e756",
   "metadata": {},
   "outputs": [
    {
     "data": {
      "text/plain": [
       "1.0"
      ]
     },
     "execution_count": 17,
     "metadata": {},
     "output_type": "execute_result"
    }
   ],
   "source": [
    "y_test_pred = model.predict(X_train)\n",
    "\n",
    "model.predict(X_train)\n",
    "model.score(X_train , y_train)"
   ]
  },
  {
   "cell_type": "code",
   "execution_count": 20,
   "id": "b023caea",
   "metadata": {},
   "outputs": [],
   "source": [
    "y_pred = model.predict(df)\n",
    "\n",
    "\n",
    "df_predictions = pd.DataFrame({\n",
    "    'my_pred': y_pred\n",
    "})\n",
    "df_predictions.to_csv('ALMAZ AKZHOLTEV LAB3 PRED.csv', index=False)"
   ]
  },
  {
   "cell_type": "markdown",
   "id": "f1b51056",
   "metadata": {},
   "source": [
    "### Save predictions as `YourName.csv` and submit csv file and this notebook in ecourse\n",
    "\n",
    "HINT: Use `df.to_csv('YourName.csv', index=False)`"
   ]
  },
  {
   "cell_type": "code",
   "execution_count": 252,
   "id": "9ec0405e",
   "metadata": {},
   "outputs": [],
   "source": [
    "df.to_csv('ALMAZ AKZHOLTEV FINAL.csv', index=False)"
   ]
  },
  {
   "cell_type": "code",
   "execution_count": null,
   "id": "85eac6b0",
   "metadata": {},
   "outputs": [],
   "source": []
  },
  {
   "cell_type": "code",
   "execution_count": null,
   "id": "4e39e46c",
   "metadata": {},
   "outputs": [],
   "source": []
  },
  {
   "cell_type": "code",
   "execution_count": null,
   "id": "115947a6",
   "metadata": {},
   "outputs": [],
   "source": []
  }
 ],
 "metadata": {
  "kernelspec": {
   "display_name": "Python 3 (ipykernel)",
   "language": "python",
   "name": "python3"
  },
  "language_info": {
   "codemirror_mode": {
    "name": "ipython",
    "version": 3
   },
   "file_extension": ".py",
   "mimetype": "text/x-python",
   "name": "python",
   "nbconvert_exporter": "python",
   "pygments_lexer": "ipython3",
   "version": "3.11.4"
  }
 },
 "nbformat": 4,
 "nbformat_minor": 5
}
