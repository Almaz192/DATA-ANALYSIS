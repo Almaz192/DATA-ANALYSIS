{
 "cells": [
  {
   "cell_type": "markdown",
   "id": "cdccd240",
   "metadata": {},
   "source": [
    "# Part 1. Data Analysis (2.5 p.)"
   ]
  },
  {
   "cell_type": "markdown",
   "id": "bd564943",
   "metadata": {},
   "source": [
    "train.csv - Personal records for about ~8700 of the passengers, to be used as training data.\n",
    "* `PassengerId` - A unique Id for each passenger.\n",
    "* `HomePlanet` - The planet the passenger departed from, typically their planet of permanent residence.\n",
    "* `CryoSleep` - Indicates whether the passenger elected to be put into suspended animation for the duration of the voyage. Passengers in cryosleep are confined to their cabins.\n",
    "* `Cabin` - The cabin number where the passenger is staying. Takes the form deck/num/side, where side can be either P for Port or S for Starboard.\n",
    "* `Destination` - The planet the passenger will be debarking to.\n",
    "* `Age` - The age of the passenger.\n",
    "* `VIP` - Whether the passenger has paid for special VIP service during the voyage.\n",
    "* `RoomService`, `FoodCourt`, `ShoppingMall`, `Spa`, `VRDeck` - Amount the passenger has billed at each of the Spaceship Titanic's many luxury amenities.\n",
    "* `Name` - The first and last names of the passenger.\n",
    "* `Transported` - Whether the passenger was transported to another dimension. **This is the target, the column you are trying to predict!**"
   ]
  },
  {
   "cell_type": "code",
   "execution_count": 135,
   "id": "96cf19d2",
   "metadata": {},
   "outputs": [],
   "source": [
    "# import libraries: pandas, matplotlib.pyplot, numpy\n",
    "import numpy as np\n",
    "import pandas as pd\n",
    "from matplotlib import pyplot as plt\n"
   ]
  },
  {
   "cell_type": "code",
   "execution_count": 136,
   "id": "e2b7bc78",
   "metadata": {},
   "outputs": [
    {
     "data": {
      "text/html": [
       "<div>\n",
       "<style scoped>\n",
       "    .dataframe tbody tr th:only-of-type {\n",
       "        vertical-align: middle;\n",
       "    }\n",
       "\n",
       "    .dataframe tbody tr th {\n",
       "        vertical-align: top;\n",
       "    }\n",
       "\n",
       "    .dataframe thead th {\n",
       "        text-align: right;\n",
       "    }\n",
       "</style>\n",
       "<table border=\"1\" class=\"dataframe\">\n",
       "  <thead>\n",
       "    <tr style=\"text-align: right;\">\n",
       "      <th></th>\n",
       "      <th>PassengerId</th>\n",
       "      <th>HomePlanet</th>\n",
       "      <th>CryoSleep</th>\n",
       "      <th>Cabin</th>\n",
       "      <th>Destination</th>\n",
       "      <th>Age</th>\n",
       "      <th>VIP</th>\n",
       "      <th>RoomService</th>\n",
       "      <th>FoodCourt</th>\n",
       "      <th>ShoppingMall</th>\n",
       "      <th>Spa</th>\n",
       "      <th>VRDeck</th>\n",
       "      <th>Name</th>\n",
       "      <th>Transported</th>\n",
       "    </tr>\n",
       "  </thead>\n",
       "  <tbody>\n",
       "    <tr>\n",
       "      <th>0</th>\n",
       "      <td>0001_01</td>\n",
       "      <td>Europa</td>\n",
       "      <td>False</td>\n",
       "      <td>B/0/P</td>\n",
       "      <td>TRAPPIST-1e</td>\n",
       "      <td>39.0</td>\n",
       "      <td>False</td>\n",
       "      <td>0.0</td>\n",
       "      <td>0.0</td>\n",
       "      <td>0.0</td>\n",
       "      <td>0.0</td>\n",
       "      <td>0.0</td>\n",
       "      <td>Maham Ofracculy</td>\n",
       "      <td>False</td>\n",
       "    </tr>\n",
       "    <tr>\n",
       "      <th>1</th>\n",
       "      <td>0002_01</td>\n",
       "      <td>Earth</td>\n",
       "      <td>False</td>\n",
       "      <td>F/0/S</td>\n",
       "      <td>TRAPPIST-1e</td>\n",
       "      <td>24.0</td>\n",
       "      <td>False</td>\n",
       "      <td>109.0</td>\n",
       "      <td>9.0</td>\n",
       "      <td>25.0</td>\n",
       "      <td>549.0</td>\n",
       "      <td>44.0</td>\n",
       "      <td>Juanna Vines</td>\n",
       "      <td>True</td>\n",
       "    </tr>\n",
       "    <tr>\n",
       "      <th>2</th>\n",
       "      <td>0003_01</td>\n",
       "      <td>Europa</td>\n",
       "      <td>False</td>\n",
       "      <td>A/0/S</td>\n",
       "      <td>TRAPPIST-1e</td>\n",
       "      <td>58.0</td>\n",
       "      <td>True</td>\n",
       "      <td>43.0</td>\n",
       "      <td>3576.0</td>\n",
       "      <td>0.0</td>\n",
       "      <td>6715.0</td>\n",
       "      <td>49.0</td>\n",
       "      <td>Altark Susent</td>\n",
       "      <td>False</td>\n",
       "    </tr>\n",
       "    <tr>\n",
       "      <th>3</th>\n",
       "      <td>0003_02</td>\n",
       "      <td>Europa</td>\n",
       "      <td>False</td>\n",
       "      <td>A/0/S</td>\n",
       "      <td>TRAPPIST-1e</td>\n",
       "      <td>33.0</td>\n",
       "      <td>False</td>\n",
       "      <td>0.0</td>\n",
       "      <td>1283.0</td>\n",
       "      <td>371.0</td>\n",
       "      <td>3329.0</td>\n",
       "      <td>193.0</td>\n",
       "      <td>Solam Susent</td>\n",
       "      <td>False</td>\n",
       "    </tr>\n",
       "    <tr>\n",
       "      <th>4</th>\n",
       "      <td>0004_01</td>\n",
       "      <td>Earth</td>\n",
       "      <td>False</td>\n",
       "      <td>F/1/S</td>\n",
       "      <td>TRAPPIST-1e</td>\n",
       "      <td>16.0</td>\n",
       "      <td>False</td>\n",
       "      <td>303.0</td>\n",
       "      <td>70.0</td>\n",
       "      <td>151.0</td>\n",
       "      <td>565.0</td>\n",
       "      <td>2.0</td>\n",
       "      <td>Willy Santantines</td>\n",
       "      <td>True</td>\n",
       "    </tr>\n",
       "  </tbody>\n",
       "</table>\n",
       "</div>"
      ],
      "text/plain": [
       "  PassengerId HomePlanet CryoSleep  Cabin  Destination   Age    VIP  \\\n",
       "0     0001_01     Europa     False  B/0/P  TRAPPIST-1e  39.0  False   \n",
       "1     0002_01      Earth     False  F/0/S  TRAPPIST-1e  24.0  False   \n",
       "2     0003_01     Europa     False  A/0/S  TRAPPIST-1e  58.0   True   \n",
       "3     0003_02     Europa     False  A/0/S  TRAPPIST-1e  33.0  False   \n",
       "4     0004_01      Earth     False  F/1/S  TRAPPIST-1e  16.0  False   \n",
       "\n",
       "   RoomService  FoodCourt  ShoppingMall     Spa  VRDeck               Name  \\\n",
       "0          0.0        0.0           0.0     0.0     0.0    Maham Ofracculy   \n",
       "1        109.0        9.0          25.0   549.0    44.0       Juanna Vines   \n",
       "2         43.0     3576.0           0.0  6715.0    49.0      Altark Susent   \n",
       "3          0.0     1283.0         371.0  3329.0   193.0       Solam Susent   \n",
       "4        303.0       70.0         151.0   565.0     2.0  Willy Santantines   \n",
       "\n",
       "   Transported  \n",
       "0        False  \n",
       "1         True  \n",
       "2        False  \n",
       "3        False  \n",
       "4         True  "
      ]
     },
     "execution_count": 136,
     "metadata": {},
     "output_type": "execute_result"
    }
   ],
   "source": [
    "# read the 'train.csv'\n",
    "df = pd.read_csv(\"train.csv\")\n",
    "df.head()"
   ]
  },
  {
   "cell_type": "markdown",
   "id": "4d2de855",
   "metadata": {},
   "source": [
    "### 1.1 Which cabin type (`Cabin`) is the most popular among passengers? (0.5 p)"
   ]
  },
  {
   "cell_type": "code",
   "execution_count": 137,
   "id": "c45403bb",
   "metadata": {},
   "outputs": [
    {
     "data": {
      "text/plain": [
       "G/734/S     8\n",
       "G/1368/P    7\n",
       "E/13/S      7\n",
       "G/981/S     7\n",
       "C/137/S     7\n",
       "           ..\n",
       "E/107/P     1\n",
       "E/496/S     1\n",
       "F/1727/S    1\n",
       "F/1137/S    1\n",
       "A/5/P       1\n",
       "Name: Cabin, Length: 6560, dtype: int64"
      ]
     },
     "execution_count": 137,
     "metadata": {},
     "output_type": "execute_result"
    }
   ],
   "source": [
    "# value counts\n",
    "df[\"Cabin\"].value_counts()\n",
    "#G/734/S"
   ]
  },
  {
   "cell_type": "markdown",
   "id": "4b7d78ea",
   "metadata": {},
   "source": [
    "### 1.2 For each `Destination`, how many passengers have VIP status? (0.5 p)"
   ]
  },
  {
   "cell_type": "code",
   "execution_count": 138,
   "id": "52dde823",
   "metadata": {},
   "outputs": [
    {
     "data": {
      "text/plain": [
       "Destination\n",
       "55 Cancri e       65\n",
       "PSO J318.5-22     18\n",
       "TRAPPIST-1e      114\n",
       "Name: VIP, dtype: int64"
      ]
     },
     "execution_count": 138,
     "metadata": {},
     "output_type": "execute_result"
    }
   ],
   "source": [
    "# groupby\n",
    "df.groupby(\"Destination\")[\"VIP\"].sum()\n"
   ]
  },
  {
   "cell_type": "markdown",
   "id": "f689c3b5",
   "metadata": {},
   "source": [
    "### 1.3 What is the average amount spent on the `RoomService`, `FoodCourt`, `ShoppingMall`, `Spa`, and `VRDeck`? Use `mean()` to find out. (0.5 p)"
   ]
  },
  {
   "cell_type": "code",
   "execution_count": 139,
   "id": "b2b212d3",
   "metadata": {},
   "outputs": [
    {
     "name": "stdout",
     "output_type": "stream",
     "text": [
      "224.687617481203\n",
      "458.07720329024676\n",
      "173.72916912197996\n",
      "311.1387779083431\n",
      "304.8547912992357\n"
     ]
    }
   ],
   "source": [
    "# mean\n",
    "rs = df['RoomService'].mean()\n",
    "fc = df['FoodCourt'].mean()\n",
    "sm = df['ShoppingMall'].mean()\n",
    "sp = df['Spa'].mean()\n",
    "vd = df['VRDeck'].mean()\n",
    "print(rs)\n",
    "print(fc)\n",
    "print(sm)\n",
    "print(sp)\n",
    "print(vd)"
   ]
  },
  {
   "cell_type": "markdown",
   "id": "1f5d336d",
   "metadata": {},
   "source": [
    "### 1.4 How many passengers were transported (`Transported` column)? Calculate both the count and the proportion of transported vs. not transported. (0.5 p)"
   ]
  },
  {
   "cell_type": "code",
   "execution_count": 140,
   "id": "3f4cb093",
   "metadata": {},
   "outputs": [
    {
     "data": {
      "text/plain": [
       "True     0.503624\n",
       "False    0.496376\n",
       "Name: Transported, dtype: float64"
      ]
     },
     "execution_count": 140,
     "metadata": {},
     "output_type": "execute_result"
    }
   ],
   "source": [
    "# use value_counts(normalize=True) to calculate percentage\n",
    "df[\"Transported\"].value_counts(normalize=True)"
   ]
  },
  {
   "cell_type": "markdown",
   "id": "f79c558c",
   "metadata": {},
   "source": [
    "### 1.5 Is there a difference in the average age of passengers who were transported versus those who were not? Compare using `groupby()` and `mean()` on the `Transported` column. (0.5 p)"
   ]
  },
  {
   "cell_type": "code",
   "execution_count": null,
   "id": "c4159708",
   "metadata": {},
   "outputs": [],
   "source": []
  },
  {
   "cell_type": "code",
   "execution_count": 217,
   "id": "b14853fa",
   "metadata": {},
   "outputs": [
    {
     "data": {
      "text/plain": [
       "Age\n",
       "0.0     0.808989\n",
       "1.0     0.731343\n",
       "2.0     0.706667\n",
       "3.0     0.786667\n",
       "4.0     0.746479\n",
       "          ...   \n",
       "75.0    0.500000\n",
       "76.0    0.500000\n",
       "77.0    0.500000\n",
       "78.0    0.333333\n",
       "79.0    0.000000\n",
       "Name: Transported, Length: 80, dtype: float64"
      ]
     },
     "execution_count": 217,
     "metadata": {},
     "output_type": "execute_result"
    }
   ],
   "source": [
    "df.groupby(\"Age\")['Transported'].mean()\n"
   ]
  },
  {
   "cell_type": "markdown",
   "id": "a484c473",
   "metadata": {},
   "source": [
    "---\n",
    "# Part 2. Machine Learning (7.5 p.)"
   ]
  },
  {
   "cell_type": "markdown",
   "id": "5d58b941",
   "metadata": {},
   "source": [
    "In this competition your task is to predict whether a passenger was transported to an alternate dimension during the Spaceship Titanic's collision with the spacetime anomaly. To help you make these predictions, you're given a set of personal records recovered from the ship's damaged computer system."
   ]
  },
  {
   "cell_type": "markdown",
   "id": "040ba845",
   "metadata": {},
   "source": [
    "* `Transported` - Whether the passenger was transported to another dimension. **This is the target, the column you are trying to predict!**"
   ]
  },
  {
   "cell_type": "markdown",
   "id": "09b8cb89",
   "metadata": {},
   "source": [
    "## 2.1. Data Preparing (3 p)"
   ]
  },
  {
   "cell_type": "markdown",
   "id": "f21f81fc",
   "metadata": {},
   "source": [
    "#### 2.1.1. Delete unnecessary columns (0.5 p.)"
   ]
  },
  {
   "cell_type": "code",
   "execution_count": 142,
   "id": "28ac2f8c",
   "metadata": {},
   "outputs": [
    {
     "data": {
      "text/html": [
       "<div>\n",
       "<style scoped>\n",
       "    .dataframe tbody tr th:only-of-type {\n",
       "        vertical-align: middle;\n",
       "    }\n",
       "\n",
       "    .dataframe tbody tr th {\n",
       "        vertical-align: top;\n",
       "    }\n",
       "\n",
       "    .dataframe thead th {\n",
       "        text-align: right;\n",
       "    }\n",
       "</style>\n",
       "<table border=\"1\" class=\"dataframe\">\n",
       "  <thead>\n",
       "    <tr style=\"text-align: right;\">\n",
       "      <th></th>\n",
       "      <th>HomePlanet</th>\n",
       "      <th>CryoSleep</th>\n",
       "      <th>Destination</th>\n",
       "      <th>Age</th>\n",
       "      <th>VIP</th>\n",
       "      <th>RoomService</th>\n",
       "      <th>FoodCourt</th>\n",
       "      <th>ShoppingMall</th>\n",
       "      <th>Spa</th>\n",
       "      <th>VRDeck</th>\n",
       "      <th>Transported</th>\n",
       "    </tr>\n",
       "  </thead>\n",
       "  <tbody>\n",
       "    <tr>\n",
       "      <th>0</th>\n",
       "      <td>Europa</td>\n",
       "      <td>False</td>\n",
       "      <td>TRAPPIST-1e</td>\n",
       "      <td>39.0</td>\n",
       "      <td>False</td>\n",
       "      <td>0.0</td>\n",
       "      <td>0.0</td>\n",
       "      <td>0.0</td>\n",
       "      <td>0.0</td>\n",
       "      <td>0.0</td>\n",
       "      <td>False</td>\n",
       "    </tr>\n",
       "    <tr>\n",
       "      <th>1</th>\n",
       "      <td>Earth</td>\n",
       "      <td>False</td>\n",
       "      <td>TRAPPIST-1e</td>\n",
       "      <td>24.0</td>\n",
       "      <td>False</td>\n",
       "      <td>109.0</td>\n",
       "      <td>9.0</td>\n",
       "      <td>25.0</td>\n",
       "      <td>549.0</td>\n",
       "      <td>44.0</td>\n",
       "      <td>True</td>\n",
       "    </tr>\n",
       "    <tr>\n",
       "      <th>2</th>\n",
       "      <td>Europa</td>\n",
       "      <td>False</td>\n",
       "      <td>TRAPPIST-1e</td>\n",
       "      <td>58.0</td>\n",
       "      <td>True</td>\n",
       "      <td>43.0</td>\n",
       "      <td>3576.0</td>\n",
       "      <td>0.0</td>\n",
       "      <td>6715.0</td>\n",
       "      <td>49.0</td>\n",
       "      <td>False</td>\n",
       "    </tr>\n",
       "    <tr>\n",
       "      <th>3</th>\n",
       "      <td>Europa</td>\n",
       "      <td>False</td>\n",
       "      <td>TRAPPIST-1e</td>\n",
       "      <td>33.0</td>\n",
       "      <td>False</td>\n",
       "      <td>0.0</td>\n",
       "      <td>1283.0</td>\n",
       "      <td>371.0</td>\n",
       "      <td>3329.0</td>\n",
       "      <td>193.0</td>\n",
       "      <td>False</td>\n",
       "    </tr>\n",
       "    <tr>\n",
       "      <th>4</th>\n",
       "      <td>Earth</td>\n",
       "      <td>False</td>\n",
       "      <td>TRAPPIST-1e</td>\n",
       "      <td>16.0</td>\n",
       "      <td>False</td>\n",
       "      <td>303.0</td>\n",
       "      <td>70.0</td>\n",
       "      <td>151.0</td>\n",
       "      <td>565.0</td>\n",
       "      <td>2.0</td>\n",
       "      <td>True</td>\n",
       "    </tr>\n",
       "    <tr>\n",
       "      <th>...</th>\n",
       "      <td>...</td>\n",
       "      <td>...</td>\n",
       "      <td>...</td>\n",
       "      <td>...</td>\n",
       "      <td>...</td>\n",
       "      <td>...</td>\n",
       "      <td>...</td>\n",
       "      <td>...</td>\n",
       "      <td>...</td>\n",
       "      <td>...</td>\n",
       "      <td>...</td>\n",
       "    </tr>\n",
       "    <tr>\n",
       "      <th>8688</th>\n",
       "      <td>Europa</td>\n",
       "      <td>False</td>\n",
       "      <td>55 Cancri e</td>\n",
       "      <td>41.0</td>\n",
       "      <td>True</td>\n",
       "      <td>0.0</td>\n",
       "      <td>6819.0</td>\n",
       "      <td>0.0</td>\n",
       "      <td>1643.0</td>\n",
       "      <td>74.0</td>\n",
       "      <td>False</td>\n",
       "    </tr>\n",
       "    <tr>\n",
       "      <th>8689</th>\n",
       "      <td>Earth</td>\n",
       "      <td>True</td>\n",
       "      <td>PSO J318.5-22</td>\n",
       "      <td>18.0</td>\n",
       "      <td>False</td>\n",
       "      <td>0.0</td>\n",
       "      <td>0.0</td>\n",
       "      <td>0.0</td>\n",
       "      <td>0.0</td>\n",
       "      <td>0.0</td>\n",
       "      <td>False</td>\n",
       "    </tr>\n",
       "    <tr>\n",
       "      <th>8690</th>\n",
       "      <td>Earth</td>\n",
       "      <td>False</td>\n",
       "      <td>TRAPPIST-1e</td>\n",
       "      <td>26.0</td>\n",
       "      <td>False</td>\n",
       "      <td>0.0</td>\n",
       "      <td>0.0</td>\n",
       "      <td>1872.0</td>\n",
       "      <td>1.0</td>\n",
       "      <td>0.0</td>\n",
       "      <td>True</td>\n",
       "    </tr>\n",
       "    <tr>\n",
       "      <th>8691</th>\n",
       "      <td>Europa</td>\n",
       "      <td>False</td>\n",
       "      <td>55 Cancri e</td>\n",
       "      <td>32.0</td>\n",
       "      <td>False</td>\n",
       "      <td>0.0</td>\n",
       "      <td>1049.0</td>\n",
       "      <td>0.0</td>\n",
       "      <td>353.0</td>\n",
       "      <td>3235.0</td>\n",
       "      <td>False</td>\n",
       "    </tr>\n",
       "    <tr>\n",
       "      <th>8692</th>\n",
       "      <td>Europa</td>\n",
       "      <td>False</td>\n",
       "      <td>TRAPPIST-1e</td>\n",
       "      <td>44.0</td>\n",
       "      <td>False</td>\n",
       "      <td>126.0</td>\n",
       "      <td>4688.0</td>\n",
       "      <td>0.0</td>\n",
       "      <td>0.0</td>\n",
       "      <td>12.0</td>\n",
       "      <td>True</td>\n",
       "    </tr>\n",
       "  </tbody>\n",
       "</table>\n",
       "<p>8693 rows × 11 columns</p>\n",
       "</div>"
      ],
      "text/plain": [
       "     HomePlanet CryoSleep    Destination   Age    VIP  RoomService  FoodCourt  \\\n",
       "0        Europa     False    TRAPPIST-1e  39.0  False          0.0        0.0   \n",
       "1         Earth     False    TRAPPIST-1e  24.0  False        109.0        9.0   \n",
       "2        Europa     False    TRAPPIST-1e  58.0   True         43.0     3576.0   \n",
       "3        Europa     False    TRAPPIST-1e  33.0  False          0.0     1283.0   \n",
       "4         Earth     False    TRAPPIST-1e  16.0  False        303.0       70.0   \n",
       "...         ...       ...            ...   ...    ...          ...        ...   \n",
       "8688     Europa     False    55 Cancri e  41.0   True          0.0     6819.0   \n",
       "8689      Earth      True  PSO J318.5-22  18.0  False          0.0        0.0   \n",
       "8690      Earth     False    TRAPPIST-1e  26.0  False          0.0        0.0   \n",
       "8691     Europa     False    55 Cancri e  32.0  False          0.0     1049.0   \n",
       "8692     Europa     False    TRAPPIST-1e  44.0  False        126.0     4688.0   \n",
       "\n",
       "      ShoppingMall     Spa  VRDeck  Transported  \n",
       "0              0.0     0.0     0.0        False  \n",
       "1             25.0   549.0    44.0         True  \n",
       "2              0.0  6715.0    49.0        False  \n",
       "3            371.0  3329.0   193.0        False  \n",
       "4            151.0   565.0     2.0         True  \n",
       "...            ...     ...     ...          ...  \n",
       "8688           0.0  1643.0    74.0        False  \n",
       "8689           0.0     0.0     0.0        False  \n",
       "8690        1872.0     1.0     0.0         True  \n",
       "8691           0.0   353.0  3235.0        False  \n",
       "8692           0.0     0.0    12.0         True  \n",
       "\n",
       "[8693 rows x 11 columns]"
      ]
     },
     "execution_count": 142,
     "metadata": {},
     "output_type": "execute_result"
    }
   ],
   "source": [
    "# For the purpose of the exam let's delete 'PassengerId', 'Name', 'Cabin' columns\n",
    "df = df.drop(columns=['PassengerId','Name','Cabin'])\n",
    "df"
   ]
  },
  {
   "cell_type": "markdown",
   "id": "3fa80e8e",
   "metadata": {},
   "source": [
    "#### 2.1.2. Fill in the missing values (1.5 p.)\n",
    "\n",
    "```\n",
    "HomePlanet (string)\n",
    "Destination (string)\n",
    "\n",
    "Age (numeric)\n",
    "RoomService (numeric)\n",
    "FoodCourt (numeric)\n",
    "ShoppingMall (numeric)\n",
    "Spa (numeric)\n",
    "VRDeck (numeric)\n",
    "\n",
    "VIP (bool)\n",
    "CryoSleep (bool)\n",
    "```\n",
    "\n",
    "HINT: Use `df['column'].value_counts()` to look at the values and pick the most common value"
   ]
  },
  {
   "cell_type": "code",
   "execution_count": 154,
   "id": "31fe051b",
   "metadata": {},
   "outputs": [
    {
     "data": {
      "text/plain": [
       "HomePlanet      0\n",
       "CryoSleep       0\n",
       "Destination     0\n",
       "Age             0\n",
       "VIP             0\n",
       "RoomService     0\n",
       "FoodCourt       0\n",
       "ShoppingMall    0\n",
       "Spa             0\n",
       "VRDeck          0\n",
       "Transported     0\n",
       "dtype: int64"
      ]
     },
     "execution_count": 154,
     "metadata": {},
     "output_type": "execute_result"
    }
   ],
   "source": [
    "# check the missing values\n",
    "# isnull\n",
    "df.isnull().sum()"
   ]
  },
  {
   "cell_type": "code",
   "execution_count": null,
   "id": "753b706e",
   "metadata": {},
   "outputs": [],
   "source": []
  },
  {
   "cell_type": "code",
   "execution_count": 144,
   "id": "a16e241c",
   "metadata": {},
   "outputs": [
    {
     "data": {
      "text/plain": [
       "Earth     4803\n",
       "Europa    2131\n",
       "Mars      1759\n",
       "Name: HomePlanet, dtype: int64"
      ]
     },
     "execution_count": 144,
     "metadata": {},
     "output_type": "execute_result"
    }
   ],
   "source": [
    "# hint: df[''].fillna(value = )\n",
    "df['HomePlanet'].fillna(value='Earth',inplace=True)\n",
    "df['HomePlanet'].value_counts()"
   ]
  },
  {
   "cell_type": "code",
   "execution_count": 145,
   "id": "e22555f6",
   "metadata": {},
   "outputs": [
    {
     "data": {
      "text/plain": [
       "False    5656\n",
       "True     3037\n",
       "Name: CryoSleep, dtype: int64"
      ]
     },
     "execution_count": 145,
     "metadata": {},
     "output_type": "execute_result"
    }
   ],
   "source": [
    "df['CryoSleep'].fillna(value=False,inplace=True)\n",
    "df['CryoSleep'].value_counts()"
   ]
  },
  {
   "cell_type": "code",
   "execution_count": 146,
   "id": "738d4bcf",
   "metadata": {},
   "outputs": [
    {
     "data": {
      "text/plain": [
       "TRAPPIST-1e      6097\n",
       "55 Cancri e      1800\n",
       "PSO J318.5-22     796\n",
       "Name: Destination, dtype: int64"
      ]
     },
     "execution_count": 146,
     "metadata": {},
     "output_type": "execute_result"
    }
   ],
   "source": [
    "df['Destination'].fillna(value='TRAPPIST-1e',inplace=True)\n",
    "df['Destination'].value_counts()"
   ]
  },
  {
   "cell_type": "code",
   "execution_count": 147,
   "id": "0fe8be0f",
   "metadata": {},
   "outputs": [
    {
     "data": {
      "text/plain": [
       "24.0    503\n",
       "18.0    320\n",
       "21.0    311\n",
       "19.0    293\n",
       "23.0    292\n",
       "       ... \n",
       "75.0      4\n",
       "79.0      3\n",
       "78.0      3\n",
       "77.0      2\n",
       "76.0      2\n",
       "Name: Age, Length: 80, dtype: int64"
      ]
     },
     "execution_count": 147,
     "metadata": {},
     "output_type": "execute_result"
    }
   ],
   "source": [
    "df['Age'].fillna(value=24.0,inplace=True)\n",
    "df['Age'].value_counts()"
   ]
  },
  {
   "cell_type": "code",
   "execution_count": 148,
   "id": "aa14dea9",
   "metadata": {},
   "outputs": [
    {
     "data": {
      "text/plain": [
       "False    8494\n",
       "True      199\n",
       "Name: VIP, dtype: int64"
      ]
     },
     "execution_count": 148,
     "metadata": {},
     "output_type": "execute_result"
    }
   ],
   "source": [
    "df['VIP'].fillna(value=False,inplace=True)\n",
    "df['VIP'].value_counts()"
   ]
  },
  {
   "cell_type": "code",
   "execution_count": 149,
   "id": "2f5821a3",
   "metadata": {},
   "outputs": [
    {
     "data": {
      "text/plain": [
       "0.0       5758\n",
       "1.0        117\n",
       "2.0         79\n",
       "3.0         61\n",
       "4.0         47\n",
       "          ... \n",
       "1230.0       1\n",
       "987.0        1\n",
       "930.0        1\n",
       "3097.0       1\n",
       "1186.0       1\n",
       "Name: RoomService, Length: 1273, dtype: int64"
      ]
     },
     "execution_count": 149,
     "metadata": {},
     "output_type": "execute_result"
    }
   ],
   "source": [
    "df['RoomService'].fillna(value=0.0,inplace=True)\n",
    "df['RoomService'].value_counts()"
   ]
  },
  {
   "cell_type": "code",
   "execution_count": 150,
   "id": "43e6214e",
   "metadata": {},
   "outputs": [
    {
     "data": {
      "text/plain": [
       "0.0       5639\n",
       "1.0        116\n",
       "2.0         75\n",
       "4.0         53\n",
       "3.0         53\n",
       "          ... \n",
       "3206.0       1\n",
       "3879.0       1\n",
       "734.0        1\n",
       "4076.0       1\n",
       "2325.0       1\n",
       "Name: FoodCourt, Length: 1507, dtype: int64"
      ]
     },
     "execution_count": 150,
     "metadata": {},
     "output_type": "execute_result"
    }
   ],
   "source": [
    "df['FoodCourt'].fillna(value=0.0,inplace=True)\n",
    "\n",
    "df['FoodCourt'].value_counts()"
   ]
  },
  {
   "cell_type": "code",
   "execution_count": 151,
   "id": "384a48b8",
   "metadata": {},
   "outputs": [
    {
     "data": {
      "text/plain": [
       "0.0       5795\n",
       "1.0        153\n",
       "2.0         80\n",
       "3.0         59\n",
       "4.0         45\n",
       "          ... \n",
       "2454.0       1\n",
       "1770.0       1\n",
       "871.0        1\n",
       "9058.0       1\n",
       "1031.0       1\n",
       "Name: ShoppingMall, Length: 1115, dtype: int64"
      ]
     },
     "execution_count": 151,
     "metadata": {},
     "output_type": "execute_result"
    }
   ],
   "source": [
    "df['ShoppingMall'].fillna(value=0.0,inplace=True)\n",
    "df['ShoppingMall'].value_counts()"
   ]
  },
  {
   "cell_type": "code",
   "execution_count": 152,
   "id": "3a3d820b",
   "metadata": {},
   "outputs": [
    {
     "data": {
      "text/plain": [
       "0.0       5507\n",
       "1.0        146\n",
       "2.0        105\n",
       "5.0         53\n",
       "3.0         53\n",
       "          ... \n",
       "1104.0       1\n",
       "892.0        1\n",
       "1559.0       1\n",
       "777.0        1\n",
       "2234.0       1\n",
       "Name: Spa, Length: 1327, dtype: int64"
      ]
     },
     "execution_count": 152,
     "metadata": {},
     "output_type": "execute_result"
    }
   ],
   "source": [
    "df['Spa'].fillna(value=0.0,inplace=True)\n",
    "df['Spa'].value_counts()"
   ]
  },
  {
   "cell_type": "code",
   "execution_count": 153,
   "id": "6a1e0a7b",
   "metadata": {},
   "outputs": [
    {
     "data": {
      "text/plain": [
       "0.0        5683\n",
       "1.0         139\n",
       "2.0          70\n",
       "3.0          56\n",
       "5.0          51\n",
       "           ... \n",
       "8040.0        1\n",
       "1920.0        1\n",
       "5913.0        1\n",
       "11213.0       1\n",
       "1543.0        1\n",
       "Name: VRDeck, Length: 1306, dtype: int64"
      ]
     },
     "execution_count": 153,
     "metadata": {},
     "output_type": "execute_result"
    }
   ],
   "source": [
    "df['VRDeck'].fillna(value=0.0,inplace=True)\n",
    "df['VRDeck'].value_counts()"
   ]
  },
  {
   "cell_type": "markdown",
   "id": "d8b8c15c",
   "metadata": {},
   "source": [
    "#### 2.1.3. Convert categorical variables (`HomePlanet` and `Destination`) into dummy variables (0.5 p.)"
   ]
  },
  {
   "cell_type": "code",
   "execution_count": 155,
   "id": "47b76705",
   "metadata": {},
   "outputs": [
    {
     "data": {
      "text/html": [
       "<div>\n",
       "<style scoped>\n",
       "    .dataframe tbody tr th:only-of-type {\n",
       "        vertical-align: middle;\n",
       "    }\n",
       "\n",
       "    .dataframe tbody tr th {\n",
       "        vertical-align: top;\n",
       "    }\n",
       "\n",
       "    .dataframe thead th {\n",
       "        text-align: right;\n",
       "    }\n",
       "</style>\n",
       "<table border=\"1\" class=\"dataframe\">\n",
       "  <thead>\n",
       "    <tr style=\"text-align: right;\">\n",
       "      <th></th>\n",
       "      <th>HomePlanet</th>\n",
       "      <th>CryoSleep</th>\n",
       "      <th>Destination</th>\n",
       "      <th>Age</th>\n",
       "      <th>VIP</th>\n",
       "      <th>RoomService</th>\n",
       "      <th>FoodCourt</th>\n",
       "      <th>ShoppingMall</th>\n",
       "      <th>Spa</th>\n",
       "      <th>VRDeck</th>\n",
       "      <th>Transported</th>\n",
       "    </tr>\n",
       "  </thead>\n",
       "  <tbody>\n",
       "    <tr>\n",
       "      <th>0</th>\n",
       "      <td>Europa</td>\n",
       "      <td>False</td>\n",
       "      <td>TRAPPIST-1e</td>\n",
       "      <td>39.0</td>\n",
       "      <td>False</td>\n",
       "      <td>0.0</td>\n",
       "      <td>0.0</td>\n",
       "      <td>0.0</td>\n",
       "      <td>0.0</td>\n",
       "      <td>0.0</td>\n",
       "      <td>False</td>\n",
       "    </tr>\n",
       "    <tr>\n",
       "      <th>1</th>\n",
       "      <td>Earth</td>\n",
       "      <td>False</td>\n",
       "      <td>TRAPPIST-1e</td>\n",
       "      <td>24.0</td>\n",
       "      <td>False</td>\n",
       "      <td>109.0</td>\n",
       "      <td>9.0</td>\n",
       "      <td>25.0</td>\n",
       "      <td>549.0</td>\n",
       "      <td>44.0</td>\n",
       "      <td>True</td>\n",
       "    </tr>\n",
       "    <tr>\n",
       "      <th>2</th>\n",
       "      <td>Europa</td>\n",
       "      <td>False</td>\n",
       "      <td>TRAPPIST-1e</td>\n",
       "      <td>58.0</td>\n",
       "      <td>True</td>\n",
       "      <td>43.0</td>\n",
       "      <td>3576.0</td>\n",
       "      <td>0.0</td>\n",
       "      <td>6715.0</td>\n",
       "      <td>49.0</td>\n",
       "      <td>False</td>\n",
       "    </tr>\n",
       "    <tr>\n",
       "      <th>3</th>\n",
       "      <td>Europa</td>\n",
       "      <td>False</td>\n",
       "      <td>TRAPPIST-1e</td>\n",
       "      <td>33.0</td>\n",
       "      <td>False</td>\n",
       "      <td>0.0</td>\n",
       "      <td>1283.0</td>\n",
       "      <td>371.0</td>\n",
       "      <td>3329.0</td>\n",
       "      <td>193.0</td>\n",
       "      <td>False</td>\n",
       "    </tr>\n",
       "    <tr>\n",
       "      <th>4</th>\n",
       "      <td>Earth</td>\n",
       "      <td>False</td>\n",
       "      <td>TRAPPIST-1e</td>\n",
       "      <td>16.0</td>\n",
       "      <td>False</td>\n",
       "      <td>303.0</td>\n",
       "      <td>70.0</td>\n",
       "      <td>151.0</td>\n",
       "      <td>565.0</td>\n",
       "      <td>2.0</td>\n",
       "      <td>True</td>\n",
       "    </tr>\n",
       "    <tr>\n",
       "      <th>...</th>\n",
       "      <td>...</td>\n",
       "      <td>...</td>\n",
       "      <td>...</td>\n",
       "      <td>...</td>\n",
       "      <td>...</td>\n",
       "      <td>...</td>\n",
       "      <td>...</td>\n",
       "      <td>...</td>\n",
       "      <td>...</td>\n",
       "      <td>...</td>\n",
       "      <td>...</td>\n",
       "    </tr>\n",
       "    <tr>\n",
       "      <th>8688</th>\n",
       "      <td>Europa</td>\n",
       "      <td>False</td>\n",
       "      <td>55 Cancri e</td>\n",
       "      <td>41.0</td>\n",
       "      <td>True</td>\n",
       "      <td>0.0</td>\n",
       "      <td>6819.0</td>\n",
       "      <td>0.0</td>\n",
       "      <td>1643.0</td>\n",
       "      <td>74.0</td>\n",
       "      <td>False</td>\n",
       "    </tr>\n",
       "    <tr>\n",
       "      <th>8689</th>\n",
       "      <td>Earth</td>\n",
       "      <td>True</td>\n",
       "      <td>PSO J318.5-22</td>\n",
       "      <td>18.0</td>\n",
       "      <td>False</td>\n",
       "      <td>0.0</td>\n",
       "      <td>0.0</td>\n",
       "      <td>0.0</td>\n",
       "      <td>0.0</td>\n",
       "      <td>0.0</td>\n",
       "      <td>False</td>\n",
       "    </tr>\n",
       "    <tr>\n",
       "      <th>8690</th>\n",
       "      <td>Earth</td>\n",
       "      <td>False</td>\n",
       "      <td>TRAPPIST-1e</td>\n",
       "      <td>26.0</td>\n",
       "      <td>False</td>\n",
       "      <td>0.0</td>\n",
       "      <td>0.0</td>\n",
       "      <td>1872.0</td>\n",
       "      <td>1.0</td>\n",
       "      <td>0.0</td>\n",
       "      <td>True</td>\n",
       "    </tr>\n",
       "    <tr>\n",
       "      <th>8691</th>\n",
       "      <td>Europa</td>\n",
       "      <td>False</td>\n",
       "      <td>55 Cancri e</td>\n",
       "      <td>32.0</td>\n",
       "      <td>False</td>\n",
       "      <td>0.0</td>\n",
       "      <td>1049.0</td>\n",
       "      <td>0.0</td>\n",
       "      <td>353.0</td>\n",
       "      <td>3235.0</td>\n",
       "      <td>False</td>\n",
       "    </tr>\n",
       "    <tr>\n",
       "      <th>8692</th>\n",
       "      <td>Europa</td>\n",
       "      <td>False</td>\n",
       "      <td>TRAPPIST-1e</td>\n",
       "      <td>44.0</td>\n",
       "      <td>False</td>\n",
       "      <td>126.0</td>\n",
       "      <td>4688.0</td>\n",
       "      <td>0.0</td>\n",
       "      <td>0.0</td>\n",
       "      <td>12.0</td>\n",
       "      <td>True</td>\n",
       "    </tr>\n",
       "  </tbody>\n",
       "</table>\n",
       "<p>8693 rows × 11 columns</p>\n",
       "</div>"
      ],
      "text/plain": [
       "     HomePlanet  CryoSleep    Destination   Age    VIP  RoomService  \\\n",
       "0        Europa      False    TRAPPIST-1e  39.0  False          0.0   \n",
       "1         Earth      False    TRAPPIST-1e  24.0  False        109.0   \n",
       "2        Europa      False    TRAPPIST-1e  58.0   True         43.0   \n",
       "3        Europa      False    TRAPPIST-1e  33.0  False          0.0   \n",
       "4         Earth      False    TRAPPIST-1e  16.0  False        303.0   \n",
       "...         ...        ...            ...   ...    ...          ...   \n",
       "8688     Europa      False    55 Cancri e  41.0   True          0.0   \n",
       "8689      Earth       True  PSO J318.5-22  18.0  False          0.0   \n",
       "8690      Earth      False    TRAPPIST-1e  26.0  False          0.0   \n",
       "8691     Europa      False    55 Cancri e  32.0  False          0.0   \n",
       "8692     Europa      False    TRAPPIST-1e  44.0  False        126.0   \n",
       "\n",
       "      FoodCourt  ShoppingMall     Spa  VRDeck  Transported  \n",
       "0           0.0           0.0     0.0     0.0        False  \n",
       "1           9.0          25.0   549.0    44.0         True  \n",
       "2        3576.0           0.0  6715.0    49.0        False  \n",
       "3        1283.0         371.0  3329.0   193.0        False  \n",
       "4          70.0         151.0   565.0     2.0         True  \n",
       "...         ...           ...     ...     ...          ...  \n",
       "8688     6819.0           0.0  1643.0    74.0        False  \n",
       "8689        0.0           0.0     0.0     0.0        False  \n",
       "8690        0.0        1872.0     1.0     0.0         True  \n",
       "8691     1049.0           0.0   353.0  3235.0        False  \n",
       "8692     4688.0           0.0     0.0    12.0         True  \n",
       "\n",
       "[8693 rows x 11 columns]"
      ]
     },
     "execution_count": 155,
     "metadata": {},
     "output_type": "execute_result"
    }
   ],
   "source": [
    "df"
   ]
  },
  {
   "cell_type": "code",
   "execution_count": 162,
   "id": "cacafb9f",
   "metadata": {},
   "outputs": [
    {
     "data": {
      "text/html": [
       "<div>\n",
       "<style scoped>\n",
       "    .dataframe tbody tr th:only-of-type {\n",
       "        vertical-align: middle;\n",
       "    }\n",
       "\n",
       "    .dataframe tbody tr th {\n",
       "        vertical-align: top;\n",
       "    }\n",
       "\n",
       "    .dataframe thead th {\n",
       "        text-align: right;\n",
       "    }\n",
       "</style>\n",
       "<table border=\"1\" class=\"dataframe\">\n",
       "  <thead>\n",
       "    <tr style=\"text-align: right;\">\n",
       "      <th></th>\n",
       "      <th>CryoSleep</th>\n",
       "      <th>Age</th>\n",
       "      <th>VIP</th>\n",
       "      <th>RoomService</th>\n",
       "      <th>FoodCourt</th>\n",
       "      <th>ShoppingMall</th>\n",
       "      <th>Spa</th>\n",
       "      <th>VRDeck</th>\n",
       "      <th>Transported</th>\n",
       "      <th>HomePlanet_Earth</th>\n",
       "      <th>HomePlanet_Europa</th>\n",
       "      <th>HomePlanet_Mars</th>\n",
       "      <th>Destination_55 Cancri e</th>\n",
       "      <th>Destination_PSO J318.5-22</th>\n",
       "      <th>Destination_TRAPPIST-1e</th>\n",
       "    </tr>\n",
       "  </thead>\n",
       "  <tbody>\n",
       "    <tr>\n",
       "      <th>0</th>\n",
       "      <td>False</td>\n",
       "      <td>39.0</td>\n",
       "      <td>False</td>\n",
       "      <td>0.0</td>\n",
       "      <td>0.0</td>\n",
       "      <td>0.0</td>\n",
       "      <td>0.0</td>\n",
       "      <td>0.0</td>\n",
       "      <td>False</td>\n",
       "      <td>0</td>\n",
       "      <td>1</td>\n",
       "      <td>0</td>\n",
       "      <td>0</td>\n",
       "      <td>0</td>\n",
       "      <td>1</td>\n",
       "    </tr>\n",
       "    <tr>\n",
       "      <th>1</th>\n",
       "      <td>False</td>\n",
       "      <td>24.0</td>\n",
       "      <td>False</td>\n",
       "      <td>109.0</td>\n",
       "      <td>9.0</td>\n",
       "      <td>25.0</td>\n",
       "      <td>549.0</td>\n",
       "      <td>44.0</td>\n",
       "      <td>True</td>\n",
       "      <td>1</td>\n",
       "      <td>0</td>\n",
       "      <td>0</td>\n",
       "      <td>0</td>\n",
       "      <td>0</td>\n",
       "      <td>1</td>\n",
       "    </tr>\n",
       "    <tr>\n",
       "      <th>2</th>\n",
       "      <td>False</td>\n",
       "      <td>58.0</td>\n",
       "      <td>True</td>\n",
       "      <td>43.0</td>\n",
       "      <td>3576.0</td>\n",
       "      <td>0.0</td>\n",
       "      <td>6715.0</td>\n",
       "      <td>49.0</td>\n",
       "      <td>False</td>\n",
       "      <td>0</td>\n",
       "      <td>1</td>\n",
       "      <td>0</td>\n",
       "      <td>0</td>\n",
       "      <td>0</td>\n",
       "      <td>1</td>\n",
       "    </tr>\n",
       "    <tr>\n",
       "      <th>3</th>\n",
       "      <td>False</td>\n",
       "      <td>33.0</td>\n",
       "      <td>False</td>\n",
       "      <td>0.0</td>\n",
       "      <td>1283.0</td>\n",
       "      <td>371.0</td>\n",
       "      <td>3329.0</td>\n",
       "      <td>193.0</td>\n",
       "      <td>False</td>\n",
       "      <td>0</td>\n",
       "      <td>1</td>\n",
       "      <td>0</td>\n",
       "      <td>0</td>\n",
       "      <td>0</td>\n",
       "      <td>1</td>\n",
       "    </tr>\n",
       "    <tr>\n",
       "      <th>4</th>\n",
       "      <td>False</td>\n",
       "      <td>16.0</td>\n",
       "      <td>False</td>\n",
       "      <td>303.0</td>\n",
       "      <td>70.0</td>\n",
       "      <td>151.0</td>\n",
       "      <td>565.0</td>\n",
       "      <td>2.0</td>\n",
       "      <td>True</td>\n",
       "      <td>1</td>\n",
       "      <td>0</td>\n",
       "      <td>0</td>\n",
       "      <td>0</td>\n",
       "      <td>0</td>\n",
       "      <td>1</td>\n",
       "    </tr>\n",
       "    <tr>\n",
       "      <th>...</th>\n",
       "      <td>...</td>\n",
       "      <td>...</td>\n",
       "      <td>...</td>\n",
       "      <td>...</td>\n",
       "      <td>...</td>\n",
       "      <td>...</td>\n",
       "      <td>...</td>\n",
       "      <td>...</td>\n",
       "      <td>...</td>\n",
       "      <td>...</td>\n",
       "      <td>...</td>\n",
       "      <td>...</td>\n",
       "      <td>...</td>\n",
       "      <td>...</td>\n",
       "      <td>...</td>\n",
       "    </tr>\n",
       "    <tr>\n",
       "      <th>8688</th>\n",
       "      <td>False</td>\n",
       "      <td>41.0</td>\n",
       "      <td>True</td>\n",
       "      <td>0.0</td>\n",
       "      <td>6819.0</td>\n",
       "      <td>0.0</td>\n",
       "      <td>1643.0</td>\n",
       "      <td>74.0</td>\n",
       "      <td>False</td>\n",
       "      <td>0</td>\n",
       "      <td>1</td>\n",
       "      <td>0</td>\n",
       "      <td>1</td>\n",
       "      <td>0</td>\n",
       "      <td>0</td>\n",
       "    </tr>\n",
       "    <tr>\n",
       "      <th>8689</th>\n",
       "      <td>True</td>\n",
       "      <td>18.0</td>\n",
       "      <td>False</td>\n",
       "      <td>0.0</td>\n",
       "      <td>0.0</td>\n",
       "      <td>0.0</td>\n",
       "      <td>0.0</td>\n",
       "      <td>0.0</td>\n",
       "      <td>False</td>\n",
       "      <td>1</td>\n",
       "      <td>0</td>\n",
       "      <td>0</td>\n",
       "      <td>0</td>\n",
       "      <td>1</td>\n",
       "      <td>0</td>\n",
       "    </tr>\n",
       "    <tr>\n",
       "      <th>8690</th>\n",
       "      <td>False</td>\n",
       "      <td>26.0</td>\n",
       "      <td>False</td>\n",
       "      <td>0.0</td>\n",
       "      <td>0.0</td>\n",
       "      <td>1872.0</td>\n",
       "      <td>1.0</td>\n",
       "      <td>0.0</td>\n",
       "      <td>True</td>\n",
       "      <td>1</td>\n",
       "      <td>0</td>\n",
       "      <td>0</td>\n",
       "      <td>0</td>\n",
       "      <td>0</td>\n",
       "      <td>1</td>\n",
       "    </tr>\n",
       "    <tr>\n",
       "      <th>8691</th>\n",
       "      <td>False</td>\n",
       "      <td>32.0</td>\n",
       "      <td>False</td>\n",
       "      <td>0.0</td>\n",
       "      <td>1049.0</td>\n",
       "      <td>0.0</td>\n",
       "      <td>353.0</td>\n",
       "      <td>3235.0</td>\n",
       "      <td>False</td>\n",
       "      <td>0</td>\n",
       "      <td>1</td>\n",
       "      <td>0</td>\n",
       "      <td>1</td>\n",
       "      <td>0</td>\n",
       "      <td>0</td>\n",
       "    </tr>\n",
       "    <tr>\n",
       "      <th>8692</th>\n",
       "      <td>False</td>\n",
       "      <td>44.0</td>\n",
       "      <td>False</td>\n",
       "      <td>126.0</td>\n",
       "      <td>4688.0</td>\n",
       "      <td>0.0</td>\n",
       "      <td>0.0</td>\n",
       "      <td>12.0</td>\n",
       "      <td>True</td>\n",
       "      <td>0</td>\n",
       "      <td>1</td>\n",
       "      <td>0</td>\n",
       "      <td>0</td>\n",
       "      <td>0</td>\n",
       "      <td>1</td>\n",
       "    </tr>\n",
       "  </tbody>\n",
       "</table>\n",
       "<p>8693 rows × 15 columns</p>\n",
       "</div>"
      ],
      "text/plain": [
       "      CryoSleep   Age    VIP  RoomService  FoodCourt  ShoppingMall     Spa  \\\n",
       "0         False  39.0  False          0.0        0.0           0.0     0.0   \n",
       "1         False  24.0  False        109.0        9.0          25.0   549.0   \n",
       "2         False  58.0   True         43.0     3576.0           0.0  6715.0   \n",
       "3         False  33.0  False          0.0     1283.0         371.0  3329.0   \n",
       "4         False  16.0  False        303.0       70.0         151.0   565.0   \n",
       "...         ...   ...    ...          ...        ...           ...     ...   \n",
       "8688      False  41.0   True          0.0     6819.0           0.0  1643.0   \n",
       "8689       True  18.0  False          0.0        0.0           0.0     0.0   \n",
       "8690      False  26.0  False          0.0        0.0        1872.0     1.0   \n",
       "8691      False  32.0  False          0.0     1049.0           0.0   353.0   \n",
       "8692      False  44.0  False        126.0     4688.0           0.0     0.0   \n",
       "\n",
       "      VRDeck  Transported  HomePlanet_Earth  HomePlanet_Europa  \\\n",
       "0        0.0        False                 0                  1   \n",
       "1       44.0         True                 1                  0   \n",
       "2       49.0        False                 0                  1   \n",
       "3      193.0        False                 0                  1   \n",
       "4        2.0         True                 1                  0   \n",
       "...      ...          ...               ...                ...   \n",
       "8688    74.0        False                 0                  1   \n",
       "8689     0.0        False                 1                  0   \n",
       "8690     0.0         True                 1                  0   \n",
       "8691  3235.0        False                 0                  1   \n",
       "8692    12.0         True                 0                  1   \n",
       "\n",
       "      HomePlanet_Mars  Destination_55 Cancri e  Destination_PSO J318.5-22  \\\n",
       "0                   0                        0                          0   \n",
       "1                   0                        0                          0   \n",
       "2                   0                        0                          0   \n",
       "3                   0                        0                          0   \n",
       "4                   0                        0                          0   \n",
       "...               ...                      ...                        ...   \n",
       "8688                0                        1                          0   \n",
       "8689                0                        0                          1   \n",
       "8690                0                        0                          0   \n",
       "8691                0                        1                          0   \n",
       "8692                0                        0                          0   \n",
       "\n",
       "      Destination_TRAPPIST-1e  \n",
       "0                           1  \n",
       "1                           1  \n",
       "2                           1  \n",
       "3                           1  \n",
       "4                           1  \n",
       "...                       ...  \n",
       "8688                        0  \n",
       "8689                        0  \n",
       "8690                        1  \n",
       "8691                        0  \n",
       "8692                        1  \n",
       "\n",
       "[8693 rows x 15 columns]"
      ]
     },
     "execution_count": 162,
     "metadata": {},
     "output_type": "execute_result"
    }
   ],
   "source": [
    "df"
   ]
  },
  {
   "cell_type": "code",
   "execution_count": null,
   "id": "8f7980bf",
   "metadata": {},
   "outputs": [],
   "source": [
    "# hint: pd.get_dummies(df, columns=[])\n",
    "df = pd.get_dummies(df, columns=['HomePlanet','Destination'])"
   ]
  },
  {
   "cell_type": "markdown",
   "id": "9bda5e1a",
   "metadata": {},
   "source": [
    "#### 2.1.4. Split the data into X and y (0.25 p.)"
   ]
  },
  {
   "cell_type": "code",
   "execution_count": 163,
   "id": "321a73dd",
   "metadata": {},
   "outputs": [],
   "source": [
    "X = df.copy()\n",
    "y = X.pop('Transported')"
   ]
  },
  {
   "cell_type": "markdown",
   "id": "5c00abc0",
   "metadata": {},
   "source": [
    "#### 2.1.5. Split the data into train and test (0.25 p.)"
   ]
  },
  {
   "cell_type": "code",
   "execution_count": 164,
   "id": "6e973e74",
   "metadata": {},
   "outputs": [],
   "source": [
    "# test = 20%\n",
    "from sklearn.model_selection import train_test_split as tts\n",
    "X_train,X_test,y_train,y_test=tts(X,y, test_size=0.2)"
   ]
  },
  {
   "cell_type": "markdown",
   "id": "4df5278c",
   "metadata": {},
   "source": [
    "## 2.2. kNN (1 p)"
   ]
  },
  {
   "cell_type": "markdown",
   "id": "6583f351",
   "metadata": {},
   "source": [
    "#### 2.2.1. Fit a kNN Model (sklearn) on train data (0.5 p.)"
   ]
  },
  {
   "cell_type": "code",
   "execution_count": 165,
   "id": "063920b8",
   "metadata": {},
   "outputs": [
    {
     "data": {
      "text/plain": [
       "KNeighborsClassifier()"
      ]
     },
     "execution_count": 165,
     "metadata": {},
     "output_type": "execute_result"
    }
   ],
   "source": [
    "from sklearn.neighbors import KNeighborsClassifier\n",
    "knn = KNeighborsClassifier(n_neighbors=5)\n",
    "knn.fit(X_train, y_train)"
   ]
  },
  {
   "cell_type": "markdown",
   "id": "7e6f1786",
   "metadata": {},
   "source": [
    "#### 2.2.2. Show the score on train and test data (0.5 p.)"
   ]
  },
  {
   "cell_type": "code",
   "execution_count": 167,
   "id": "ac51ac64",
   "metadata": {},
   "outputs": [
    {
     "data": {
      "text/plain": [
       "0.8219729651998849"
      ]
     },
     "execution_count": 167,
     "metadata": {},
     "output_type": "execute_result"
    }
   ],
   "source": [
    "# score on train data\n",
    "\n",
    "\n",
    "\n",
    "\n",
    "\n",
    "y_test_pred = knn.predict(X_train)\n",
    "\n",
    "knn.predict(X_train)\n",
    "knn.score(X_train , y_train )"
   ]
  },
  {
   "cell_type": "code",
   "execution_count": 168,
   "id": "94b78eb9",
   "metadata": {},
   "outputs": [
    {
     "data": {
      "text/plain": [
       "0.772857964347326"
      ]
     },
     "execution_count": 168,
     "metadata": {},
     "output_type": "execute_result"
    }
   ],
   "source": [
    "# score on test data\n",
    "\n",
    "\n",
    "y_test_pred = knn.predict(X_test)\n",
    "\n",
    "knn.predict(X_test)\n",
    "knn.score(X_test , y_test )"
   ]
  },
  {
   "cell_type": "markdown",
   "id": "a9d9cb83",
   "metadata": {},
   "source": [
    "## 2.3. Logistic Regression (1 p)"
   ]
  },
  {
   "cell_type": "markdown",
   "id": "d7a4e3d0",
   "metadata": {},
   "source": [
    "#### 2.3.1. Fit a Logistic Regression Model on train data (0.5 p.)"
   ]
  },
  {
   "cell_type": "code",
   "execution_count": 173,
   "id": "1da612a0",
   "metadata": {},
   "outputs": [
    {
     "name": "stderr",
     "output_type": "stream",
     "text": [
      "C:\\ProgramData\\Anaconda3\\lib\\site-packages\\sklearn\\linear_model\\_logistic.py:762: ConvergenceWarning: lbfgs failed to converge (status=1):\n",
      "STOP: TOTAL NO. of ITERATIONS REACHED LIMIT.\n",
      "\n",
      "Increase the number of iterations (max_iter) or scale the data as shown in:\n",
      "    https://scikit-learn.org/stable/modules/preprocessing.html\n",
      "Please also refer to the documentation for alternative solver options:\n",
      "    https://scikit-learn.org/stable/modules/linear_model.html#logistic-regression\n",
      "  n_iter_i = _check_optimize_result(\n"
     ]
    },
    {
     "data": {
      "text/plain": [
       "LogisticRegression()"
      ]
     },
     "execution_count": 173,
     "metadata": {},
     "output_type": "execute_result"
    }
   ],
   "source": [
    "from sklearn.linear_model import LogisticRegression\n",
    "from sklearn.metrics import accuracy_score\n",
    "model = LogisticRegression()\n",
    "model.fit(X_train,y_train)"
   ]
  },
  {
   "cell_type": "markdown",
   "id": "19d6b54a",
   "metadata": {},
   "source": [
    "#### 2.3.2. Show the score on train and test data (0.5 p.)"
   ]
  },
  {
   "cell_type": "code",
   "execution_count": 174,
   "id": "b7fede85",
   "metadata": {},
   "outputs": [
    {
     "data": {
      "text/plain": [
       "0.7798389416163359"
      ]
     },
     "execution_count": 174,
     "metadata": {},
     "output_type": "execute_result"
    }
   ],
   "source": [
    "# score on train data\n",
    "model.score(X_train,y_train)"
   ]
  },
  {
   "cell_type": "code",
   "execution_count": 176,
   "id": "36565d3a",
   "metadata": {},
   "outputs": [
    {
     "data": {
      "text/plain": [
       "0.7872340425531915"
      ]
     },
     "execution_count": 176,
     "metadata": {},
     "output_type": "execute_result"
    }
   ],
   "source": [
    "# score on test data\n",
    "model.score(X_test,y_test)"
   ]
  },
  {
   "cell_type": "code",
   "execution_count": null,
   "id": "3c86335a",
   "metadata": {},
   "outputs": [],
   "source": []
  },
  {
   "cell_type": "markdown",
   "id": "54dd1b80",
   "metadata": {},
   "source": [
    "## 2.4. New Test Data (2.5 p)"
   ]
  },
  {
   "cell_type": "markdown",
   "id": "c91c0024",
   "metadata": {},
   "source": [
    "#### 2.4.1. Prepare real test data exactly in the same way as training data. (1.5 p)"
   ]
  },
  {
   "cell_type": "code",
   "execution_count": 196,
   "id": "a7c93aaf",
   "metadata": {},
   "outputs": [
    {
     "data": {
      "text/html": [
       "<div>\n",
       "<style scoped>\n",
       "    .dataframe tbody tr th:only-of-type {\n",
       "        vertical-align: middle;\n",
       "    }\n",
       "\n",
       "    .dataframe tbody tr th {\n",
       "        vertical-align: top;\n",
       "    }\n",
       "\n",
       "    .dataframe thead th {\n",
       "        text-align: right;\n",
       "    }\n",
       "</style>\n",
       "<table border=\"1\" class=\"dataframe\">\n",
       "  <thead>\n",
       "    <tr style=\"text-align: right;\">\n",
       "      <th></th>\n",
       "      <th>PassengerId</th>\n",
       "      <th>HomePlanet</th>\n",
       "      <th>CryoSleep</th>\n",
       "      <th>Cabin</th>\n",
       "      <th>Destination</th>\n",
       "      <th>Age</th>\n",
       "      <th>VIP</th>\n",
       "      <th>RoomService</th>\n",
       "      <th>FoodCourt</th>\n",
       "      <th>ShoppingMall</th>\n",
       "      <th>Spa</th>\n",
       "      <th>VRDeck</th>\n",
       "      <th>Name</th>\n",
       "    </tr>\n",
       "  </thead>\n",
       "  <tbody>\n",
       "    <tr>\n",
       "      <th>0</th>\n",
       "      <td>0013_01</td>\n",
       "      <td>Earth</td>\n",
       "      <td>True</td>\n",
       "      <td>G/3/S</td>\n",
       "      <td>TRAPPIST-1e</td>\n",
       "      <td>27.0</td>\n",
       "      <td>False</td>\n",
       "      <td>0.0</td>\n",
       "      <td>0.0</td>\n",
       "      <td>0.0</td>\n",
       "      <td>0.0</td>\n",
       "      <td>0.0</td>\n",
       "      <td>Nelly Carsoning</td>\n",
       "    </tr>\n",
       "    <tr>\n",
       "      <th>1</th>\n",
       "      <td>0018_01</td>\n",
       "      <td>Earth</td>\n",
       "      <td>False</td>\n",
       "      <td>F/4/S</td>\n",
       "      <td>TRAPPIST-1e</td>\n",
       "      <td>19.0</td>\n",
       "      <td>False</td>\n",
       "      <td>0.0</td>\n",
       "      <td>9.0</td>\n",
       "      <td>0.0</td>\n",
       "      <td>2823.0</td>\n",
       "      <td>0.0</td>\n",
       "      <td>Lerome Peckers</td>\n",
       "    </tr>\n",
       "    <tr>\n",
       "      <th>2</th>\n",
       "      <td>0019_01</td>\n",
       "      <td>Europa</td>\n",
       "      <td>True</td>\n",
       "      <td>C/0/S</td>\n",
       "      <td>55 Cancri e</td>\n",
       "      <td>31.0</td>\n",
       "      <td>False</td>\n",
       "      <td>0.0</td>\n",
       "      <td>0.0</td>\n",
       "      <td>0.0</td>\n",
       "      <td>0.0</td>\n",
       "      <td>0.0</td>\n",
       "      <td>Sabih Unhearfus</td>\n",
       "    </tr>\n",
       "    <tr>\n",
       "      <th>3</th>\n",
       "      <td>0021_01</td>\n",
       "      <td>Europa</td>\n",
       "      <td>False</td>\n",
       "      <td>C/1/S</td>\n",
       "      <td>TRAPPIST-1e</td>\n",
       "      <td>38.0</td>\n",
       "      <td>False</td>\n",
       "      <td>0.0</td>\n",
       "      <td>6652.0</td>\n",
       "      <td>0.0</td>\n",
       "      <td>181.0</td>\n",
       "      <td>585.0</td>\n",
       "      <td>Meratz Caltilter</td>\n",
       "    </tr>\n",
       "    <tr>\n",
       "      <th>4</th>\n",
       "      <td>0023_01</td>\n",
       "      <td>Earth</td>\n",
       "      <td>False</td>\n",
       "      <td>F/5/S</td>\n",
       "      <td>TRAPPIST-1e</td>\n",
       "      <td>20.0</td>\n",
       "      <td>False</td>\n",
       "      <td>10.0</td>\n",
       "      <td>0.0</td>\n",
       "      <td>635.0</td>\n",
       "      <td>0.0</td>\n",
       "      <td>0.0</td>\n",
       "      <td>Brence Harperez</td>\n",
       "    </tr>\n",
       "    <tr>\n",
       "      <th>...</th>\n",
       "      <td>...</td>\n",
       "      <td>...</td>\n",
       "      <td>...</td>\n",
       "      <td>...</td>\n",
       "      <td>...</td>\n",
       "      <td>...</td>\n",
       "      <td>...</td>\n",
       "      <td>...</td>\n",
       "      <td>...</td>\n",
       "      <td>...</td>\n",
       "      <td>...</td>\n",
       "      <td>...</td>\n",
       "      <td>...</td>\n",
       "    </tr>\n",
       "    <tr>\n",
       "      <th>4272</th>\n",
       "      <td>9266_02</td>\n",
       "      <td>Earth</td>\n",
       "      <td>True</td>\n",
       "      <td>G/1496/S</td>\n",
       "      <td>TRAPPIST-1e</td>\n",
       "      <td>34.0</td>\n",
       "      <td>False</td>\n",
       "      <td>0.0</td>\n",
       "      <td>0.0</td>\n",
       "      <td>0.0</td>\n",
       "      <td>0.0</td>\n",
       "      <td>0.0</td>\n",
       "      <td>Jeron Peter</td>\n",
       "    </tr>\n",
       "    <tr>\n",
       "      <th>4273</th>\n",
       "      <td>9269_01</td>\n",
       "      <td>Earth</td>\n",
       "      <td>False</td>\n",
       "      <td>NaN</td>\n",
       "      <td>TRAPPIST-1e</td>\n",
       "      <td>42.0</td>\n",
       "      <td>False</td>\n",
       "      <td>0.0</td>\n",
       "      <td>847.0</td>\n",
       "      <td>17.0</td>\n",
       "      <td>10.0</td>\n",
       "      <td>144.0</td>\n",
       "      <td>Matty Scheron</td>\n",
       "    </tr>\n",
       "    <tr>\n",
       "      <th>4274</th>\n",
       "      <td>9271_01</td>\n",
       "      <td>Mars</td>\n",
       "      <td>True</td>\n",
       "      <td>D/296/P</td>\n",
       "      <td>55 Cancri e</td>\n",
       "      <td>NaN</td>\n",
       "      <td>False</td>\n",
       "      <td>0.0</td>\n",
       "      <td>0.0</td>\n",
       "      <td>0.0</td>\n",
       "      <td>0.0</td>\n",
       "      <td>0.0</td>\n",
       "      <td>Jayrin Pore</td>\n",
       "    </tr>\n",
       "    <tr>\n",
       "      <th>4275</th>\n",
       "      <td>9273_01</td>\n",
       "      <td>Europa</td>\n",
       "      <td>False</td>\n",
       "      <td>D/297/P</td>\n",
       "      <td>NaN</td>\n",
       "      <td>NaN</td>\n",
       "      <td>False</td>\n",
       "      <td>0.0</td>\n",
       "      <td>2680.0</td>\n",
       "      <td>0.0</td>\n",
       "      <td>0.0</td>\n",
       "      <td>523.0</td>\n",
       "      <td>Kitakan Conale</td>\n",
       "    </tr>\n",
       "    <tr>\n",
       "      <th>4276</th>\n",
       "      <td>9277_01</td>\n",
       "      <td>Earth</td>\n",
       "      <td>True</td>\n",
       "      <td>G/1498/S</td>\n",
       "      <td>PSO J318.5-22</td>\n",
       "      <td>43.0</td>\n",
       "      <td>False</td>\n",
       "      <td>0.0</td>\n",
       "      <td>0.0</td>\n",
       "      <td>0.0</td>\n",
       "      <td>0.0</td>\n",
       "      <td>0.0</td>\n",
       "      <td>Lilace Leonzaley</td>\n",
       "    </tr>\n",
       "  </tbody>\n",
       "</table>\n",
       "<p>4277 rows × 13 columns</p>\n",
       "</div>"
      ],
      "text/plain": [
       "     PassengerId HomePlanet CryoSleep     Cabin    Destination   Age    VIP  \\\n",
       "0        0013_01      Earth      True     G/3/S    TRAPPIST-1e  27.0  False   \n",
       "1        0018_01      Earth     False     F/4/S    TRAPPIST-1e  19.0  False   \n",
       "2        0019_01     Europa      True     C/0/S    55 Cancri e  31.0  False   \n",
       "3        0021_01     Europa     False     C/1/S    TRAPPIST-1e  38.0  False   \n",
       "4        0023_01      Earth     False     F/5/S    TRAPPIST-1e  20.0  False   \n",
       "...          ...        ...       ...       ...            ...   ...    ...   \n",
       "4272     9266_02      Earth      True  G/1496/S    TRAPPIST-1e  34.0  False   \n",
       "4273     9269_01      Earth     False       NaN    TRAPPIST-1e  42.0  False   \n",
       "4274     9271_01       Mars      True   D/296/P    55 Cancri e   NaN  False   \n",
       "4275     9273_01     Europa     False   D/297/P            NaN   NaN  False   \n",
       "4276     9277_01      Earth      True  G/1498/S  PSO J318.5-22  43.0  False   \n",
       "\n",
       "      RoomService  FoodCourt  ShoppingMall     Spa  VRDeck              Name  \n",
       "0             0.0        0.0           0.0     0.0     0.0   Nelly Carsoning  \n",
       "1             0.0        9.0           0.0  2823.0     0.0    Lerome Peckers  \n",
       "2             0.0        0.0           0.0     0.0     0.0   Sabih Unhearfus  \n",
       "3             0.0     6652.0           0.0   181.0   585.0  Meratz Caltilter  \n",
       "4            10.0        0.0         635.0     0.0     0.0   Brence Harperez  \n",
       "...           ...        ...           ...     ...     ...               ...  \n",
       "4272          0.0        0.0           0.0     0.0     0.0       Jeron Peter  \n",
       "4273          0.0      847.0          17.0    10.0   144.0     Matty Scheron  \n",
       "4274          0.0        0.0           0.0     0.0     0.0       Jayrin Pore  \n",
       "4275          0.0     2680.0           0.0     0.0   523.0    Kitakan Conale  \n",
       "4276          0.0        0.0           0.0     0.0     0.0  Lilace Leonzaley  \n",
       "\n",
       "[4277 rows x 13 columns]"
      ]
     },
     "execution_count": 196,
     "metadata": {},
     "output_type": "execute_result"
    }
   ],
   "source": [
    "# read the 'test.csv'\n",
    "df2=pd.read_csv('test.csv')\n",
    "df2"
   ]
  },
  {
   "cell_type": "code",
   "execution_count": 197,
   "id": "8503ffc6",
   "metadata": {},
   "outputs": [],
   "source": [
    "# Prepare real test data exactly in the same way as training data\n",
    "df2 = df2.drop(columns=['PassengerId','Name','Cabin'])\n",
    "df2['HomePlanet'].fillna(value='Earth',inplace=True)\n",
    "df2['CryoSleep'].fillna(value=False,inplace=True)\n",
    "df2['Destination'].fillna(value='TRAPPIST-1e',inplace=True)\n",
    "df2['Age'].fillna(value=24.0,inplace=True)\n",
    "df2['VIP'].fillna(value=False,inplace=True)\n",
    "df2['FoodCourt'].fillna(value=0.0,inplace=True)\n",
    "df2['ShoppingMall'].fillna(value=0.0,inplace=True)\n",
    "df2['RoomService'].fillna(value=0.0,inplace=True)\n",
    "df2['Spa'].fillna(value=0.0,inplace=True)\n",
    "df2['VRDeck'].fillna(value=0.0,inplace=True)\n"
   ]
  },
  {
   "cell_type": "code",
   "execution_count": 198,
   "id": "caf9ad07",
   "metadata": {},
   "outputs": [],
   "source": [
    "df2 = pd.get_dummies(df2, columns=['HomePlanet','Destination'])"
   ]
  },
  {
   "cell_type": "code",
   "execution_count": 199,
   "id": "c6149da9",
   "metadata": {},
   "outputs": [],
   "source": [
    "X_test = df2.copy()\n",
    "y_pred = model.predict(X_test)"
   ]
  },
  {
   "cell_type": "code",
   "execution_count": 200,
   "id": "f365d6e3",
   "metadata": {},
   "outputs": [
    {
     "name": "stdout",
     "output_type": "stream",
     "text": [
      "[ True False  True ...  True  True  True]\n"
     ]
    }
   ],
   "source": [
    "print(y_pred)"
   ]
  },
  {
   "cell_type": "markdown",
   "id": "7bf3affc",
   "metadata": {},
   "source": [
    "#### 2.4.2. Make predictions and save as `csv` file (1 p)\n",
    "\n",
    "```python\n",
    "# make predictions\n",
    "y_pred = model.predict(df_test)\n",
    "\n",
    "# create dataframe from predictions array\n",
    "df_predictions = pd.DataFrame({\n",
    "    'my_prediction': y_pred\n",
    "})\n",
    "\n",
    "\n",
    "# save dataframe as csv file\n",
    "df_predictions.to_csv('studentname_predictions.csv', index=False)\n",
    "```"
   ]
  },
  {
   "cell_type": "code",
   "execution_count": 203,
   "id": "2f6510f5",
   "metadata": {},
   "outputs": [],
   "source": [
    "# make predictions\n",
    "y_pred = model.predict(X_test)\n",
    "\n",
    "# create dataframe from predictions array\n",
    "df_predictions = pd.DataFrame({\n",
    "    'my_prediction': y_pred\n",
    "})\n",
    "\n",
    "\n",
    "# save dataframe as csv file\n",
    "df_predictions.to_csv('Almaz Akzholtoev.csv', index=False)"
   ]
  },
  {
   "cell_type": "markdown",
   "id": "91960778",
   "metadata": {},
   "source": [
    "---\n",
    "#### Congratulations! \n",
    "\n",
    "You've done a great job!\n",
    "\n",
    "<!-- Prepared by Atalov S. -->"
   ]
  },
  {
   "cell_type": "markdown",
   "id": "6ce07ab1",
   "metadata": {},
   "source": [
    "\n",
    "\n",
    "<div>\n",
    "    <img src=\"https://media.tenor.com/4d4VLoLuZNkAAAAM/hooray-letsgo.gif\"/>\n",
    "</div>\n",
    "\n",
    "<!-- Prepared by Atalov S. -->"
   ]
  }
 ],
 "metadata": {
  "kernelspec": {
   "display_name": "Python 3 (ipykernel)",
   "language": "python",
   "name": "python3"
  },
  "language_info": {
   "codemirror_mode": {
    "name": "ipython",
    "version": 3
   },
   "file_extension": ".py",
   "mimetype": "text/x-python",
   "name": "python",
   "nbconvert_exporter": "python",
   "pygments_lexer": "ipython3",
   "version": "3.11.4"
  },
  "vscode": {
   "interpreter": {
    "hash": "aee8b7b246df8f9039afb4144a1f6fd8d2ca17a180786b69acc140d282b71a49"
   }
  }
 },
 "nbformat": 4,
 "nbformat_minor": 5
}
