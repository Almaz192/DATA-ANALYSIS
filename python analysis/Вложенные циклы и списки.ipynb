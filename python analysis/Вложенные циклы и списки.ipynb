{
 "cells": [
  {
   "cell_type": "markdown",
   "id": "da21a02a",
   "metadata": {},
   "source": [
    "### Вложенные циклы"
   ]
  },
  {
   "cell_type": "markdown",
   "id": "34645a74",
   "metadata": {},
   "source": [
    "#### Написать код, который выстраивает смайлы в 10 рядов увеличивая частоту смайла с 1 до 10 с появлением каждой новой строки.Ниже пример вывода. Сделать это необходимо 3 способами: вложенным циклом, одним циклом for, одним циклом while."
   ]
  },
  {
   "cell_type": "code",
   "execution_count": 5,
   "id": "521ac498",
   "metadata": {},
   "outputs": [],
   "source": [
    "smile = '\\U0001f600'"
   ]
  },
  {
   "cell_type": "code",
   "execution_count": 13,
   "id": "73809dbc",
   "metadata": {},
   "outputs": [
    {
     "name": "stdout",
     "output_type": "stream",
     "text": [
      "\n",
      "😀\n",
      "😀😀\n",
      "😀😀😀\n",
      "😀😀😀😀\n",
      "😀😀😀😀😀\n",
      "😀😀😀😀😀😀\n",
      "😀😀😀😀😀😀😀\n",
      "😀😀😀😀😀😀😀😀\n",
      "😀😀😀😀😀😀😀😀😀\n",
      "😀😀😀😀😀😀😀😀😀😀\n"
     ]
    }
   ],
   "source": [
    "for i in range(0,11):\n",
    "    print(smile* i)"
   ]
  },
  {
   "cell_type": "code",
   "execution_count": 22,
   "id": "f8c8ac8e-4501-4e3e-a6e5-092c491e5967",
   "metadata": {},
   "outputs": [
    {
     "name": "stdout",
     "output_type": "stream",
     "text": [
      "😀\n",
      "😀😀\n",
      "😀😀😀\n",
      "😀😀😀😀\n",
      "😀😀😀😀😀\n",
      "😀😀😀😀😀😀\n",
      "😀😀😀😀😀😀😀\n",
      "😀😀😀😀😀😀😀😀\n",
      "😀😀😀😀😀😀😀😀😀\n",
      "😀😀😀😀😀😀😀😀😀😀\n",
      "😀😀😀😀😀😀😀😀😀😀😀\n"
     ]
    }
   ],
   "source": [
    "row=\"\"\n",
    "for i in range(0,11):\n",
    "    row+=smile\n",
    "    print(row)"
   ]
  },
  {
   "cell_type": "code",
   "execution_count": 36,
   "id": "d4bf4351-3f7c-4f8d-b8d6-27f0ce65ccba",
   "metadata": {},
   "outputs": [
    {
     "name": "stdout",
     "output_type": "stream",
     "text": [
      "\n",
      "😀\n",
      "😀😀\n",
      "😀😀😀\n",
      "😀😀😀😀\n",
      "😀😀😀😀😀\n",
      "😀😀😀😀😀😀\n",
      "😀😀😀😀😀😀😀\n",
      "😀😀😀😀😀😀😀😀\n",
      "😀😀😀😀😀😀😀😀😀\n",
      "😀😀😀😀😀😀😀😀😀😀\n"
     ]
    }
   ],
   "source": [
    "for i in range(0,11):\n",
    "    for j in range(i):\n",
    "        print(smile, end=\"\")\n",
    "    print()"
   ]
  },
  {
   "cell_type": "code",
   "execution_count": 45,
   "id": "9f8dc3e1-592e-4212-a6f4-034173bcdfaf",
   "metadata": {},
   "outputs": [
    {
     "name": "stdout",
     "output_type": "stream",
     "text": [
      "\n",
      "😀\n",
      "😀😀\n",
      "😀😀😀\n",
      "😀😀😀😀\n",
      "😀😀😀😀😀\n",
      "😀😀😀😀😀😀\n",
      "😀😀😀😀😀😀😀\n",
      "😀😀😀😀😀😀😀😀\n",
      "😀😀😀😀😀😀😀😀😀\n",
      "😀😀😀😀😀😀😀😀😀😀\n"
     ]
    }
   ],
   "source": [
    "i=0\n",
    "while i<=10:\n",
    "    print(smile * i)\n",
    "    i+=1"
   ]
  },
  {
   "cell_type": "markdown",
   "id": "744bc0b3",
   "metadata": {},
   "source": [
    "### Вложенные списки"
   ]
  },
  {
   "cell_type": "markdown",
   "id": "b8495eaa",
   "metadata": {},
   "source": [
    "1. Создать вложенные списки из чисел от 1 до 13 включительно. В список должно быть вложено 4 списка, в каждом из списка должно быть по 3 значения, за исключением последнего, в котором содержатся 4 значения (10,11,12,13)"
   ]
  },
  {
   "cell_type": "code",
   "execution_count": 47,
   "id": "39628fc7",
   "metadata": {},
   "outputs": [],
   "source": [
    "list = [[1,2,3],[4,5,6],[6,7,8],[9,10,11,12,13]]"
   ]
  },
  {
   "cell_type": "markdown",
   "id": "6b2be829",
   "metadata": {},
   "source": [
    "2. Вывести на печать значение 5"
   ]
  },
  {
   "cell_type": "code",
   "execution_count": 65,
   "id": "5c148a13",
   "metadata": {},
   "outputs": [
    {
     "name": "stdout",
     "output_type": "stream",
     "text": [
      "5\n"
     ]
    }
   ],
   "source": [
    "print(list[1][1])"
   ]
  },
  {
   "cell_type": "markdown",
   "id": "5a6e77eb",
   "metadata": {},
   "source": [
    "3. Распечатать каждый вложенный цикл с новой строки"
   ]
  },
  {
   "cell_type": "code",
   "execution_count": 59,
   "id": "13d98fe6",
   "metadata": {},
   "outputs": [
    {
     "name": "stdout",
     "output_type": "stream",
     "text": [
      "[1, 2, 3]\n",
      "[4, 5, 6]\n",
      "[6, 7, 8]\n",
      "[9, 10, 11, 12, 13]\n"
     ]
    }
   ],
   "source": [
    "for inlist in list:\n",
    "    print(inlist)"
   ]
  },
  {
   "cell_type": "markdown",
   "id": "24a3f129",
   "metadata": {},
   "source": [
    "4. Распечатать все элементы цикла с новой строки"
   ]
  },
  {
   "cell_type": "code",
   "execution_count": 63,
   "id": "f2adadc1",
   "metadata": {},
   "outputs": [
    {
     "name": "stdout",
     "output_type": "stream",
     "text": [
      "1\n",
      "2\n",
      "3\n",
      "4\n",
      "5\n",
      "6\n",
      "6\n",
      "7\n",
      "8\n",
      "9\n",
      "10\n",
      "11\n",
      "12\n",
      "13\n"
     ]
    }
   ],
   "source": [
    "for inlist in list:\n",
    "    for el in inlist:\n",
    "        print(el)"
   ]
  },
  {
   "cell_type": "code",
   "execution_count": null,
   "id": "e573d1c4",
   "metadata": {},
   "outputs": [],
   "source": []
  }
 ],
 "metadata": {
  "kernelspec": {
   "display_name": "Python 3 (ipykernel)",
   "language": "python",
   "name": "python3"
  },
  "language_info": {
   "codemirror_mode": {
    "name": "ipython",
    "version": 3
   },
   "file_extension": ".py",
   "mimetype": "text/x-python",
   "name": "python",
   "nbconvert_exporter": "python",
   "pygments_lexer": "ipython3",
   "version": "3.12.7"
  }
 },
 "nbformat": 4,
 "nbformat_minor": 5
}
