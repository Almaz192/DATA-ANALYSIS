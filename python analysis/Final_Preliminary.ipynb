{
 "cells": [
  {
   "cell_type": "markdown",
   "id": "abc851ae",
   "metadata": {},
   "source": [
    "Atalov S. (TSI AUCA)\n",
    "\n",
    "#### Data Collection and Processing Technologies\n",
    "\n",
    "---\n",
    "\n",
    "# Final Exam (Total: 25 points)\n"
   ]
  },
  {
   "cell_type": "markdown",
   "id": "c78382f4",
   "metadata": {},
   "source": [
    "#### Policy Statement on Cheating\n",
    "\n",
    "The cheating policy of this class will follow the policy of the college. Students are expected to know and comply with this policy. Cheating in this class includes: among the obvious, copying another person’s project or Individual work (in whole or in part), being caught talking during an exam/quiz. Since the person who assists in cheating is just as guilty as the person who is caught cheating – if two projects or individual works handed in are found to be the same, both students will be guilty of cheating.\n",
    "\n",
    "!!!\n",
    "**If a student is caught cheating on an exam - the student will receive a 0% for that exam.**\n",
    "!!!\n",
    "\n",
    "Repeated case of plagiarism will result in automatic failure of the course. If the student is caught a third time, the student's expulsion from the university follows.\n",
    "\n",
    "Plagiarism is a very serious question in the academic environment. The general rule to prevent plagiarism is to never pass off someone else's work as your own. Students are required to maintain high ethical standards when studying.\n",
    "\n",
    "---"
   ]
  },
  {
   "cell_type": "markdown",
   "id": "22b3e1de",
   "metadata": {},
   "source": [
    "## Part 1. ETL (10 points)\n"
   ]
  },
  {
   "cell_type": "code",
   "execution_count": null,
   "id": "1e8ea8c9",
   "metadata": {},
   "outputs": [],
   "source": []
  },
  {
   "cell_type": "markdown",
   "id": "823cbd7c",
   "metadata": {},
   "source": [
    "\n",
    "\n",
    "\n",
    "#### Create an SQLite database with three tables:\n",
    "- stores: Table to store information about different stores. The columns should include:\n",
    "    - store_id (Primary Key)\n",
    "    - name\n",
    "    - address\n",
    "    - working_time\n",
    "- products: Table to store product information. The columns should include:\n",
    "    - product_id (Primary Key)\n",
    "    - name\n",
    "    - price\n",
    "- sales: Table to store transaction information. The columns should include:\n",
    "    - sale_id (Primary Key, Auto-increment)\n",
    "    - date\n",
    "    - product_id (Foreign Key from products)\n",
    "    - store_id (Foreign Key from stores)\n",
    "    - quantity\n",
    "\n",
    "Load all tables to database called `data.db`."
   ]
  },
  {
   "cell_type": "code",
   "execution_count": 3,
   "id": "3ea8826d",
   "metadata": {},
   "outputs": [
    {
     "name": "stdout",
     "output_type": "stream",
     "text": [
      "ETL process completed. Database created: data.db\n"
     ]
    }
   ],
   "source": [
    "import sqlite3\n",
    "import pandas as pd\n",
    "\n",
    "stores = pd.read_csv('stores.csv')\n",
    "products = pd.read_csv('products.csv')\n",
    "sales = pd.read_csv('sales.csv')\n",
    "\n",
    "\n",
    "\n",
    "def create_database():\n",
    "    conn = sqlite3.connect('data.db')\n",
    "    cursor = conn.cursor()\n",
    "\n",
    "    cursor.execute('''CREATE TABLE IF NOT EXISTS stores (\n",
    "                        store_id INTEGER PRIMARY KEY,\n",
    "                        name TEXT,\n",
    "                        address TEXT,\n",
    "                        working_time TEXT\n",
    "                    )''')\n",
    "    cursor.execute('''CREATE TABLE IF NOT EXISTS products (\n",
    "                        product_id INTEGER PRIMARY KEY,\n",
    "                        name TEXT,\n",
    "                        price REAL\n",
    "                    )''')\n",
    "    cursor.execute('''CREATE TABLE IF NOT EXISTS sales (\n",
    "                        sale_id INTEGER PRIMARY KEY AUTOINCREMENT,\n",
    "                        date TEXT,\n",
    "                        product_id INTEGER,\n",
    "                        store_id INTEGER,\n",
    "                        quantity INTEGER,\n",
    "                        FOREIGN KEY (product_id) REFERENCES products (product_id),\n",
    "                        FOREIGN KEY (store_id) REFERENCES stores (store_id)\n",
    "                    )''')\n",
    "\n",
    "    conn.commit()\n",
    "    conn.close()\n",
    "\n",
    "def populate_tables(stores, products, sales):\n",
    "    conn = sqlite3.connect('data.db')\n",
    "\n",
    "    stores.to_sql('stores', conn, if_exists='replace', index=False)\n",
    "    products.to_sql('products', conn, if_exists='replace', index=False)\n",
    "    sales.to_sql('sales', conn, if_exists='replace', index=False)\n",
    "\n",
    "    conn.commit()\n",
    "    conn.close()\n",
    "\n",
    "def etl_process():\n",
    "    create_database()\n",
    "    populate_tables(stores, products, sales)\n",
    "\n",
    "    print(\"ETL process completed. Database created: data.db\")\n",
    "etl_process()\n"
   ]
  },
  {
   "cell_type": "markdown",
   "id": "6f192aad-722e-4f7e-be38-f3e3562b3345",
   "metadata": {},
   "source": [
    "#### Use the provided CSV files to insert data into the tables:\n",
    "- `stores.csv` for store data.\n",
    "- `products.csv` for product data.\n",
    "- `sales.csv` for sales data."
   ]
  },
  {
   "cell_type": "code",
   "execution_count": null,
   "id": "46924032-980b-42d2-9936-a33844d5479d",
   "metadata": {},
   "outputs": [],
   "source": []
  },
  {
   "cell_type": "markdown",
   "id": "0cdcf4c0",
   "metadata": {},
   "source": [
    "---\n",
    "## Part 2. Web App (10 points)\n",
    "\n",
    "Create a Web App using the Flask framework.\n",
    "\n"
   ]
  },
  {
   "cell_type": "markdown",
   "id": "b8e10546-326d-4a3e-852a-65118d8c56fb",
   "metadata": {},
   "source": [
    "#### Create a Flask web application with the following pages:\n",
    "1.\tHome Page (`/`):\n",
    "\t- The main landing page. You can include a welcome message or an overview of what the app does.\n",
    "2.\tStores Page (`/stores`):\n",
    "\t- Display all the stores with their addresses and working hours. You will fetch this data from the stores table in the database.\n",
    "3. Products Page (`/products`):\n",
    "\t- Display all products along with their prices. You will fetch this data from the products table in the database."
   ]
  },
  {
   "cell_type": "code",
   "execution_count": null,
   "id": "2c56eae5-bdc0-4da7-ad56-dd546701efd5",
   "metadata": {},
   "outputs": [],
   "source": []
  },
  {
   "cell_type": "markdown",
   "id": "f3a1f05f",
   "metadata": {},
   "source": [
    "### 2.1. Front-end (2.5 points)"
   ]
  },
  {
   "cell_type": "code",
   "execution_count": null,
   "id": "1346bda6",
   "metadata": {},
   "outputs": [],
   "source": []
  },
  {
   "cell_type": "markdown",
   "id": "95d0b937",
   "metadata": {},
   "source": [
    "### 2.2. Back-end (7.5 points)"
   ]
  },
  {
   "cell_type": "code",
   "execution_count": null,
   "id": "caadec48",
   "metadata": {},
   "outputs": [],
   "source": []
  },
  {
   "cell_type": "markdown",
   "id": "f931c901",
   "metadata": {},
   "source": [
    "---\n",
    "## Part 3. Additional information (5 points)\n",
    "\n",
    "Add random number from API to first page:\n",
    "\n",
    "link to API: `http://www.randomnumberapi.com/api/v1.0/random`\n",
    "\n"
   ]
  },
  {
   "cell_type": "code",
   "execution_count": null,
   "id": "d5be392c",
   "metadata": {},
   "outputs": [],
   "source": []
  }
 ],
 "metadata": {
  "kernelspec": {
   "display_name": "Python 3 (ipykernel)",
   "language": "python",
   "name": "python3"
  },
  "language_info": {
   "codemirror_mode": {
    "name": "ipython",
    "version": 3
   },
   "file_extension": ".py",
   "mimetype": "text/x-python",
   "name": "python",
   "nbconvert_exporter": "python",
   "pygments_lexer": "ipython3",
   "version": "3.12.7"
  }
 },
 "nbformat": 4,
 "nbformat_minor": 5
}
