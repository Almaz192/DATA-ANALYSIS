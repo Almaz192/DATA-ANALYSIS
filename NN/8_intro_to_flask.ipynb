{
 "cells": [
  {
   "cell_type": "markdown",
   "id": "d3a8b37e",
   "metadata": {},
   "source": [
    "Atalov S. (TSI AUCA)\n",
    "\n",
    "# Intro to Flask\n",
    "\n",
    "---"
   ]
  },
  {
   "cell_type": "markdown",
   "id": "1bb66b27",
   "metadata": {},
   "source": [
    "\n",
    "What is Flask?\n",
    "\n",
    "        •\tFlask is a micro web framework written in Python.\n",
    "        •\tLightweight, modular, and easy to get started with for small to medium-sized applications.\n",
    "        •\tIt’s unopinionated, meaning you have the freedom to organize your project how you see fit.\n",
    "\n",
    "Why Flask?\n",
    "\n",
    "        •\tGreat for learning web development in Python.\n",
    "        •\tFlexible, allowing you to add extensions as needed."
   ]
  },
  {
   "cell_type": "markdown",
   "id": "08440672",
   "metadata": {},
   "source": [
    "`pip install Flask`"
   ]
  },
  {
   "cell_type": "markdown",
   "id": "608c6f48",
   "metadata": {},
   "source": [
    "### Setting up\n",
    "\n",
    "1. Create a new directory for your Flask project.\n",
    "2. Create a file app.py.\n",
    "3. Write the following basic Flask app code:\n",
    "\n",
    "```python\n",
    "from flask import Flask\n",
    "\n",
    "app = Flask(__name__)\n",
    "\n",
    "@app.route('/')\n",
    "def home():\n",
    "    return \"Hello, Flask!\"\n",
    "\n",
    "if __name__ == '__main__':\n",
    "    app.run(debug=True)\n",
    "```"
   ]
  },
  {
   "cell_type": "markdown",
   "id": "e6bc3912",
   "metadata": {},
   "source": [
    "`python app.py`"
   ]
  },
  {
   "cell_type": "markdown",
   "id": "3dec0d63",
   "metadata": {},
   "source": [
    "### Using Templates\n",
    "\n",
    "- What are Templates?\n",
    "- Templates help you render dynamic HTML content.\n",
    "- Flask uses Jinja2 template engine.\n",
    "- Setting Up HTML Templates:\n",
    "\t1. Create a templates directory.\n",
    "\t2. Add an HTML file called index.html in templates/:\n",
    "\n",
    "```html\n",
    "<!DOCTYPE html>\n",
    "<html lang=\"en\">\n",
    "<head>\n",
    "    <meta charset=\"UTF-8\">\n",
    "    <meta name=\"viewport\" content=\"width=device-width, initial-scale=1.0\">\n",
    "    <title>Flask App</title>\n",
    "</head>\n",
    "<body>\n",
    "    <h1>Welcome to Flask!</h1>\n",
    "    <p>{{ message }}</p>\n",
    "</body>\n",
    "</html>\n",
    "```"
   ]
  },
  {
   "cell_type": "markdown",
   "id": "92107263",
   "metadata": {},
   "source": [
    "```python\n",
    "@app.route('/')\n",
    "def home():\n",
    "    message = \"This is passed from the Flask app.\"\n",
    "    return render_template('index.html', message=message)\n",
    "```"
   ]
  },
  {
   "cell_type": "markdown",
   "id": "0ad47218",
   "metadata": {},
   "source": [
    "### Handling Forms\n",
    "\n",
    "- How to Create a Simple Form:\n",
    "\t1. Create a new HTML form in index.html:\n",
    "\n",
    "```html\n",
    "<form method=\"POST\" action=\"/submit\">\n",
    "    <input type=\"text\" name=\"username\" placeholder=\"Enter your name\">\n",
    "    <button type=\"submit\">Submit</button>\n",
    "</form>\n",
    "```"
   ]
  },
  {
   "cell_type": "markdown",
   "id": "1965b74c",
   "metadata": {},
   "source": [
    "```python\n",
    "@app.route('/submit', methods=['POST'])\n",
    "def submit():\n",
    "    username = request.form.get('username')\n",
    "    return f\"Hello, {username}!\"\n",
    "```"
   ]
  },
  {
   "cell_type": "markdown",
   "id": "c9e25c57",
   "metadata": {},
   "source": [
    "### Lab Exercises\n",
    "\n",
    "- Exercise 1:\n",
    "\t•\tCreate a new route `/about` that renders an HTML page with some information about Flask.\n",
    "- Exercise 2:\n",
    "\t•\tAdd a form to the home page that takes user input (e.g., username) and displays a greeting.\n",
    "- Exercise 3:\n",
    "\t•\tAdd a `/contact` page that contains a form for users to submit their email and a message, and handle form submissions.\n"
   ]
  },
  {
   "cell_type": "code",
   "execution_count": null,
   "id": "836f0c18",
   "metadata": {},
   "outputs": [],
   "source": []
  },
  {
   "cell_type": "code",
   "execution_count": null,
   "id": "609d113e",
   "metadata": {},
   "outputs": [],
   "source": []
  },
  {
   "cell_type": "code",
   "execution_count": null,
   "id": "4faef21b",
   "metadata": {},
   "outputs": [],
   "source": []
  },
  {
   "cell_type": "code",
   "execution_count": null,
   "id": "2d648063",
   "metadata": {},
   "outputs": [],
   "source": [
    "\n",
    "\n",
    "\n"
   ]
  }
 ],
 "metadata": {
  "kernelspec": {
   "display_name": "Python 3 (ipykernel)",
   "language": "python",
   "name": "python3"
  },
  "language_info": {
   "codemirror_mode": {
    "name": "ipython",
    "version": 3
   },
   "file_extension": ".py",
   "mimetype": "text/x-python",
   "name": "python",
   "nbconvert_exporter": "python",
   "pygments_lexer": "ipython3",
   "version": "3.12.7"
  }
 },
 "nbformat": 4,
 "nbformat_minor": 5
}
