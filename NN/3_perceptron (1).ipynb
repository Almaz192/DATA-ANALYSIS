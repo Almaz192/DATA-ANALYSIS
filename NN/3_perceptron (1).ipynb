{
 "cells": [
  {
   "cell_type": "markdown",
   "id": "5fc8e30d",
   "metadata": {},
   "source": [
    "Atalov S. (TSI AUCA)\n",
    "\n",
    "DCPT\n",
    "\n",
    "# Perceptron Implementation\n",
    "\n",
    "---"
   ]
  },
  {
   "cell_type": "markdown",
   "id": "19abca25",
   "metadata": {},
   "source": [
    "**Instructions:**\n",
    "- Do not use loops (for/while) in your code, unless the instructions explicitly ask you to do so.\n",
    "- Use `np.dot(X,Y)` to calculate dot products.\n",
    "\n",
    "**You will learn to:**\n",
    "- Build the general architecture of a learning algorithm, including:\n",
    "    - Initializing parameters\n",
    "    - Calculating the cost function and its gradient\n",
    "    - Using an optimization algorithm (gradient descent) \n",
    "- Gather all three functions above into a main model function, in the right order."
   ]
  },
  {
   "cell_type": "markdown",
   "id": "eaca37c8",
   "metadata": {},
   "source": [
    "Before importing modules:\n",
    "\n",
    "`pip install h5py`"
   ]
  },
  {
   "cell_type": "code",
   "execution_count": 1,
   "id": "54ff2908",
   "metadata": {},
   "outputs": [],
   "source": [
    "import numpy as np\n",
    "import copy\n",
    "import matplotlib.pyplot as plt\n",
    "\n",
    "import h5py\n",
    "\n",
    "from PIL import Image"
   ]
  },
  {
   "cell_type": "markdown",
   "id": "912578fb",
   "metadata": {},
   "source": [
    "---\n",
    "## Part 1. Preparing the dataset"
   ]
  },
  {
   "cell_type": "markdown",
   "id": "f7162fd9",
   "metadata": {},
   "source": [
    "**Problem Statement**: You are given a dataset (\"data.h5\") containing:\n",
    "- a training set of m_train images labeled as cat (y=1) or non-cat (y=0)\n",
    "- a test set of m_test images labeled as cat or non-cat\n",
    "- each image is of shape (num_px, num_px, 3) where 3 is for the 3 channels (RGB). Thus, each image is square (height = num_px) and (width = num_px).\n",
    "\n",
    "You will build a simple image-recognition algorithm that can correctly classify pictures as cat or non-cat."
   ]
  },
  {
   "cell_type": "code",
   "execution_count": 2,
   "id": "7c56ce6e",
   "metadata": {},
   "outputs": [],
   "source": [
    "def load_dataset():\n",
    "    train_dataset = h5py.File('datasets/train_catvnoncat.h5', \"r\")\n",
    "    train_set_x_orig = np.array(train_dataset[\"train_set_x\"][:]) # your train set features\n",
    "    train_set_y_orig = np.array(train_dataset[\"train_set_y\"][:]) # your train set labels\n",
    "\n",
    "    test_dataset = h5py.File('datasets/test_catvnoncat.h5', \"r\")\n",
    "    test_set_x_orig = np.array(test_dataset[\"test_set_x\"][:]) # your test set features\n",
    "    test_set_y_orig = np.array(test_dataset[\"test_set_y\"][:]) # your test set labels\n",
    "\n",
    "    classes = np.array(test_dataset[\"list_classes\"][:]) # the list of classes\n",
    "    \n",
    "    train_set_y_orig = train_set_y_orig.reshape((1, train_set_y_orig.shape[0]))\n",
    "    test_set_y_orig = test_set_y_orig.reshape((1, test_set_y_orig.shape[0]))\n",
    "    \n",
    "    return train_set_x_orig, train_set_y_orig, test_set_x_orig, test_set_y_orig, classes"
   ]
  },
  {
   "cell_type": "code",
   "execution_count": 3,
   "id": "b9b85537",
   "metadata": {},
   "outputs": [],
   "source": [
    "# Loading the data (cat/non-cat)\n",
    "train_set_x_orig, train_set_y, test_set_x_orig, test_set_y, classes = load_dataset()"
   ]
  },
  {
   "cell_type": "code",
   "execution_count": 6,
   "id": "e4e83516",
   "metadata": {},
   "outputs": [
    {
     "name": "stdout",
     "output_type": "stream",
     "text": [
      "y = [1], it's a 'cat' picture.\n"
     ]
    },
    {
     "data": {
      "image/png": "[encoded data removed]",
      "text/plain": [
       "<Figure size 640x480 with 1 Axes>"
      ]
     },
     "metadata": {},
     "output_type": "display_data"
    }
   ],
   "source": [
    "# Example of a picture\n",
    "index = 42\n",
    "plt.imshow(train_set_x_orig[index])\n",
    "print (\"y = \" + str(train_set_y[:, index]) + \", it's a '\" + classes[np.squeeze(train_set_y[:, index])].decode(\"utf-8\") +  \"' picture.\")"
   ]
  },
  {
   "cell_type": "code",
   "execution_count": 8,
   "id": "0b981eea",
   "metadata": {},
   "outputs": [
    {
     "name": "stdout",
     "output_type": "stream",
     "text": [
      "Number of training examples: 209\n",
      "Number of test examples: 50\n",
      "Each image is of size: (64, 64, 3)\n"
     ]
    }
   ],
   "source": [
    "print(\"Number of training examples:\", train_set_x_orig.shape[0])\n",
    "print(\"Number of test examples:\", test_set_x_orig.shape[0])\n",
    "\n",
    "num_px = test_set_x_orig.shape[1]\n",
    "print (\"Each image is of size: (\" + str(num_px) + \", \" + str(num_px) + \", 3)\")"
   ]
  },
  {
   "cell_type": "markdown",
   "id": "d8e6ffcb",
   "metadata": {},
   "source": [
    "### Reshaping\n",
    "\n",
    "Reshape the training and test data sets so that images of size (num_px, num_px, 3) are flattened into single vectors of shape (num\\_px $*$ num\\_px $*$ 3, 1).\n",
    "\n",
    "```python\n",
    "X_flatten = X.reshape(X.shape[0], -1).T      # X.T is the transpose of X\n",
    "```"
   ]
  },
  {
   "cell_type": "code",
   "execution_count": 10,
   "id": "1edf3944",
   "metadata": {},
   "outputs": [],
   "source": [
    "train_set_x_flatten = train_set_x_orig.reshape(train_set_x_orig.shape[0], -1).T\n",
    "test_set_x_flatten = test_set_x_orig.reshape(test_set_x_orig.shape[0], -1).T"
   ]
  },
  {
   "cell_type": "markdown",
   "id": "25db2993",
   "metadata": {},
   "source": [
    "To represent color images, the red, green and blue channels (RGB) must be specified for each pixel, and so the pixel value is actually a vector of three numbers ranging from 0 to 255.\n",
    "\n",
    "One common preprocessing step in machine learning is to center and standardize your dataset, meaning that you substract the mean of the whole numpy array from each example, and then divide each example by the standard deviation of the whole numpy array. But for picture datasets, it is simpler and more convenient and works almost as well to just divide every row of the dataset by 255 (the maximum value of a pixel channel)."
   ]
  },
  {
   "cell_type": "markdown",
   "id": "76395353",
   "metadata": {},
   "source": [
    "[Why normalize images by subtracting dataset's image mean, instead of the current image mean in deep learning?](https://stats.stackexchange.com/questions/211436/why-normalize-images-by-subtracting-datasets-image-mean-instead-of-the-current)"
   ]
  },
  {
   "cell_type": "code",
   "execution_count": 11,
   "id": "56e19406",
   "metadata": {},
   "outputs": [],
   "source": [
    "train_set_x = train_set_x_flatten / 255.\n",
    "test_set_x = test_set_x_flatten / 255."
   ]
  },
  {
   "cell_type": "markdown",
   "id": "acff7c4e",
   "metadata": {},
   "source": [
    "**What you need to remember:**\n",
    "\n",
    "Common steps for pre-processing a new dataset are:\n",
    "- Figure out the dimensions and shapes of the problem (m_train, m_test, num_px, ...)\n",
    "- Reshape the datasets such that each example is now a vector of size (num_px \\* num_px \\* 3, 1)\n",
    "- \"Standardize\" the data"
   ]
  },
  {
   "cell_type": "markdown",
   "id": "10017109",
   "metadata": {},
   "source": [
    "---\n",
    "## Part 2. Building the Parts of the Algorithm"
   ]
  },
  {
   "cell_type": "markdown",
   "id": "6320595a",
   "metadata": {},
   "source": [
    "**Mathematical expression of the algorithm**:\n",
    "\n",
    "For one example $x^{(i)}$:\n",
    "$$z^{(i)} = w^T x^{(i)} + b \\tag{1}$$\n",
    "$$\\hat{y}^{(i)} = a^{(i)} = sigmoid(z^{(i)})\\tag{2}$$ \n",
    "$$ \\mathcal{L}(a^{(i)}, y^{(i)}) =  - y^{(i)}  \\log(a^{(i)}) - (1-y^{(i)} )  \\log(1-a^{(i)})\\tag{3}$$\n",
    "\n",
    "The cost is then computed by summing over all training examples:\n",
    "$$ J = \\frac{1}{m} \\sum_{i=1}^m \\mathcal{L}(a^{(i)}, y^{(i)})\\tag{6}$$\n",
    "\n",
    "**Key steps**:\n",
    "In this exercise, you will carry out the following steps: \n",
    "* Initialize the parameters of the model\n",
    "* Learn the parameters for the model by minimizing the cost  \n",
    "* Use the learned parameters to make predictions (on the test set)\n",
    "* Analyse the results and conclude"
   ]
  },
  {
   "cell_type": "markdown",
   "id": "3936b507",
   "metadata": {},
   "source": [
    "### 2.1 Sigmoid Function\n",
    "\n",
    "Implement `sigmoid()`. As you've seen in the figure above, you need to compute $sigmoid(z) = \\frac{1}{1 + e^{-z}}$ for $z = w^T x + b$ to make predictions. Use np.exp()."
   ]
  },
  {
   "cell_type": "code",
   "execution_count": 51,
   "id": "a2eced57",
   "metadata": {},
   "outputs": [],
   "source": [
    "def sigmoid(z):\n",
    "\n",
    "    s = 1/1+np.exp(-z)\n",
    "\n",
    "    return s"
   ]
  },
  {
   "cell_type": "markdown",
   "id": "586c8da5",
   "metadata": {},
   "source": [
    "### 2.2 Initializing parameters"
   ]
  },
  {
   "cell_type": "markdown",
   "id": "d2bf1d47",
   "metadata": {},
   "source": [
    "Implement parameter initialization in the cell below. \n",
    "\n",
    "1. You have to initialize w as a vector of zeros\n",
    "2. You have to initialize b as a zero"
   ]
  },
  {
   "cell_type": "code",
   "execution_count": 84,
   "id": "55f36389",
   "metadata": {},
   "outputs": [],
   "source": [
    "def initialize(dim):\n",
    "    \"\"\"\n",
    "    This function creates a vector of zeros of shape (dim, 1) for w and initializes b to 0.\n",
    "    \n",
    "    Argument:\n",
    "    dim -- size of the w vector we want (or number of parameters in this case)\n",
    "    \n",
    "    Returns:\n",
    "    w -- initialized vector of shape (dim, 1)\n",
    "    b -- initialized scalar (corresponds to the bias) of type float\n",
    "    \"\"\"\n",
    "    w = np.random.rand(dim,1)\n",
    "    b = 0\n",
    "\n",
    "    return w, b"
   ]
  },
  {
   "cell_type": "markdown",
   "id": "e2f8eb56",
   "metadata": {},
   "source": [
    "### 2.3 Forward Propagation"
   ]
  },
  {
   "cell_type": "markdown",
   "id": "65d979f7",
   "metadata": {},
   "source": [
    "Forward Propagation:\n",
    "- You get X\n",
    "- You compute $A = \\sigma(w^T X + b) = (a^{(1)}, a^{(2)}, ..., a^{(m-1)}, a^{(m)})$\n",
    "- You calculate the cost function: $J = -\\frac{1}{m}\\sum_{i=1}^{m}(y^{(i)}\\log(a^{(i)})+(1-y^{(i)})\\log(1-a^{(i)}))$\n",
    "\n"
   ]
  },
  {
   "cell_type": "code",
   "execution_count": 85,
   "id": "cfc56505",
   "metadata": {},
   "outputs": [],
   "source": [
    "def forward(w, b, X, Y):\n",
    "    \n",
    "    m = X.shape[1] # number of examples in X\n",
    "\n",
    "    A = sigmoid(np.dot(w.T,X) + b)\n",
    "    cost = np.mean(Y*np.log(A)+(1-Y) * np.log(1-A))\n",
    "    \n",
    "    cost = np.squeeze(np.array(cost))\n",
    "    return A, cost"
   ]
  },
  {
   "cell_type": "markdown",
   "id": "210fcd79",
   "metadata": {},
   "source": [
    "### 2.4 Backward Propagation"
   ]
  },
  {
   "cell_type": "markdown",
   "id": "69605d20",
   "metadata": {},
   "source": [
    "Here are the two formulas you will be using: \n",
    "\n",
    "$$ \\frac{\\partial J}{\\partial w} = \\frac{1}{m}X(A-Y)^T\\tag{7}$$\n",
    "$$ \\frac{\\partial J}{\\partial b} = \\frac{1}{m} \\sum_{i=1}^m (a^{(i)}-y^{(i)})\\tag{8}$$"
   ]
  },
  {
   "cell_type": "code",
   "execution_count": 86,
   "id": "145d1f5e",
   "metadata": {},
   "outputs": [],
   "source": [
    "def backward(A, X, Y):\n",
    "    m = X.shape[1]\n",
    "    \n",
    "    dw = (X @ (A - Y).T)/m\n",
    "    db = np.sum(A - Y)/m\n",
    "    \n",
    "    grads = {\"dw\": dw,\n",
    "             \"db\": db}\n",
    "    return grads"
   ]
  },
  {
   "cell_type": "markdown",
   "id": "63f097c0",
   "metadata": {},
   "source": [
    "### 2.5 Gradient Descent Optimization"
   ]
  },
  {
   "cell_type": "markdown",
   "id": "9339201f",
   "metadata": {},
   "source": [
    "$\\theta = \\theta - \\alpha \\frac{\\partial J }{ \\partial \\theta }$"
   ]
  },
  {
   "cell_type": "code",
   "execution_count": 91,
   "id": "3305e535",
   "metadata": {},
   "outputs": [],
   "source": [
    "def optimize(w, b, X, Y, num_iterations=100, learning_rate=0.009):\n",
    "    \n",
    "    w = copy.deepcopy(w)\n",
    "    b = copy.deepcopy(b)\n",
    "    \n",
    "    costs = []\n",
    "    \n",
    "    for i in range(num_iterations):\n",
    "        \n",
    "        A, cost = forward(w, b, X, Y)\n",
    "        grads = backward(A, X, Y)\n",
    "        \n",
    "        dw = grads[\"dw\"]\n",
    "        db = grads[\"db\"]\n",
    "        \n",
    "        w = w - learning_rate * dw\n",
    "        b = b - learning_rate * db\n",
    "\n",
    "        # Record the costs\n",
    "        if i % 100 == 0:\n",
    "            costs.append(cost)\n",
    "            # Print the cost every 100 training iterations\n",
    "            print (\"Cost after iteration %i: %f\" %(i, cost))\n",
    "    \n",
    "    params = {\"w\": w,\n",
    "              \"b\": b}\n",
    "    \n",
    "    grads = {\"dw\": dw,\n",
    "             \"db\": db}\n",
    "    \n",
    "    return params, grads, costs"
   ]
  },
  {
   "cell_type": "markdown",
   "id": "6b838dc0",
   "metadata": {},
   "source": [
    "### 2.6 Predict"
   ]
  },
  {
   "cell_type": "code",
   "execution_count": 92,
   "id": "ad98a3ad",
   "metadata": {},
   "outputs": [],
   "source": [
    "def predict(w, b, X):\n",
    "    \n",
    "    m = X.shape[1]\n",
    "    \n",
    "    Y_prediction = np.zeros((1, m))\n",
    "    w = w.reshape(X.shape[0], 1)\n",
    "    \n",
    "    A = sigmoid(np.dot(w.T, X) + b)\n",
    "    \n",
    "    for i in range(A.shape[1]):\n",
    "\n",
    "        if A[0, i] > 0.5:\n",
    "            Y_prediction[0, i] = 1\n",
    "        else:\n",
    "            Y_prediction[0, i] = 0\n",
    "\n",
    "    return Y_prediction"
   ]
  },
  {
   "cell_type": "markdown",
   "id": "0d8857eb",
   "metadata": {},
   "source": [
    "<font color='blue'>\n",
    "    \n",
    "**What to remember:**\n",
    "    \n",
    "You've implemented several functions that:\n",
    "- Calculates the sigmoid function\n",
    "- Initialize (w,b)\n",
    "- Optimize the loss iteratively to learn parameters (w,b):\n",
    "    - Computing the cost and its gradient \n",
    "    - Updating the parameters using gradient descent\n",
    "- Use the learned (w,b) to predict the labels for a given set of examples"
   ]
  },
  {
   "cell_type": "markdown",
   "id": "aa03e900",
   "metadata": {},
   "source": [
    "---\n",
    "## Part 3. Model"
   ]
  },
  {
   "cell_type": "code",
   "execution_count": 95,
   "id": "3bb18336",
   "metadata": {},
   "outputs": [],
   "source": [
    "def model(X_train, Y_train, X_test, Y_test, num_iterations=2000, learning_rate=0.5):\n",
    "    \n",
    "    w, b = initialize(X_train.shape[0])\n",
    "\n",
    "    params, grads, costs = optimize(w, b, X_train, Y_train, num_iterations, learning_rate)\n",
    "\n",
    "    w = params['w']\n",
    "    b = params['b']\n",
    "\n",
    "    Y_prediction_test = predict(w, b, X_test)\n",
    "    Y_prediction_train = predict(w, b, X_train)\n",
    "    \n",
    "    # Print train/test Errors\n",
    "    print(\"train accuracy: {} %\".format(100 - np.mean(np.abs(Y_prediction_train - Y_train)) * 100))\n",
    "    print(\"test accuracy: {} %\".format(100 - np.mean(np.abs(Y_prediction_test - Y_test)) * 100))\n",
    "\n",
    "    d = {\"costs\": costs,\n",
    "         \"Y_prediction_test\": Y_prediction_test, \n",
    "         \"Y_prediction_train\" : Y_prediction_train, \n",
    "         \"w\" : w, \n",
    "         \"b\" : b,\n",
    "         \"learning_rate\" : learning_rate,\n",
    "         \"num_iterations\": num_iterations}\n",
    "    \n",
    "    return d"
   ]
  },
  {
   "cell_type": "markdown",
   "id": "a6e972c3",
   "metadata": {},
   "source": [
    "#### Try to play with the learning rate, number of iterations, and look and the learning curve"
   ]
  },
  {
   "cell_type": "code",
   "execution_count": 101,
   "id": "6513138b",
   "metadata": {},
   "outputs": [
    {
     "name": "stderr",
     "output_type": "stream",
     "text": [
      "C:\\Users\\akzholtoev_a\\AppData\\Local\\Temp\\ipykernel_11512\\2919723670.py:6: RuntimeWarning: divide by zero encountered in log\n",
      "  cost = np.mean(Y*np.log(A)+(1-Y) * np.log(1-A))\n",
      "C:\\Users\\akzholtoev_a\\AppData\\Local\\Temp\\ipykernel_11512\\2919723670.py:6: RuntimeWarning: invalid value encountered in multiply\n",
      "  cost = np.mean(Y*np.log(A)+(1-Y) * np.log(1-A))\n"
     ]
    },
    {
     "name": "stdout",
     "output_type": "stream",
     "text": [
      "Cost after iteration 0: nan\n",
      "Cost after iteration 100: nan\n",
      "Cost after iteration 200: nan\n",
      "Cost after iteration 300: nan\n",
      "Cost after iteration 400: nan\n",
      "Cost after iteration 500: nan\n",
      "Cost after iteration 600: nan\n",
      "Cost after iteration 700: nan\n",
      "Cost after iteration 800: nan\n",
      "Cost after iteration 900: nan\n",
      "Cost after iteration 1000: nan\n",
      "Cost after iteration 1100: nan\n",
      "Cost after iteration 1200: nan\n",
      "Cost after iteration 1300: nan\n",
      "Cost after iteration 1400: nan\n",
      "Cost after iteration 1500: nan\n",
      "Cost after iteration 1600: nan\n",
      "Cost after iteration 1700: nan\n",
      "Cost after iteration 1800: nan\n",
      "Cost after iteration 1900: nan\n",
      "Cost after iteration 2000: nan\n",
      "Cost after iteration 2100: nan\n",
      "Cost after iteration 2200: nan\n",
      "Cost after iteration 2300: nan\n",
      "Cost after iteration 2400: nan\n",
      "Cost after iteration 2500: nan\n",
      "Cost after iteration 2600: nan\n",
      "Cost after iteration 2700: nan\n",
      "Cost after iteration 2800: nan\n",
      "Cost after iteration 2900: nan\n",
      "train accuracy: 34.44976076555024 %\n",
      "test accuracy: 66.0 %\n"
     ]
    }
   ],
   "source": [
    "perceptron_model = model(train_set_x, train_set_y, test_set_x, test_set_y, num_iterations=3000, learning_rate=0.0005)"
   ]
  },
  {
   "cell_type": "code",
   "execution_count": 74,
   "id": "7b10501b",
   "metadata": {},
   "outputs": [
    {
     "data": {
      "image/png": "[encoded data removed]",
      "text/plain": [
       "<Figure size 640x480 with 1 Axes>"
      ]
     },
     "metadata": {},
     "output_type": "display_data"
    }
   ],
   "source": [
    "# Plot learning curve (with costs)\n",
    "costs = np.squeeze(perceptron_model['costs'])\n",
    "plt.plot(costs)\n",
    "plt.ylabel('cost')\n",
    "plt.xlabel('iterations (per hundreds)')\n",
    "plt.title(\"Learning rate =\" + str(perceptron_model[\"learning_rate\"]))\n",
    "plt.show()"
   ]
  },
  {
   "cell_type": "code",
   "execution_count": 75,
   "id": "f3a24322",
   "metadata": {},
   "outputs": [
    {
     "name": "stdout",
     "output_type": "stream",
     "text": [
      "y = 1, you predicted that it is a \"cat\" picture.\n"
     ]
    },
    {
     "data": {
      "image/png": "[encoded data removed]",
      "text/plain": [
       "<Figure size 640x480 with 1 Axes>"
      ]
     },
     "metadata": {},
     "output_type": "display_data"
    }
   ],
   "source": [
    "# Example of a pictures\n",
    "index = 2\n",
    "plt.imshow(test_set_x[:, index].reshape((num_px, num_px, 3)))\n",
    "print (\"y = \" + str(test_set_y[0,index]) + \", you predicted that it is a \\\"\" + classes[int(perceptron_model['Y_prediction_test'][0,index])].decode(\"utf-8\") +  \"\\\" picture.\")"
   ]
  },
  {
   "cell_type": "markdown",
   "id": "67002ef4",
   "metadata": {},
   "source": [
    "---\n",
    "\n",
    "## Part 4. Test your own picture"
   ]
  },
  {
   "cell_type": "code",
   "execution_count": null,
   "id": "6277dab0",
   "metadata": {},
   "outputs": [],
   "source": [
    "# preprocess the image to fit your algorithm\n",
    "fname = \"cat.jpeg\" \n",
    "image = np.array(Image.open(fname).resize((num_px, num_px))) # 64 x 64\n",
    "plt.imshow(image)\n",
    "\n",
    "# normalizing\n",
    "image = image / 255.\n",
    "image = image.reshape((1, num_px * num_px * 3)).T\n",
    "\n",
    "\n",
    "# making a prediction\n",
    "my_predicted_image = predict(perceptron_model[\"w\"], perceptron_model[\"b\"], image)\n",
    "\n",
    "print(\"y = \" + str(np.squeeze(my_predicted_image)) + \", your algorithm predicts a \\\"\" + classes[int(np.squeeze(my_predicted_image)),].decode(\"utf-8\") +  \"\\\" picture.\")"
   ]
  },
  {
   "cell_type": "code",
   "execution_count": null,
   "id": "be789ee3",
   "metadata": {},
   "outputs": [],
   "source": []
  }
 ],
 "metadata": {
  "kernelspec": {
   "display_name": "Python 3 (ipykernel)",
   "language": "python",
   "name": "python3"
  },
  "language_info": {
   "codemirror_mode": {
    "name": "ipython",
    "version": 3
   },
   "file_extension": ".py",
   "mimetype": "text/x-python",
   "name": "python",
   "nbconvert_exporter": "python",
   "pygments_lexer": "ipython3",
   "version": "3.12.7"
  }
 },
 "nbformat": 4,
 "nbformat_minor": 5
}
