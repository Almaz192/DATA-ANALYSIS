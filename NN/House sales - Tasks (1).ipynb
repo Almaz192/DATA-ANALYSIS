{
 "cells": [
  {
   "cell_type": "markdown",
   "id": "a8178b91",
   "metadata": {},
   "source": [
    "1. Загрузите библиотеки pandas, numpy, matplotlib и seaborn"
   ]
  },
  {
   "cell_type": "code",
   "execution_count": 3,
   "id": "d682cf33",
   "metadata": {},
   "outputs": [],
   "source": [
    "import pandas as pd\n",
    "import numpy as np\n",
    "import matplotlib.pyplot as plt\n",
    "import seaborn as sns"
   ]
  },
  {
   "cell_type": "markdown",
   "id": "fb81f4a0",
   "metadata": {},
   "source": [
    "2. Загрузите датасет. В качестве индексного столбца сразу укажите столбец \"datesold\""
   ]
  },
  {
   "cell_type": "code",
   "execution_count": 5,
   "id": "f8d21e2c",
   "metadata": {},
   "outputs": [],
   "source": [
    "df = pd.read_csv(\"house_sales.csv\",index_col = 'datesold',parse_dates = True)"
   ]
  },
  {
   "cell_type": "markdown",
   "id": "1b820aa5",
   "metadata": {},
   "source": [
    "3. Отобразите первые 5 строк таблицы"
   ]
  },
  {
   "cell_type": "code",
   "execution_count": 7,
   "id": "faba8e36",
   "metadata": {},
   "outputs": [
    {
     "data": {
      "text/html": [
       "<div>\n",
       "<style scoped>\n",
       "    .dataframe tbody tr th:only-of-type {\n",
       "        vertical-align: middle;\n",
       "    }\n",
       "\n",
       "    .dataframe tbody tr th {\n",
       "        vertical-align: top;\n",
       "    }\n",
       "\n",
       "    .dataframe thead th {\n",
       "        text-align: right;\n",
       "    }\n",
       "</style>\n",
       "<table border=\"1\" class=\"dataframe\">\n",
       "  <thead>\n",
       "    <tr style=\"text-align: right;\">\n",
       "      <th></th>\n",
       "      <th>postcode</th>\n",
       "      <th>price</th>\n",
       "      <th>propertyType</th>\n",
       "      <th>bedrooms</th>\n",
       "    </tr>\n",
       "    <tr>\n",
       "      <th>datesold</th>\n",
       "      <th></th>\n",
       "      <th></th>\n",
       "      <th></th>\n",
       "      <th></th>\n",
       "    </tr>\n",
       "  </thead>\n",
       "  <tbody>\n",
       "    <tr>\n",
       "      <th>2007-02-07</th>\n",
       "      <td>2607</td>\n",
       "      <td>525000</td>\n",
       "      <td>house</td>\n",
       "      <td>4</td>\n",
       "    </tr>\n",
       "    <tr>\n",
       "      <th>2007-02-27</th>\n",
       "      <td>2906</td>\n",
       "      <td>290000</td>\n",
       "      <td>house</td>\n",
       "      <td>3</td>\n",
       "    </tr>\n",
       "    <tr>\n",
       "      <th>2007-03-07</th>\n",
       "      <td>2905</td>\n",
       "      <td>328000</td>\n",
       "      <td>house</td>\n",
       "      <td>3</td>\n",
       "    </tr>\n",
       "    <tr>\n",
       "      <th>2007-03-09</th>\n",
       "      <td>2905</td>\n",
       "      <td>380000</td>\n",
       "      <td>house</td>\n",
       "      <td>4</td>\n",
       "    </tr>\n",
       "    <tr>\n",
       "      <th>2007-03-21</th>\n",
       "      <td>2906</td>\n",
       "      <td>310000</td>\n",
       "      <td>house</td>\n",
       "      <td>3</td>\n",
       "    </tr>\n",
       "  </tbody>\n",
       "</table>\n",
       "</div>"
      ],
      "text/plain": [
       "            postcode   price propertyType  bedrooms\n",
       "datesold                                           \n",
       "2007-02-07      2607  525000        house         4\n",
       "2007-02-27      2906  290000        house         3\n",
       "2007-03-07      2905  328000        house         3\n",
       "2007-03-09      2905  380000        house         4\n",
       "2007-03-21      2906  310000        house         3"
      ]
     },
     "execution_count": 7,
     "metadata": {},
     "output_type": "execute_result"
    }
   ],
   "source": [
    "df.head()"
   ]
  },
  {
   "cell_type": "markdown",
   "id": "56c29856",
   "metadata": {},
   "source": [
    "4. Выведите информацию по столбцам"
   ]
  },
  {
   "cell_type": "code",
   "execution_count": 9,
   "id": "f6e21861",
   "metadata": {},
   "outputs": [
    {
     "name": "stdout",
     "output_type": "stream",
     "text": [
      "<class 'pandas.core.frame.DataFrame'>\n",
      "DatetimeIndex: 29580 entries, 2007-02-07 to 2019-07-26\n",
      "Data columns (total 4 columns):\n",
      " #   Column        Non-Null Count  Dtype \n",
      "---  ------        --------------  ----- \n",
      " 0   postcode      29580 non-null  int64 \n",
      " 1   price         29580 non-null  int64 \n",
      " 2   propertyType  29580 non-null  object\n",
      " 3   bedrooms      29580 non-null  int64 \n",
      "dtypes: int64(3), object(1)\n",
      "memory usage: 1.1+ MB\n"
     ]
    }
   ],
   "source": [
    "df.info()"
   ]
  },
  {
   "cell_type": "markdown",
   "id": "49c1d909",
   "metadata": {},
   "source": [
    "5. Выведите описательную статистику"
   ]
  },
  {
   "cell_type": "code",
   "execution_count": 11,
   "id": "16fdb5b6",
   "metadata": {},
   "outputs": [
    {
     "data": {
      "text/html": [
       "<div>\n",
       "<style scoped>\n",
       "    .dataframe tbody tr th:only-of-type {\n",
       "        vertical-align: middle;\n",
       "    }\n",
       "\n",
       "    .dataframe tbody tr th {\n",
       "        vertical-align: top;\n",
       "    }\n",
       "\n",
       "    .dataframe thead th {\n",
       "        text-align: right;\n",
       "    }\n",
       "</style>\n",
       "<table border=\"1\" class=\"dataframe\">\n",
       "  <thead>\n",
       "    <tr style=\"text-align: right;\">\n",
       "      <th></th>\n",
       "      <th>postcode</th>\n",
       "      <th>price</th>\n",
       "      <th>bedrooms</th>\n",
       "    </tr>\n",
       "  </thead>\n",
       "  <tbody>\n",
       "    <tr>\n",
       "      <th>count</th>\n",
       "      <td>29580.000000</td>\n",
       "      <td>2.958000e+04</td>\n",
       "      <td>29580.000000</td>\n",
       "    </tr>\n",
       "    <tr>\n",
       "      <th>mean</th>\n",
       "      <td>2730.249730</td>\n",
       "      <td>6.097363e+05</td>\n",
       "      <td>3.250169</td>\n",
       "    </tr>\n",
       "    <tr>\n",
       "      <th>std</th>\n",
       "      <td>146.717292</td>\n",
       "      <td>2.817079e+05</td>\n",
       "      <td>0.951275</td>\n",
       "    </tr>\n",
       "    <tr>\n",
       "      <th>min</th>\n",
       "      <td>2600.000000</td>\n",
       "      <td>5.650000e+04</td>\n",
       "      <td>0.000000</td>\n",
       "    </tr>\n",
       "    <tr>\n",
       "      <th>25%</th>\n",
       "      <td>2607.000000</td>\n",
       "      <td>4.400000e+05</td>\n",
       "      <td>3.000000</td>\n",
       "    </tr>\n",
       "    <tr>\n",
       "      <th>50%</th>\n",
       "      <td>2615.000000</td>\n",
       "      <td>5.500000e+05</td>\n",
       "      <td>3.000000</td>\n",
       "    </tr>\n",
       "    <tr>\n",
       "      <th>75%</th>\n",
       "      <td>2905.000000</td>\n",
       "      <td>7.050000e+05</td>\n",
       "      <td>4.000000</td>\n",
       "    </tr>\n",
       "    <tr>\n",
       "      <th>max</th>\n",
       "      <td>2914.000000</td>\n",
       "      <td>8.000000e+06</td>\n",
       "      <td>5.000000</td>\n",
       "    </tr>\n",
       "  </tbody>\n",
       "</table>\n",
       "</div>"
      ],
      "text/plain": [
       "           postcode         price      bedrooms\n",
       "count  29580.000000  2.958000e+04  29580.000000\n",
       "mean    2730.249730  6.097363e+05      3.250169\n",
       "std      146.717292  2.817079e+05      0.951275\n",
       "min     2600.000000  5.650000e+04      0.000000\n",
       "25%     2607.000000  4.400000e+05      3.000000\n",
       "50%     2615.000000  5.500000e+05      3.000000\n",
       "75%     2905.000000  7.050000e+05      4.000000\n",
       "max     2914.000000  8.000000e+06      5.000000"
      ]
     },
     "execution_count": 11,
     "metadata": {},
     "output_type": "execute_result"
    }
   ],
   "source": [
    "df.describe()"
   ]
  },
  {
   "cell_type": "markdown",
   "id": "96ab5f0a",
   "metadata": {},
   "source": [
    "6. Отобразите сколько значений приходится на каждое уникальное в 'propertyType'"
   ]
  },
  {
   "cell_type": "code",
   "execution_count": 13,
   "id": "83b0aaa1",
   "metadata": {},
   "outputs": [
    {
     "data": {
      "text/plain": [
       "propertyType\n",
       "house    24552\n",
       "unit      5028\n",
       "Name: count, dtype: int64"
      ]
     },
     "execution_count": 13,
     "metadata": {},
     "output_type": "execute_result"
    }
   ],
   "source": [
    "df['propertyType'].value_counts()"
   ]
  },
  {
   "cell_type": "markdown",
   "id": "c22d1a72",
   "metadata": {},
   "source": [
    "7. Отобразите сколько значений приходится на каждое уникальное в 'bedrooms'"
   ]
  },
  {
   "cell_type": "code",
   "execution_count": 15,
   "id": "020dea8d",
   "metadata": {},
   "outputs": [
    {
     "data": {
      "text/plain": [
       "bedrooms\n",
       "3    11933\n",
       "4    10442\n",
       "2     3598\n",
       "5     1950\n",
       "1     1627\n",
       "0       30\n",
       "Name: count, dtype: int64"
      ]
     },
     "execution_count": 15,
     "metadata": {},
     "output_type": "execute_result"
    }
   ],
   "source": [
    "df['bedrooms'].value_counts()"
   ]
  },
  {
   "cell_type": "markdown",
   "id": "c356976e",
   "metadata": {},
   "source": [
    "8. Постройте линейный график по столбцу 'price'"
   ]
  },
  {
   "cell_type": "code",
   "execution_count": 17,
   "id": "640a4929",
   "metadata": {},
   "outputs": [
    {
     "data": {
      "text/plain": [
       "<Axes: xlabel='datesold'>"
      ]
     },
     "execution_count": 17,
     "metadata": {},
     "output_type": "execute_result"
    },
    {
     "data": {
      "image/png": "[encoded data removed]",
      "text/plain": [
       "<Figure size 640x480 with 1 Axes>"
      ]
     },
     "metadata": {},
     "output_type": "display_data"
    }
   ],
   "source": [
    "df['price'].plot()"
   ]
  },
  {
   "cell_type": "markdown",
   "id": "a95f7aef",
   "metadata": {},
   "source": [
    "9. В связи с тем, что значений много агрегируйте данные по месяцам, взяв среднее."
   ]
  },
  {
   "cell_type": "code",
   "execution_count": 19,
   "id": "6caa0485",
   "metadata": {},
   "outputs": [],
   "source": [
    "agg_line = df.resample(\"ME\").mean(numeric_only=True)"
   ]
  },
  {
   "cell_type": "markdown",
   "id": "5e17ac5c",
   "metadata": {},
   "source": [
    "10. Отобразите линейный график по 9 заданию"
   ]
  },
  {
   "cell_type": "code",
   "execution_count": 21,
   "id": "1d7fd269",
   "metadata": {},
   "outputs": [
    {
     "data": {
      "text/plain": [
       "<Axes: xlabel='datesold'>"
      ]
     },
     "execution_count": 21,
     "metadata": {},
     "output_type": "execute_result"
    },
    {
     "data": {
      "image/png": "[encoded data removed]",
      "text/plain": [
       "<Figure size 640x480 with 1 Axes>"
      ]
     },
     "metadata": {},
     "output_type": "display_data"
    }
   ],
   "source": [
    "agg_line.plot()"
   ]
  },
  {
   "cell_type": "markdown",
   "id": "0a9d3319",
   "metadata": {},
   "source": [
    "11. Агрегируйте данные по месяцам, взяв среднее. Затем на сгруппированных данных примените скользящее среднее за 3 дня, взяв функцию агрегирования - среднее"
   ]
  },
  {
   "cell_type": "code",
   "execution_count": 35,
   "id": "3a031922",
   "metadata": {},
   "outputs": [
    {
     "name": "stderr",
     "output_type": "stream",
     "text": [
      "C:\\Users\\kombi\\AppData\\Local\\Temp\\ipykernel_6632\\4014700876.py:1: FutureWarning: 'M' is deprecated and will be removed in a future version, please use 'ME' instead.\n",
      "  df.resample('M').mean(numeric_only=True).rolling(3).mean()\n"
     ]
    },
    {
     "data": {
      "text/html": [
       "<div>\n",
       "<style scoped>\n",
       "    .dataframe tbody tr th:only-of-type {\n",
       "        vertical-align: middle;\n",
       "    }\n",
       "\n",
       "    .dataframe tbody tr th {\n",
       "        vertical-align: top;\n",
       "    }\n",
       "\n",
       "    .dataframe thead th {\n",
       "        text-align: right;\n",
       "    }\n",
       "</style>\n",
       "<table border=\"1\" class=\"dataframe\">\n",
       "  <thead>\n",
       "    <tr style=\"text-align: right;\">\n",
       "      <th></th>\n",
       "      <th>postcode</th>\n",
       "      <th>price</th>\n",
       "      <th>bedrooms</th>\n",
       "    </tr>\n",
       "    <tr>\n",
       "      <th>datesold</th>\n",
       "      <th></th>\n",
       "      <th></th>\n",
       "      <th></th>\n",
       "    </tr>\n",
       "  </thead>\n",
       "  <tbody>\n",
       "    <tr>\n",
       "      <th>2007-02-28</th>\n",
       "      <td>NaN</td>\n",
       "      <td>NaN</td>\n",
       "      <td>NaN</td>\n",
       "    </tr>\n",
       "    <tr>\n",
       "      <th>2007-03-31</th>\n",
       "      <td>NaN</td>\n",
       "      <td>NaN</td>\n",
       "      <td>NaN</td>\n",
       "    </tr>\n",
       "    <tr>\n",
       "      <th>2007-04-30</th>\n",
       "      <td>2789.277778</td>\n",
       "      <td>514944.444444</td>\n",
       "      <td>3.500000</td>\n",
       "    </tr>\n",
       "    <tr>\n",
       "      <th>2007-05-31</th>\n",
       "      <td>2838.444444</td>\n",
       "      <td>492277.777778</td>\n",
       "      <td>3.333333</td>\n",
       "    </tr>\n",
       "    <tr>\n",
       "      <th>2007-06-30</th>\n",
       "      <td>2789.166667</td>\n",
       "      <td>552611.111111</td>\n",
       "      <td>3.333333</td>\n",
       "    </tr>\n",
       "    <tr>\n",
       "      <th>...</th>\n",
       "      <td>...</td>\n",
       "      <td>...</td>\n",
       "      <td>...</td>\n",
       "    </tr>\n",
       "    <tr>\n",
       "      <th>2019-03-31</th>\n",
       "      <td>2746.157908</td>\n",
       "      <td>626522.825053</td>\n",
       "      <td>3.056940</td>\n",
       "    </tr>\n",
       "    <tr>\n",
       "      <th>2019-04-30</th>\n",
       "      <td>2729.851763</td>\n",
       "      <td>643930.128948</td>\n",
       "      <td>3.116689</td>\n",
       "    </tr>\n",
       "    <tr>\n",
       "      <th>2019-05-31</th>\n",
       "      <td>2729.061775</td>\n",
       "      <td>649494.478324</td>\n",
       "      <td>3.177057</td>\n",
       "    </tr>\n",
       "    <tr>\n",
       "      <th>2019-06-30</th>\n",
       "      <td>2725.081639</td>\n",
       "      <td>666697.364837</td>\n",
       "      <td>3.255660</td>\n",
       "    </tr>\n",
       "    <tr>\n",
       "      <th>2019-07-31</th>\n",
       "      <td>2731.981526</td>\n",
       "      <td>642652.863063</td>\n",
       "      <td>3.189245</td>\n",
       "    </tr>\n",
       "  </tbody>\n",
       "</table>\n",
       "<p>150 rows × 3 columns</p>\n",
       "</div>"
      ],
      "text/plain": [
       "               postcode          price  bedrooms\n",
       "datesold                                        \n",
       "2007-02-28          NaN            NaN       NaN\n",
       "2007-03-31          NaN            NaN       NaN\n",
       "2007-04-30  2789.277778  514944.444444  3.500000\n",
       "2007-05-31  2838.444444  492277.777778  3.333333\n",
       "2007-06-30  2789.166667  552611.111111  3.333333\n",
       "...                 ...            ...       ...\n",
       "2019-03-31  2746.157908  626522.825053  3.056940\n",
       "2019-04-30  2729.851763  643930.128948  3.116689\n",
       "2019-05-31  2729.061775  649494.478324  3.177057\n",
       "2019-06-30  2725.081639  666697.364837  3.255660\n",
       "2019-07-31  2731.981526  642652.863063  3.189245\n",
       "\n",
       "[150 rows x 3 columns]"
      ]
     },
     "execution_count": 35,
     "metadata": {},
     "output_type": "execute_result"
    }
   ],
   "source": [
    "df.resample('M').mean(numeric_only=True).rolling(3).mean()"
   ]
  },
  {
   "cell_type": "markdown",
   "id": "b52d2e25",
   "metadata": {},
   "source": [
    "12. Отобразите линейный график по 11 заданию, выбрав столбец 'price'"
   ]
  },
  {
   "cell_type": "code",
   "execution_count": 37,
   "id": "ba8ffe90",
   "metadata": {},
   "outputs": [
    {
     "name": "stderr",
     "output_type": "stream",
     "text": [
      "C:\\Users\\kombi\\AppData\\Local\\Temp\\ipykernel_6632\\303390718.py:1: FutureWarning: 'M' is deprecated and will be removed in a future version, please use 'ME' instead.\n",
      "  df.resample('M').mean(numeric_only=True).rolling(3).mean()['price'].plot()\n"
     ]
    },
    {
     "data": {
      "text/plain": [
       "<Axes: xlabel='datesold'>"
      ]
     },
     "execution_count": 37,
     "metadata": {},
     "output_type": "execute_result"
    },
    {
     "data": {
      "image/png": "[encoded data removed]",
      "text/plain": [
       "<Figure size 640x480 with 1 Axes>"
      ]
     },
     "metadata": {},
     "output_type": "display_data"
    }
   ],
   "source": [
    "df.resample('M').mean(numeric_only=True).rolling(3).mean()['price'].plot()"
   ]
  },
  {
   "cell_type": "markdown",
   "id": "d483b14b",
   "metadata": {},
   "source": [
    "13. Агрегируйте данные по годам, взяв среднее"
   ]
  },
  {
   "cell_type": "code",
   "execution_count": 39,
   "id": "34ed6b93",
   "metadata": {},
   "outputs": [
    {
     "name": "stderr",
     "output_type": "stream",
     "text": [
      "C:\\Users\\kombi\\AppData\\Local\\Temp\\ipykernel_6632\\536833085.py:1: FutureWarning: 'Y' is deprecated and will be removed in a future version, please use 'YE' instead.\n",
      "  df.resample('Y').mean(numeric_only=True)\n"
     ]
    },
    {
     "data": {
      "text/html": [
       "<div>\n",
       "<style scoped>\n",
       "    .dataframe tbody tr th:only-of-type {\n",
       "        vertical-align: middle;\n",
       "    }\n",
       "\n",
       "    .dataframe tbody tr th {\n",
       "        vertical-align: top;\n",
       "    }\n",
       "\n",
       "    .dataframe thead th {\n",
       "        text-align: right;\n",
       "    }\n",
       "</style>\n",
       "<table border=\"1\" class=\"dataframe\">\n",
       "  <thead>\n",
       "    <tr style=\"text-align: right;\">\n",
       "      <th></th>\n",
       "      <th>postcode</th>\n",
       "      <th>price</th>\n",
       "      <th>bedrooms</th>\n",
       "    </tr>\n",
       "    <tr>\n",
       "      <th>datesold</th>\n",
       "      <th></th>\n",
       "      <th></th>\n",
       "      <th></th>\n",
       "    </tr>\n",
       "  </thead>\n",
       "  <tbody>\n",
       "    <tr>\n",
       "      <th>2007-12-31</th>\n",
       "      <td>2737.292517</td>\n",
       "      <td>522377.210884</td>\n",
       "      <td>3.292517</td>\n",
       "    </tr>\n",
       "    <tr>\n",
       "      <th>2008-12-31</th>\n",
       "      <td>2734.707355</td>\n",
       "      <td>493814.162754</td>\n",
       "      <td>3.333333</td>\n",
       "    </tr>\n",
       "    <tr>\n",
       "      <th>2009-12-31</th>\n",
       "      <td>2745.084853</td>\n",
       "      <td>496092.032959</td>\n",
       "      <td>3.279102</td>\n",
       "    </tr>\n",
       "    <tr>\n",
       "      <th>2010-12-31</th>\n",
       "      <td>2744.045659</td>\n",
       "      <td>559564.810289</td>\n",
       "      <td>3.325402</td>\n",
       "    </tr>\n",
       "    <tr>\n",
       "      <th>2011-12-31</th>\n",
       "      <td>2738.410900</td>\n",
       "      <td>566715.110227</td>\n",
       "      <td>3.292713</td>\n",
       "    </tr>\n",
       "    <tr>\n",
       "      <th>2012-12-31</th>\n",
       "      <td>2732.209365</td>\n",
       "      <td>552501.369214</td>\n",
       "      <td>3.279871</td>\n",
       "    </tr>\n",
       "    <tr>\n",
       "      <th>2013-12-31</th>\n",
       "      <td>2734.596980</td>\n",
       "      <td>553416.296838</td>\n",
       "      <td>3.298726</td>\n",
       "    </tr>\n",
       "    <tr>\n",
       "      <th>2014-12-31</th>\n",
       "      <td>2727.868320</td>\n",
       "      <td>592653.761439</td>\n",
       "      <td>3.370940</td>\n",
       "    </tr>\n",
       "    <tr>\n",
       "      <th>2015-12-31</th>\n",
       "      <td>2722.737116</td>\n",
       "      <td>626101.342654</td>\n",
       "      <td>3.320998</td>\n",
       "    </tr>\n",
       "    <tr>\n",
       "      <th>2016-12-31</th>\n",
       "      <td>2725.579836</td>\n",
       "      <td>635185.311668</td>\n",
       "      <td>3.231576</td>\n",
       "    </tr>\n",
       "    <tr>\n",
       "      <th>2017-12-31</th>\n",
       "      <td>2727.996036</td>\n",
       "      <td>671880.551420</td>\n",
       "      <td>3.210526</td>\n",
       "    </tr>\n",
       "    <tr>\n",
       "      <th>2018-12-31</th>\n",
       "      <td>2725.853551</td>\n",
       "      <td>660701.042768</td>\n",
       "      <td>3.090721</td>\n",
       "    </tr>\n",
       "    <tr>\n",
       "      <th>2019-12-31</th>\n",
       "      <td>2735.301805</td>\n",
       "      <td>634184.218773</td>\n",
       "      <td>3.119134</td>\n",
       "    </tr>\n",
       "  </tbody>\n",
       "</table>\n",
       "</div>"
      ],
      "text/plain": [
       "               postcode          price  bedrooms\n",
       "datesold                                        \n",
       "2007-12-31  2737.292517  522377.210884  3.292517\n",
       "2008-12-31  2734.707355  493814.162754  3.333333\n",
       "2009-12-31  2745.084853  496092.032959  3.279102\n",
       "2010-12-31  2744.045659  559564.810289  3.325402\n",
       "2011-12-31  2738.410900  566715.110227  3.292713\n",
       "2012-12-31  2732.209365  552501.369214  3.279871\n",
       "2013-12-31  2734.596980  553416.296838  3.298726\n",
       "2014-12-31  2727.868320  592653.761439  3.370940\n",
       "2015-12-31  2722.737116  626101.342654  3.320998\n",
       "2016-12-31  2725.579836  635185.311668  3.231576\n",
       "2017-12-31  2727.996036  671880.551420  3.210526\n",
       "2018-12-31  2725.853551  660701.042768  3.090721\n",
       "2019-12-31  2735.301805  634184.218773  3.119134"
      ]
     },
     "execution_count": 39,
     "metadata": {},
     "output_type": "execute_result"
    }
   ],
   "source": [
    " df.resample('Y').mean(numeric_only=True)"
   ]
  },
  {
   "cell_type": "markdown",
   "id": "266c710a",
   "metadata": {},
   "source": [
    "14. Отобразите линейный график по 13 заданию"
   ]
  },
  {
   "cell_type": "code",
   "execution_count": 41,
   "id": "2a5373fe",
   "metadata": {},
   "outputs": [
    {
     "name": "stderr",
     "output_type": "stream",
     "text": [
      "C:\\Users\\kombi\\AppData\\Local\\Temp\\ipykernel_6632\\574195132.py:1: FutureWarning: 'Y' is deprecated and will be removed in a future version, please use 'YE' instead.\n",
      "  df.resample('Y').mean(numeric_only=True).plot()\n"
     ]
    },
    {
     "data": {
      "text/plain": [
       "<Axes: xlabel='datesold'>"
      ]
     },
     "execution_count": 41,
     "metadata": {},
     "output_type": "execute_result"
    },
    {
     "data": {
      "image/png": "[encoded data removed]",
      "text/plain": [
       "<Figure size 640x480 with 1 Axes>"
      ]
     },
     "metadata": {},
     "output_type": "display_data"
    }
   ],
   "source": [
    "df.resample('Y').mean(numeric_only=True).plot()"
   ]
  },
  {
   "cell_type": "markdown",
   "id": "5b95ca02",
   "metadata": {},
   "source": [
    "15. С использованием groupby сгруппируйте данные по месяцам, взяв среднее. Фукнции groupby необходимо передать месяцы"
   ]
  },
  {
   "cell_type": "code",
   "execution_count": 43,
   "id": "64f3bdd8",
   "metadata": {},
   "outputs": [
    {
     "data": {
      "text/html": [
       "<div>\n",
       "<style scoped>\n",
       "    .dataframe tbody tr th:only-of-type {\n",
       "        vertical-align: middle;\n",
       "    }\n",
       "\n",
       "    .dataframe tbody tr th {\n",
       "        vertical-align: top;\n",
       "    }\n",
       "\n",
       "    .dataframe thead th {\n",
       "        text-align: right;\n",
       "    }\n",
       "</style>\n",
       "<table border=\"1\" class=\"dataframe\">\n",
       "  <thead>\n",
       "    <tr style=\"text-align: right;\">\n",
       "      <th></th>\n",
       "      <th>postcode</th>\n",
       "      <th>price</th>\n",
       "      <th>bedrooms</th>\n",
       "    </tr>\n",
       "    <tr>\n",
       "      <th>datesold</th>\n",
       "      <th></th>\n",
       "      <th></th>\n",
       "      <th></th>\n",
       "    </tr>\n",
       "  </thead>\n",
       "  <tbody>\n",
       "    <tr>\n",
       "      <th>1</th>\n",
       "      <td>2741.837423</td>\n",
       "      <td>556812.934816</td>\n",
       "      <td>3.124233</td>\n",
       "    </tr>\n",
       "    <tr>\n",
       "      <th>2</th>\n",
       "      <td>2728.011295</td>\n",
       "      <td>604714.174322</td>\n",
       "      <td>3.217244</td>\n",
       "    </tr>\n",
       "    <tr>\n",
       "      <th>3</th>\n",
       "      <td>2726.902015</td>\n",
       "      <td>624162.017373</td>\n",
       "      <td>3.280751</td>\n",
       "    </tr>\n",
       "    <tr>\n",
       "      <th>4</th>\n",
       "      <td>2733.890194</td>\n",
       "      <td>615371.905186</td>\n",
       "      <td>3.238655</td>\n",
       "    </tr>\n",
       "    <tr>\n",
       "      <th>5</th>\n",
       "      <td>2733.044333</td>\n",
       "      <td>613112.762603</td>\n",
       "      <td>3.264212</td>\n",
       "    </tr>\n",
       "    <tr>\n",
       "      <th>6</th>\n",
       "      <td>2731.258925</td>\n",
       "      <td>602028.727067</td>\n",
       "      <td>3.266155</td>\n",
       "    </tr>\n",
       "    <tr>\n",
       "      <th>7</th>\n",
       "      <td>2734.940905</td>\n",
       "      <td>588337.742666</td>\n",
       "      <td>3.194887</td>\n",
       "    </tr>\n",
       "    <tr>\n",
       "      <th>8</th>\n",
       "      <td>2731.999588</td>\n",
       "      <td>584237.228489</td>\n",
       "      <td>3.220255</td>\n",
       "    </tr>\n",
       "    <tr>\n",
       "      <th>9</th>\n",
       "      <td>2726.336291</td>\n",
       "      <td>611577.791719</td>\n",
       "      <td>3.250951</td>\n",
       "    </tr>\n",
       "    <tr>\n",
       "      <th>10</th>\n",
       "      <td>2730.896782</td>\n",
       "      <td>611372.174647</td>\n",
       "      <td>3.249608</td>\n",
       "    </tr>\n",
       "    <tr>\n",
       "      <th>11</th>\n",
       "      <td>2724.562863</td>\n",
       "      <td>647936.112186</td>\n",
       "      <td>3.323662</td>\n",
       "    </tr>\n",
       "    <tr>\n",
       "      <th>12</th>\n",
       "      <td>2726.650493</td>\n",
       "      <td>618168.901316</td>\n",
       "      <td>3.288651</td>\n",
       "    </tr>\n",
       "  </tbody>\n",
       "</table>\n",
       "</div>"
      ],
      "text/plain": [
       "             postcode          price  bedrooms\n",
       "datesold                                      \n",
       "1         2741.837423  556812.934816  3.124233\n",
       "2         2728.011295  604714.174322  3.217244\n",
       "3         2726.902015  624162.017373  3.280751\n",
       "4         2733.890194  615371.905186  3.238655\n",
       "5         2733.044333  613112.762603  3.264212\n",
       "6         2731.258925  602028.727067  3.266155\n",
       "7         2734.940905  588337.742666  3.194887\n",
       "8         2731.999588  584237.228489  3.220255\n",
       "9         2726.336291  611577.791719  3.250951\n",
       "10        2730.896782  611372.174647  3.249608\n",
       "11        2724.562863  647936.112186  3.323662\n",
       "12        2726.650493  618168.901316  3.288651"
      ]
     },
     "execution_count": 43,
     "metadata": {},
     "output_type": "execute_result"
    }
   ],
   "source": [
    "df.groupby(df.index.month ).mean( numeric_only=True)"
   ]
  },
  {
   "cell_type": "markdown",
   "id": "751efdde",
   "metadata": {},
   "source": [
    "16. Отобразите линейный график по 15 заданию, выбрав столбец 'price'"
   ]
  },
  {
   "cell_type": "code",
   "execution_count": 45,
   "id": "f607e9ee",
   "metadata": {},
   "outputs": [
    {
     "data": {
      "text/plain": [
       "<Axes: xlabel='datesold'>"
      ]
     },
     "execution_count": 45,
     "metadata": {},
     "output_type": "execute_result"
    },
    {
     "data": {
      "image/png": "[encoded data removed]",
      "text/plain": [
       "<Figure size 640x480 with 1 Axes>"
      ]
     },
     "metadata": {},
     "output_type": "display_data"
    }
   ],
   "source": [
    "df.groupby(df.index.month).mean( numeric_only=True)['price'].plot()"
   ]
  },
  {
   "cell_type": "markdown",
   "id": "6ec0c94c",
   "metadata": {},
   "source": [
    "17. С использованием groupby сгруппируйте данные по месяцам, взяв минимум. Фукнции groupby необходимо передать месяцы"
   ]
  },
  {
   "cell_type": "code",
   "execution_count": 49,
   "id": "8894446f",
   "metadata": {},
   "outputs": [],
   "source": [
    "dfm= df.index.month "
   ]
  },
  {
   "cell_type": "markdown",
   "id": "a357db74",
   "metadata": {},
   "source": [
    "18. С использованием groupby сгруппируйте данные по месяцам, взяв максимум. Фукнции groupby необходимо передать месяцы"
   ]
  },
  {
   "cell_type": "code",
   "execution_count": 51,
   "id": "e678963a",
   "metadata": {},
   "outputs": [
    {
     "data": {
      "text/plain": [
       "datesold\n",
       "1     2600000\n",
       "2     3000000\n",
       "3     3750000\n",
       "4     7300000\n",
       "5     2160000\n",
       "6     4500000\n",
       "7     4220000\n",
       "8     2875000\n",
       "9     5425000\n",
       "10    2660000\n",
       "11    8000000\n",
       "12    3500000\n",
       "Name: price, dtype: int64"
      ]
     },
     "execution_count": 51,
     "metadata": {},
     "output_type": "execute_result"
    }
   ],
   "source": [
    "df.groupby(dfm)['price'].max()"
   ]
  },
  {
   "cell_type": "markdown",
   "id": "eed572aa",
   "metadata": {},
   "source": [
    "19. С использованием groupby сгруппируйте данные по месяцам, взяв количество. Фукнции groupby необходимо передать месяцы. Отобразите линейный график."
   ]
  },
  {
   "cell_type": "code",
   "execution_count": 53,
   "id": "dc70a10b",
   "metadata": {},
   "outputs": [
    {
     "data": {
      "text/plain": [
       "<Axes: xlabel='datesold'>"
      ]
     },
     "execution_count": 53,
     "metadata": {},
     "output_type": "execute_result"
    },
    {
     "data": {
      "image/png": "[encoded data removed]",
      "text/plain": [
       "<Figure size 640x480 with 1 Axes>"
      ]
     },
     "metadata": {},
     "output_type": "display_data"
    }
   ],
   "source": [
    "df.groupby(dfm)['price'].count().plot()"
   ]
  },
  {
   "cell_type": "markdown",
   "id": "2c376f24",
   "metadata": {},
   "source": [
    "20. С использованием groupby сгруппируйте данные по дням недели, взяв количество. Фукнции groupby необходимо передать месяцы. Отобразите линейный график."
   ]
  },
  {
   "cell_type": "code",
   "execution_count": 55,
   "id": "d134fc47",
   "metadata": {},
   "outputs": [
    {
     "data": {
      "text/html": [
       "<div>\n",
       "<style scoped>\n",
       "    .dataframe tbody tr th:only-of-type {\n",
       "        vertical-align: middle;\n",
       "    }\n",
       "\n",
       "    .dataframe tbody tr th {\n",
       "        vertical-align: top;\n",
       "    }\n",
       "\n",
       "    .dataframe thead th {\n",
       "        text-align: right;\n",
       "    }\n",
       "</style>\n",
       "<table border=\"1\" class=\"dataframe\">\n",
       "  <thead>\n",
       "    <tr style=\"text-align: right;\">\n",
       "      <th></th>\n",
       "      <th>postcode</th>\n",
       "      <th>price</th>\n",
       "      <th>propertyType</th>\n",
       "      <th>bedrooms</th>\n",
       "    </tr>\n",
       "    <tr>\n",
       "      <th>datesold</th>\n",
       "      <th></th>\n",
       "      <th></th>\n",
       "      <th></th>\n",
       "      <th></th>\n",
       "    </tr>\n",
       "  </thead>\n",
       "  <tbody>\n",
       "    <tr>\n",
       "      <th>0</th>\n",
       "      <td>4497</td>\n",
       "      <td>4497</td>\n",
       "      <td>4497</td>\n",
       "      <td>4497</td>\n",
       "    </tr>\n",
       "    <tr>\n",
       "      <th>1</th>\n",
       "      <td>4468</td>\n",
       "      <td>4468</td>\n",
       "      <td>4468</td>\n",
       "      <td>4468</td>\n",
       "    </tr>\n",
       "    <tr>\n",
       "      <th>2</th>\n",
       "      <td>5152</td>\n",
       "      <td>5152</td>\n",
       "      <td>5152</td>\n",
       "      <td>5152</td>\n",
       "    </tr>\n",
       "    <tr>\n",
       "      <th>3</th>\n",
       "      <td>4791</td>\n",
       "      <td>4791</td>\n",
       "      <td>4791</td>\n",
       "      <td>4791</td>\n",
       "    </tr>\n",
       "    <tr>\n",
       "      <th>4</th>\n",
       "      <td>5463</td>\n",
       "      <td>5463</td>\n",
       "      <td>5463</td>\n",
       "      <td>5463</td>\n",
       "    </tr>\n",
       "    <tr>\n",
       "      <th>5</th>\n",
       "      <td>4993</td>\n",
       "      <td>4993</td>\n",
       "      <td>4993</td>\n",
       "      <td>4993</td>\n",
       "    </tr>\n",
       "    <tr>\n",
       "      <th>6</th>\n",
       "      <td>216</td>\n",
       "      <td>216</td>\n",
       "      <td>216</td>\n",
       "      <td>216</td>\n",
       "    </tr>\n",
       "  </tbody>\n",
       "</table>\n",
       "</div>"
      ],
      "text/plain": [
       "          postcode  price  propertyType  bedrooms\n",
       "datesold                                         \n",
       "0             4497   4497          4497      4497\n",
       "1             4468   4468          4468      4468\n",
       "2             5152   5152          5152      5152\n",
       "3             4791   4791          4791      4791\n",
       "4             5463   5463          5463      5463\n",
       "5             4993   4993          4993      4993\n",
       "6              216    216           216       216"
      ]
     },
     "execution_count": 55,
     "metadata": {},
     "output_type": "execute_result"
    }
   ],
   "source": [
    "dfw = df.index.weekday\n",
    "df.groupby(dfw).count()"
   ]
  },
  {
   "cell_type": "markdown",
   "id": "cbd2ab37",
   "metadata": {},
   "source": [
    "21. Поменяйте численное обзначение дней недели в буквенное и отобразите график по столбцу 'price'"
   ]
  },
  {
   "cell_type": "code",
   "execution_count": 57,
   "id": "fa9c7f40",
   "metadata": {},
   "outputs": [
    {
     "data": {
      "text/plain": [
       "datesold\n",
       "0    4497\n",
       "1    4468\n",
       "2    5152\n",
       "3    4791\n",
       "4    5463\n",
       "5    4993\n",
       "6     216\n",
       "Name: price, dtype: int64"
      ]
     },
     "execution_count": 57,
     "metadata": {},
     "output_type": "execute_result"
    }
   ],
   "source": [
    "df.groupby(dfw)['price'].count()"
   ]
  },
  {
   "cell_type": "code",
   "execution_count": 141,
   "id": "02f8ca92",
   "metadata": {},
   "outputs": [],
   "source": []
  },
  {
   "cell_type": "code",
   "execution_count": 59,
   "id": "afe9c03a",
   "metadata": {},
   "outputs": [
    {
     "data": {
      "text/plain": [
       "<Axes: xlabel='datesold'>"
      ]
     },
     "execution_count": 59,
     "metadata": {},
     "output_type": "execute_result"
    },
    {
     "data": {
      "image/png": "[encoded data removed]",
      "text/plain": [
       "<Figure size 640x480 with 1 Axes>"
      ]
     },
     "metadata": {},
     "output_type": "display_data"
    }
   ],
   "source": [
    "by_weekday = df.groupby(dfw)['price'].count()\n",
    "by_weekday.plot()"
   ]
  },
  {
   "cell_type": "markdown",
   "id": "274b43e4",
   "metadata": {},
   "source": [
    "22. Отобразите данные с 2017 по 2019 года. и передайте таблицу новой переменной df2"
   ]
  },
  {
   "cell_type": "code",
   "execution_count": 61,
   "id": "0e6e688d",
   "metadata": {},
   "outputs": [
    {
     "data": {
      "text/html": [
       "<div>\n",
       "<style scoped>\n",
       "    .dataframe tbody tr th:only-of-type {\n",
       "        vertical-align: middle;\n",
       "    }\n",
       "\n",
       "    .dataframe tbody tr th {\n",
       "        vertical-align: top;\n",
       "    }\n",
       "\n",
       "    .dataframe thead th {\n",
       "        text-align: right;\n",
       "    }\n",
       "</style>\n",
       "<table border=\"1\" class=\"dataframe\">\n",
       "  <thead>\n",
       "    <tr style=\"text-align: right;\">\n",
       "      <th></th>\n",
       "      <th>postcode</th>\n",
       "      <th>price</th>\n",
       "      <th>propertyType</th>\n",
       "      <th>bedrooms</th>\n",
       "    </tr>\n",
       "    <tr>\n",
       "      <th>datesold</th>\n",
       "      <th></th>\n",
       "      <th></th>\n",
       "      <th></th>\n",
       "      <th></th>\n",
       "    </tr>\n",
       "  </thead>\n",
       "  <tbody>\n",
       "    <tr>\n",
       "      <th>2017-01-01</th>\n",
       "      <td>2602</td>\n",
       "      <td>1095000</td>\n",
       "      <td>house</td>\n",
       "      <td>4</td>\n",
       "    </tr>\n",
       "    <tr>\n",
       "      <th>2017-01-03</th>\n",
       "      <td>2615</td>\n",
       "      <td>426000</td>\n",
       "      <td>house</td>\n",
       "      <td>3</td>\n",
       "    </tr>\n",
       "    <tr>\n",
       "      <th>2017-01-05</th>\n",
       "      <td>2615</td>\n",
       "      <td>410000</td>\n",
       "      <td>house</td>\n",
       "      <td>2</td>\n",
       "    </tr>\n",
       "    <tr>\n",
       "      <th>2017-01-05</th>\n",
       "      <td>2906</td>\n",
       "      <td>645000</td>\n",
       "      <td>house</td>\n",
       "      <td>4</td>\n",
       "    </tr>\n",
       "    <tr>\n",
       "      <th>2017-01-05</th>\n",
       "      <td>2914</td>\n",
       "      <td>745000</td>\n",
       "      <td>house</td>\n",
       "      <td>5</td>\n",
       "    </tr>\n",
       "    <tr>\n",
       "      <th>...</th>\n",
       "      <td>...</td>\n",
       "      <td>...</td>\n",
       "      <td>...</td>\n",
       "      <td>...</td>\n",
       "    </tr>\n",
       "    <tr>\n",
       "      <th>2019-07-25</th>\n",
       "      <td>2900</td>\n",
       "      <td>500000</td>\n",
       "      <td>unit</td>\n",
       "      <td>3</td>\n",
       "    </tr>\n",
       "    <tr>\n",
       "      <th>2019-07-25</th>\n",
       "      <td>2612</td>\n",
       "      <td>560000</td>\n",
       "      <td>unit</td>\n",
       "      <td>2</td>\n",
       "    </tr>\n",
       "    <tr>\n",
       "      <th>2019-07-26</th>\n",
       "      <td>2912</td>\n",
       "      <td>464950</td>\n",
       "      <td>unit</td>\n",
       "      <td>2</td>\n",
       "    </tr>\n",
       "    <tr>\n",
       "      <th>2019-07-26</th>\n",
       "      <td>2601</td>\n",
       "      <td>589000</td>\n",
       "      <td>unit</td>\n",
       "      <td>2</td>\n",
       "    </tr>\n",
       "    <tr>\n",
       "      <th>2019-07-26</th>\n",
       "      <td>2612</td>\n",
       "      <td>775000</td>\n",
       "      <td>unit</td>\n",
       "      <td>2</td>\n",
       "    </tr>\n",
       "  </tbody>\n",
       "</table>\n",
       "<p>9784 rows × 4 columns</p>\n",
       "</div>"
      ],
      "text/plain": [
       "            postcode    price propertyType  bedrooms\n",
       "datesold                                            \n",
       "2017-01-01      2602  1095000        house         4\n",
       "2017-01-03      2615   426000        house         3\n",
       "2017-01-05      2615   410000        house         2\n",
       "2017-01-05      2906   645000        house         4\n",
       "2017-01-05      2914   745000        house         5\n",
       "...              ...      ...          ...       ...\n",
       "2019-07-25      2900   500000         unit         3\n",
       "2019-07-25      2612   560000         unit         2\n",
       "2019-07-26      2912   464950         unit         2\n",
       "2019-07-26      2601   589000         unit         2\n",
       "2019-07-26      2612   775000         unit         2\n",
       "\n",
       "[9784 rows x 4 columns]"
      ]
     },
     "execution_count": 61,
     "metadata": {},
     "output_type": "execute_result"
    }
   ],
   "source": [
    "df2 = df[(df.index.year > 2016) & (df.index.year < 2020)]\n",
    "df2"
   ]
  },
  {
   "cell_type": "code",
   "execution_count": null,
   "id": "e0dfacec",
   "metadata": {},
   "outputs": [],
   "source": []
  },
  {
   "cell_type": "markdown",
   "id": "38d2724e",
   "metadata": {},
   "source": [
    "23. Агрегируйте столбец 'price' таблицы df2 по месяцу и выведите среднее"
   ]
  },
  {
   "cell_type": "code",
   "execution_count": 64,
   "id": "47e34585",
   "metadata": {},
   "outputs": [
    {
     "data": {
      "text/plain": [
       "datesold\n",
       "2017-01-31    566190.250000\n",
       "2017-02-28    683978.623832\n",
       "2017-03-31    668966.513953\n",
       "2017-04-30    680138.399433\n",
       "2017-05-31    661891.971014\n",
       "2017-06-30    655731.017804\n",
       "2017-07-31    675710.884375\n",
       "2017-08-31    641171.159574\n",
       "2017-09-30    670468.142119\n",
       "2017-10-31    659916.747525\n",
       "2017-11-30    721804.684701\n",
       "2017-12-31    697552.703125\n",
       "2018-01-31    590753.808140\n",
       "2018-02-28    666738.265854\n",
       "2018-03-31    717516.058824\n",
       "2018-04-30    665040.377095\n",
       "2018-05-31    669840.556561\n",
       "2018-06-30    660528.720238\n",
       "2018-07-31    628073.993289\n",
       "2018-08-31    629684.079208\n",
       "2018-09-30    658647.394464\n",
       "2018-10-31    655744.728223\n",
       "2018-11-30    654334.517241\n",
       "2018-12-31    674591.105023\n",
       "2019-01-31    603103.649635\n",
       "2019-02-28    624798.088235\n",
       "2019-03-31    651666.737288\n",
       "2019-04-30    655325.561321\n",
       "2019-05-31    641491.136364\n",
       "2019-06-30    703275.396825\n",
       "2019-07-31    583192.056000\n",
       "Freq: ME, Name: price, dtype: float64"
      ]
     },
     "execution_count": 64,
     "metadata": {},
     "output_type": "execute_result"
    }
   ],
   "source": [
    "df2['price'].resample('ME').mean()"
   ]
  },
  {
   "cell_type": "markdown",
   "id": "58b89648",
   "metadata": {},
   "source": [
    "24. Агрегируйте столбец price таблицы df2 по месяцу и выведите количество"
   ]
  },
  {
   "cell_type": "code",
   "execution_count": 66,
   "id": "5c83802d",
   "metadata": {},
   "outputs": [
    {
     "data": {
      "text/plain": [
       "datesold\n",
       "2017-01-31    172\n",
       "2017-02-28    428\n",
       "2017-03-31    430\n",
       "2017-04-30    353\n",
       "2017-05-31    414\n",
       "2017-06-30    337\n",
       "2017-07-31    320\n",
       "2017-08-31    376\n",
       "2017-09-30    387\n",
       "2017-10-31    404\n",
       "2017-11-30    536\n",
       "2017-12-31    384\n",
       "2018-01-31    172\n",
       "2018-02-28    410\n",
       "2018-03-31    425\n",
       "2018-04-30    358\n",
       "2018-05-31    442\n",
       "2018-06-30    336\n",
       "2018-07-31    298\n",
       "2018-08-31    303\n",
       "2018-09-30    289\n",
       "2018-10-31    287\n",
       "2018-11-30    319\n",
       "2018-12-31    219\n",
       "2019-01-31    137\n",
       "2019-02-28    204\n",
       "2019-03-31    236\n",
       "2019-04-30    212\n",
       "2019-05-31    220\n",
       "2019-06-30    126\n",
       "2019-07-31    250\n",
       "Freq: ME, Name: price, dtype: int64"
      ]
     },
     "execution_count": 66,
     "metadata": {},
     "output_type": "execute_result"
    }
   ],
   "source": [
    "df2['price'].resample('ME').count()"
   ]
  },
  {
   "cell_type": "markdown",
   "id": "c192edf0",
   "metadata": {},
   "source": [
    "25. Постройте линейный график задания 24. Обратите внимание на интервалы по оси x"
   ]
  },
  {
   "cell_type": "code",
   "execution_count": 70,
   "id": "53928966",
   "metadata": {},
   "outputs": [
    {
     "data": {
      "text/plain": [
       "<Axes: xlabel='datesold'>"
      ]
     },
     "execution_count": 70,
     "metadata": {},
     "output_type": "execute_result"
    },
    {
     "data": {
      "image/png": "[encoded data removed]",
      "text/plain": [
       "<Figure size 640x480 with 1 Axes>"
      ]
     },
     "metadata": {},
     "output_type": "display_data"
    }
   ],
   "source": [
    "df2['price'].resample('ME' ).count().plot()"
   ]
  },
  {
   "cell_type": "code",
   "execution_count": 75,
   "id": "c7b01d76",
   "metadata": {},
   "outputs": [
    {
     "data": {
      "text/plain": [
       "<Axes: xlabel='datesold'>"
      ]
     },
     "execution_count": 75,
     "metadata": {},
     "output_type": "execute_result"
    },
    {
     "data": {
      "image/png": "[encoded data removed]",
      "text/plain": [
       "<Figure size 640x480 with 1 Axes>"
      ]
     },
     "metadata": {},
     "output_type": "display_data"
    }
   ],
   "source": []
  },
  {
   "cell_type": "markdown",
   "id": "950bca93",
   "metadata": {},
   "source": [
    "26. Поменяйте деление по оси x, отобразив деление примерно по каждым 3 месяцам и отобразите агрегированный столбец price таблицы df2 по месяцу, применив функцию агрегирования count"
   ]
  },
  {
   "cell_type": "code",
   "execution_count": 76,
   "id": "9a03da25",
   "metadata": {},
   "outputs": [
    {
     "data": {
      "text/plain": [
       "<Axes: xlabel='datesold', ylabel='price'>"
      ]
     },
     "execution_count": 76,
     "metadata": {},
     "output_type": "execute_result"
    },
    {
     "data": {
      "image/png": "[encoded data removed]",
      "text/plain": [
       "<Figure size 640x480 with 1 Axes>"
      ]
     },
     "metadata": {},
     "output_type": "display_data"
    }
   ],
   "source": [
    "d = df2['price'].resample('ME').count()\n",
    "sns.lineplot(data = d)"
   ]
  },
  {
   "cell_type": "markdown",
   "id": "cc7518c0",
   "metadata": {},
   "source": [
    "27. Поменяйте деление по оси x, отобразив деление примерно по каждым 3 месяцам и отобразите агрегированный столбец price таблицы df2 по неделям, применив функцию агрегирования count"
   ]
  },
  {
   "cell_type": "code",
   "execution_count": 78,
   "id": "104a8662",
   "metadata": {},
   "outputs": [
    {
     "data": {
      "text/plain": [
       "<Axes: xlabel='datesold'>"
      ]
     },
     "execution_count": 78,
     "metadata": {},
     "output_type": "execute_result"
    },
    {
     "data": {
      "image/png": "[encoded data removed]",
      "text/plain": [
       "<Figure size 640x480 with 1 Axes>"
      ]
     },
     "metadata": {},
     "output_type": "display_data"
    }
   ],
   "source": [
    "df2.resample(\"W\").count()[\"price\"].plot()"
   ]
  },
  {
   "cell_type": "markdown",
   "id": "3c669413",
   "metadata": {},
   "source": [
    "SHIFT"
   ]
  },
  {
   "cell_type": "markdown",
   "id": "08d4cb43",
   "metadata": {},
   "source": [
    "28. Агрегируйте в df2 столбец price по месяцу и отобразите среднее. Присвойте все это переменной df3"
   ]
  },
  {
   "cell_type": "code",
   "execution_count": 84,
   "id": "4feb23ff",
   "metadata": {},
   "outputs": [],
   "source": [
    "df3 = df2['price'].resample('ME').mean()"
   ]
  },
  {
   "cell_type": "markdown",
   "id": "0bd96e73",
   "metadata": {},
   "source": [
    "29. Преобразуйте df3 в датафрейм"
   ]
  },
  {
   "cell_type": "code",
   "execution_count": 89,
   "id": "b74536fb",
   "metadata": {},
   "outputs": [
    {
     "data": {
      "text/html": [
       "<div>\n",
       "<style scoped>\n",
       "    .dataframe tbody tr th:only-of-type {\n",
       "        vertical-align: middle;\n",
       "    }\n",
       "\n",
       "    .dataframe tbody tr th {\n",
       "        vertical-align: top;\n",
       "    }\n",
       "\n",
       "    .dataframe thead th {\n",
       "        text-align: right;\n",
       "    }\n",
       "</style>\n",
       "<table border=\"1\" class=\"dataframe\">\n",
       "  <thead>\n",
       "    <tr style=\"text-align: right;\">\n",
       "      <th></th>\n",
       "      <th>price</th>\n",
       "    </tr>\n",
       "    <tr>\n",
       "      <th>datesold</th>\n",
       "      <th></th>\n",
       "    </tr>\n",
       "  </thead>\n",
       "  <tbody>\n",
       "    <tr>\n",
       "      <th>2017-01-31</th>\n",
       "      <td>566190.250000</td>\n",
       "    </tr>\n",
       "    <tr>\n",
       "      <th>2017-02-28</th>\n",
       "      <td>683978.623832</td>\n",
       "    </tr>\n",
       "    <tr>\n",
       "      <th>2017-03-31</th>\n",
       "      <td>668966.513953</td>\n",
       "    </tr>\n",
       "    <tr>\n",
       "      <th>2017-04-30</th>\n",
       "      <td>680138.399433</td>\n",
       "    </tr>\n",
       "    <tr>\n",
       "      <th>2017-05-31</th>\n",
       "      <td>661891.971014</td>\n",
       "    </tr>\n",
       "    <tr>\n",
       "      <th>2017-06-30</th>\n",
       "      <td>655731.017804</td>\n",
       "    </tr>\n",
       "    <tr>\n",
       "      <th>2017-07-31</th>\n",
       "      <td>675710.884375</td>\n",
       "    </tr>\n",
       "    <tr>\n",
       "      <th>2017-08-31</th>\n",
       "      <td>641171.159574</td>\n",
       "    </tr>\n",
       "    <tr>\n",
       "      <th>2017-09-30</th>\n",
       "      <td>670468.142119</td>\n",
       "    </tr>\n",
       "    <tr>\n",
       "      <th>2017-10-31</th>\n",
       "      <td>659916.747525</td>\n",
       "    </tr>\n",
       "    <tr>\n",
       "      <th>2017-11-30</th>\n",
       "      <td>721804.684701</td>\n",
       "    </tr>\n",
       "    <tr>\n",
       "      <th>2017-12-31</th>\n",
       "      <td>697552.703125</td>\n",
       "    </tr>\n",
       "    <tr>\n",
       "      <th>2018-01-31</th>\n",
       "      <td>590753.808140</td>\n",
       "    </tr>\n",
       "    <tr>\n",
       "      <th>2018-02-28</th>\n",
       "      <td>666738.265854</td>\n",
       "    </tr>\n",
       "    <tr>\n",
       "      <th>2018-03-31</th>\n",
       "      <td>717516.058824</td>\n",
       "    </tr>\n",
       "    <tr>\n",
       "      <th>2018-04-30</th>\n",
       "      <td>665040.377095</td>\n",
       "    </tr>\n",
       "    <tr>\n",
       "      <th>2018-05-31</th>\n",
       "      <td>669840.556561</td>\n",
       "    </tr>\n",
       "    <tr>\n",
       "      <th>2018-06-30</th>\n",
       "      <td>660528.720238</td>\n",
       "    </tr>\n",
       "    <tr>\n",
       "      <th>2018-07-31</th>\n",
       "      <td>628073.993289</td>\n",
       "    </tr>\n",
       "    <tr>\n",
       "      <th>2018-08-31</th>\n",
       "      <td>629684.079208</td>\n",
       "    </tr>\n",
       "    <tr>\n",
       "      <th>2018-09-30</th>\n",
       "      <td>658647.394464</td>\n",
       "    </tr>\n",
       "    <tr>\n",
       "      <th>2018-10-31</th>\n",
       "      <td>655744.728223</td>\n",
       "    </tr>\n",
       "    <tr>\n",
       "      <th>2018-11-30</th>\n",
       "      <td>654334.517241</td>\n",
       "    </tr>\n",
       "    <tr>\n",
       "      <th>2018-12-31</th>\n",
       "      <td>674591.105023</td>\n",
       "    </tr>\n",
       "    <tr>\n",
       "      <th>2019-01-31</th>\n",
       "      <td>603103.649635</td>\n",
       "    </tr>\n",
       "    <tr>\n",
       "      <th>2019-02-28</th>\n",
       "      <td>624798.088235</td>\n",
       "    </tr>\n",
       "    <tr>\n",
       "      <th>2019-03-31</th>\n",
       "      <td>651666.737288</td>\n",
       "    </tr>\n",
       "    <tr>\n",
       "      <th>2019-04-30</th>\n",
       "      <td>655325.561321</td>\n",
       "    </tr>\n",
       "    <tr>\n",
       "      <th>2019-05-31</th>\n",
       "      <td>641491.136364</td>\n",
       "    </tr>\n",
       "    <tr>\n",
       "      <th>2019-06-30</th>\n",
       "      <td>703275.396825</td>\n",
       "    </tr>\n",
       "    <tr>\n",
       "      <th>2019-07-31</th>\n",
       "      <td>583192.056000</td>\n",
       "    </tr>\n",
       "  </tbody>\n",
       "</table>\n",
       "</div>"
      ],
      "text/plain": [
       "                    price\n",
       "datesold                 \n",
       "2017-01-31  566190.250000\n",
       "2017-02-28  683978.623832\n",
       "2017-03-31  668966.513953\n",
       "2017-04-30  680138.399433\n",
       "2017-05-31  661891.971014\n",
       "2017-06-30  655731.017804\n",
       "2017-07-31  675710.884375\n",
       "2017-08-31  641171.159574\n",
       "2017-09-30  670468.142119\n",
       "2017-10-31  659916.747525\n",
       "2017-11-30  721804.684701\n",
       "2017-12-31  697552.703125\n",
       "2018-01-31  590753.808140\n",
       "2018-02-28  666738.265854\n",
       "2018-03-31  717516.058824\n",
       "2018-04-30  665040.377095\n",
       "2018-05-31  669840.556561\n",
       "2018-06-30  660528.720238\n",
       "2018-07-31  628073.993289\n",
       "2018-08-31  629684.079208\n",
       "2018-09-30  658647.394464\n",
       "2018-10-31  655744.728223\n",
       "2018-11-30  654334.517241\n",
       "2018-12-31  674591.105023\n",
       "2019-01-31  603103.649635\n",
       "2019-02-28  624798.088235\n",
       "2019-03-31  651666.737288\n",
       "2019-04-30  655325.561321\n",
       "2019-05-31  641491.136364\n",
       "2019-06-30  703275.396825\n",
       "2019-07-31  583192.056000"
      ]
     },
     "execution_count": 89,
     "metadata": {},
     "output_type": "execute_result"
    }
   ],
   "source": [
    "df3 = pd.DataFrame(df3)\n",
    "df3"
   ]
  },
  {
   "cell_type": "markdown",
   "id": "ec9ad0bf",
   "metadata": {},
   "source": [
    "30. Создайте столбец ['Prev Month Average Price'], для которого необходимо сдвинут price на 1 день "
   ]
  },
  {
   "cell_type": "code",
   "execution_count": 91,
   "id": "44a2111c",
   "metadata": {},
   "outputs": [],
   "source": [
    "df3['Prev Month Average Price'] = df3.shift(1)"
   ]
  },
  {
   "cell_type": "code",
   "execution_count": 93,
   "id": "06b5541c",
   "metadata": {},
   "outputs": [
    {
     "data": {
      "text/html": [
       "<div>\n",
       "<style scoped>\n",
       "    .dataframe tbody tr th:only-of-type {\n",
       "        vertical-align: middle;\n",
       "    }\n",
       "\n",
       "    .dataframe tbody tr th {\n",
       "        vertical-align: top;\n",
       "    }\n",
       "\n",
       "    .dataframe thead th {\n",
       "        text-align: right;\n",
       "    }\n",
       "</style>\n",
       "<table border=\"1\" class=\"dataframe\">\n",
       "  <thead>\n",
       "    <tr style=\"text-align: right;\">\n",
       "      <th></th>\n",
       "      <th>price</th>\n",
       "      <th>Prev Month Average Price</th>\n",
       "    </tr>\n",
       "    <tr>\n",
       "      <th>datesold</th>\n",
       "      <th></th>\n",
       "      <th></th>\n",
       "    </tr>\n",
       "  </thead>\n",
       "  <tbody>\n",
       "    <tr>\n",
       "      <th>2017-01-31</th>\n",
       "      <td>566190.250000</td>\n",
       "      <td>NaN</td>\n",
       "    </tr>\n",
       "    <tr>\n",
       "      <th>2017-02-28</th>\n",
       "      <td>683978.623832</td>\n",
       "      <td>566190.250000</td>\n",
       "    </tr>\n",
       "    <tr>\n",
       "      <th>2017-03-31</th>\n",
       "      <td>668966.513953</td>\n",
       "      <td>683978.623832</td>\n",
       "    </tr>\n",
       "    <tr>\n",
       "      <th>2017-04-30</th>\n",
       "      <td>680138.399433</td>\n",
       "      <td>668966.513953</td>\n",
       "    </tr>\n",
       "    <tr>\n",
       "      <th>2017-05-31</th>\n",
       "      <td>661891.971014</td>\n",
       "      <td>680138.399433</td>\n",
       "    </tr>\n",
       "    <tr>\n",
       "      <th>2017-06-30</th>\n",
       "      <td>655731.017804</td>\n",
       "      <td>661891.971014</td>\n",
       "    </tr>\n",
       "    <tr>\n",
       "      <th>2017-07-31</th>\n",
       "      <td>675710.884375</td>\n",
       "      <td>655731.017804</td>\n",
       "    </tr>\n",
       "    <tr>\n",
       "      <th>2017-08-31</th>\n",
       "      <td>641171.159574</td>\n",
       "      <td>675710.884375</td>\n",
       "    </tr>\n",
       "    <tr>\n",
       "      <th>2017-09-30</th>\n",
       "      <td>670468.142119</td>\n",
       "      <td>641171.159574</td>\n",
       "    </tr>\n",
       "    <tr>\n",
       "      <th>2017-10-31</th>\n",
       "      <td>659916.747525</td>\n",
       "      <td>670468.142119</td>\n",
       "    </tr>\n",
       "    <tr>\n",
       "      <th>2017-11-30</th>\n",
       "      <td>721804.684701</td>\n",
       "      <td>659916.747525</td>\n",
       "    </tr>\n",
       "    <tr>\n",
       "      <th>2017-12-31</th>\n",
       "      <td>697552.703125</td>\n",
       "      <td>721804.684701</td>\n",
       "    </tr>\n",
       "    <tr>\n",
       "      <th>2018-01-31</th>\n",
       "      <td>590753.808140</td>\n",
       "      <td>697552.703125</td>\n",
       "    </tr>\n",
       "    <tr>\n",
       "      <th>2018-02-28</th>\n",
       "      <td>666738.265854</td>\n",
       "      <td>590753.808140</td>\n",
       "    </tr>\n",
       "    <tr>\n",
       "      <th>2018-03-31</th>\n",
       "      <td>717516.058824</td>\n",
       "      <td>666738.265854</td>\n",
       "    </tr>\n",
       "    <tr>\n",
       "      <th>2018-04-30</th>\n",
       "      <td>665040.377095</td>\n",
       "      <td>717516.058824</td>\n",
       "    </tr>\n",
       "    <tr>\n",
       "      <th>2018-05-31</th>\n",
       "      <td>669840.556561</td>\n",
       "      <td>665040.377095</td>\n",
       "    </tr>\n",
       "    <tr>\n",
       "      <th>2018-06-30</th>\n",
       "      <td>660528.720238</td>\n",
       "      <td>669840.556561</td>\n",
       "    </tr>\n",
       "    <tr>\n",
       "      <th>2018-07-31</th>\n",
       "      <td>628073.993289</td>\n",
       "      <td>660528.720238</td>\n",
       "    </tr>\n",
       "    <tr>\n",
       "      <th>2018-08-31</th>\n",
       "      <td>629684.079208</td>\n",
       "      <td>628073.993289</td>\n",
       "    </tr>\n",
       "    <tr>\n",
       "      <th>2018-09-30</th>\n",
       "      <td>658647.394464</td>\n",
       "      <td>629684.079208</td>\n",
       "    </tr>\n",
       "    <tr>\n",
       "      <th>2018-10-31</th>\n",
       "      <td>655744.728223</td>\n",
       "      <td>658647.394464</td>\n",
       "    </tr>\n",
       "    <tr>\n",
       "      <th>2018-11-30</th>\n",
       "      <td>654334.517241</td>\n",
       "      <td>655744.728223</td>\n",
       "    </tr>\n",
       "    <tr>\n",
       "      <th>2018-12-31</th>\n",
       "      <td>674591.105023</td>\n",
       "      <td>654334.517241</td>\n",
       "    </tr>\n",
       "    <tr>\n",
       "      <th>2019-01-31</th>\n",
       "      <td>603103.649635</td>\n",
       "      <td>674591.105023</td>\n",
       "    </tr>\n",
       "    <tr>\n",
       "      <th>2019-02-28</th>\n",
       "      <td>624798.088235</td>\n",
       "      <td>603103.649635</td>\n",
       "    </tr>\n",
       "    <tr>\n",
       "      <th>2019-03-31</th>\n",
       "      <td>651666.737288</td>\n",
       "      <td>624798.088235</td>\n",
       "    </tr>\n",
       "    <tr>\n",
       "      <th>2019-04-30</th>\n",
       "      <td>655325.561321</td>\n",
       "      <td>651666.737288</td>\n",
       "    </tr>\n",
       "    <tr>\n",
       "      <th>2019-05-31</th>\n",
       "      <td>641491.136364</td>\n",
       "      <td>655325.561321</td>\n",
       "    </tr>\n",
       "    <tr>\n",
       "      <th>2019-06-30</th>\n",
       "      <td>703275.396825</td>\n",
       "      <td>641491.136364</td>\n",
       "    </tr>\n",
       "    <tr>\n",
       "      <th>2019-07-31</th>\n",
       "      <td>583192.056000</td>\n",
       "      <td>703275.396825</td>\n",
       "    </tr>\n",
       "  </tbody>\n",
       "</table>\n",
       "</div>"
      ],
      "text/plain": [
       "                    price  Prev Month Average Price\n",
       "datesold                                           \n",
       "2017-01-31  566190.250000                       NaN\n",
       "2017-02-28  683978.623832             566190.250000\n",
       "2017-03-31  668966.513953             683978.623832\n",
       "2017-04-30  680138.399433             668966.513953\n",
       "2017-05-31  661891.971014             680138.399433\n",
       "2017-06-30  655731.017804             661891.971014\n",
       "2017-07-31  675710.884375             655731.017804\n",
       "2017-08-31  641171.159574             675710.884375\n",
       "2017-09-30  670468.142119             641171.159574\n",
       "2017-10-31  659916.747525             670468.142119\n",
       "2017-11-30  721804.684701             659916.747525\n",
       "2017-12-31  697552.703125             721804.684701\n",
       "2018-01-31  590753.808140             697552.703125\n",
       "2018-02-28  666738.265854             590753.808140\n",
       "2018-03-31  717516.058824             666738.265854\n",
       "2018-04-30  665040.377095             717516.058824\n",
       "2018-05-31  669840.556561             665040.377095\n",
       "2018-06-30  660528.720238             669840.556561\n",
       "2018-07-31  628073.993289             660528.720238\n",
       "2018-08-31  629684.079208             628073.993289\n",
       "2018-09-30  658647.394464             629684.079208\n",
       "2018-10-31  655744.728223             658647.394464\n",
       "2018-11-30  654334.517241             655744.728223\n",
       "2018-12-31  674591.105023             654334.517241\n",
       "2019-01-31  603103.649635             674591.105023\n",
       "2019-02-28  624798.088235             603103.649635\n",
       "2019-03-31  651666.737288             624798.088235\n",
       "2019-04-30  655325.561321             651666.737288\n",
       "2019-05-31  641491.136364             655325.561321\n",
       "2019-06-30  703275.396825             641491.136364\n",
       "2019-07-31  583192.056000             703275.396825"
      ]
     },
     "execution_count": 93,
     "metadata": {},
     "output_type": "execute_result"
    }
   ],
   "source": [
    "df3"
   ]
  },
  {
   "cell_type": "markdown",
   "id": "eaaefbc1",
   "metadata": {},
   "source": [
    "31. Создайте столбец '1 month change', который отражает разницу в цене между price и Prev Month Average Price"
   ]
  },
  {
   "cell_type": "code",
   "execution_count": 95,
   "id": "93bfb38c",
   "metadata": {},
   "outputs": [],
   "source": [
    "df3['1 month change'] = df3['price'] - df3['Prev Month Average Price']"
   ]
  },
  {
   "cell_type": "code",
   "execution_count": 97,
   "id": "c2ac46a1",
   "metadata": {},
   "outputs": [
    {
     "data": {
      "text/html": [
       "<div>\n",
       "<style scoped>\n",
       "    .dataframe tbody tr th:only-of-type {\n",
       "        vertical-align: middle;\n",
       "    }\n",
       "\n",
       "    .dataframe tbody tr th {\n",
       "        vertical-align: top;\n",
       "    }\n",
       "\n",
       "    .dataframe thead th {\n",
       "        text-align: right;\n",
       "    }\n",
       "</style>\n",
       "<table border=\"1\" class=\"dataframe\">\n",
       "  <thead>\n",
       "    <tr style=\"text-align: right;\">\n",
       "      <th></th>\n",
       "      <th>price</th>\n",
       "      <th>Prev Month Average Price</th>\n",
       "      <th>1 month change</th>\n",
       "    </tr>\n",
       "    <tr>\n",
       "      <th>datesold</th>\n",
       "      <th></th>\n",
       "      <th></th>\n",
       "      <th></th>\n",
       "    </tr>\n",
       "  </thead>\n",
       "  <tbody>\n",
       "    <tr>\n",
       "      <th>2017-01-31</th>\n",
       "      <td>566190.250000</td>\n",
       "      <td>NaN</td>\n",
       "      <td>NaN</td>\n",
       "    </tr>\n",
       "    <tr>\n",
       "      <th>2017-02-28</th>\n",
       "      <td>683978.623832</td>\n",
       "      <td>566190.250000</td>\n",
       "      <td>117788.373832</td>\n",
       "    </tr>\n",
       "    <tr>\n",
       "      <th>2017-03-31</th>\n",
       "      <td>668966.513953</td>\n",
       "      <td>683978.623832</td>\n",
       "      <td>-15012.109878</td>\n",
       "    </tr>\n",
       "    <tr>\n",
       "      <th>2017-04-30</th>\n",
       "      <td>680138.399433</td>\n",
       "      <td>668966.513953</td>\n",
       "      <td>11171.885480</td>\n",
       "    </tr>\n",
       "    <tr>\n",
       "      <th>2017-05-31</th>\n",
       "      <td>661891.971014</td>\n",
       "      <td>680138.399433</td>\n",
       "      <td>-18246.428419</td>\n",
       "    </tr>\n",
       "    <tr>\n",
       "      <th>2017-06-30</th>\n",
       "      <td>655731.017804</td>\n",
       "      <td>661891.971014</td>\n",
       "      <td>-6160.953210</td>\n",
       "    </tr>\n",
       "    <tr>\n",
       "      <th>2017-07-31</th>\n",
       "      <td>675710.884375</td>\n",
       "      <td>655731.017804</td>\n",
       "      <td>19979.866571</td>\n",
       "    </tr>\n",
       "    <tr>\n",
       "      <th>2017-08-31</th>\n",
       "      <td>641171.159574</td>\n",
       "      <td>675710.884375</td>\n",
       "      <td>-34539.724801</td>\n",
       "    </tr>\n",
       "    <tr>\n",
       "      <th>2017-09-30</th>\n",
       "      <td>670468.142119</td>\n",
       "      <td>641171.159574</td>\n",
       "      <td>29296.982544</td>\n",
       "    </tr>\n",
       "    <tr>\n",
       "      <th>2017-10-31</th>\n",
       "      <td>659916.747525</td>\n",
       "      <td>670468.142119</td>\n",
       "      <td>-10551.394594</td>\n",
       "    </tr>\n",
       "    <tr>\n",
       "      <th>2017-11-30</th>\n",
       "      <td>721804.684701</td>\n",
       "      <td>659916.747525</td>\n",
       "      <td>61887.937177</td>\n",
       "    </tr>\n",
       "    <tr>\n",
       "      <th>2017-12-31</th>\n",
       "      <td>697552.703125</td>\n",
       "      <td>721804.684701</td>\n",
       "      <td>-24251.981576</td>\n",
       "    </tr>\n",
       "    <tr>\n",
       "      <th>2018-01-31</th>\n",
       "      <td>590753.808140</td>\n",
       "      <td>697552.703125</td>\n",
       "      <td>-106798.894985</td>\n",
       "    </tr>\n",
       "    <tr>\n",
       "      <th>2018-02-28</th>\n",
       "      <td>666738.265854</td>\n",
       "      <td>590753.808140</td>\n",
       "      <td>75984.457714</td>\n",
       "    </tr>\n",
       "    <tr>\n",
       "      <th>2018-03-31</th>\n",
       "      <td>717516.058824</td>\n",
       "      <td>666738.265854</td>\n",
       "      <td>50777.792970</td>\n",
       "    </tr>\n",
       "    <tr>\n",
       "      <th>2018-04-30</th>\n",
       "      <td>665040.377095</td>\n",
       "      <td>717516.058824</td>\n",
       "      <td>-52475.681729</td>\n",
       "    </tr>\n",
       "    <tr>\n",
       "      <th>2018-05-31</th>\n",
       "      <td>669840.556561</td>\n",
       "      <td>665040.377095</td>\n",
       "      <td>4800.179466</td>\n",
       "    </tr>\n",
       "    <tr>\n",
       "      <th>2018-06-30</th>\n",
       "      <td>660528.720238</td>\n",
       "      <td>669840.556561</td>\n",
       "      <td>-9311.836323</td>\n",
       "    </tr>\n",
       "    <tr>\n",
       "      <th>2018-07-31</th>\n",
       "      <td>628073.993289</td>\n",
       "      <td>660528.720238</td>\n",
       "      <td>-32454.726950</td>\n",
       "    </tr>\n",
       "    <tr>\n",
       "      <th>2018-08-31</th>\n",
       "      <td>629684.079208</td>\n",
       "      <td>628073.993289</td>\n",
       "      <td>1610.085919</td>\n",
       "    </tr>\n",
       "    <tr>\n",
       "      <th>2018-09-30</th>\n",
       "      <td>658647.394464</td>\n",
       "      <td>629684.079208</td>\n",
       "      <td>28963.315256</td>\n",
       "    </tr>\n",
       "    <tr>\n",
       "      <th>2018-10-31</th>\n",
       "      <td>655744.728223</td>\n",
       "      <td>658647.394464</td>\n",
       "      <td>-2902.666241</td>\n",
       "    </tr>\n",
       "    <tr>\n",
       "      <th>2018-11-30</th>\n",
       "      <td>654334.517241</td>\n",
       "      <td>655744.728223</td>\n",
       "      <td>-1410.210982</td>\n",
       "    </tr>\n",
       "    <tr>\n",
       "      <th>2018-12-31</th>\n",
       "      <td>674591.105023</td>\n",
       "      <td>654334.517241</td>\n",
       "      <td>20256.587781</td>\n",
       "    </tr>\n",
       "    <tr>\n",
       "      <th>2019-01-31</th>\n",
       "      <td>603103.649635</td>\n",
       "      <td>674591.105023</td>\n",
       "      <td>-71487.455388</td>\n",
       "    </tr>\n",
       "    <tr>\n",
       "      <th>2019-02-28</th>\n",
       "      <td>624798.088235</td>\n",
       "      <td>603103.649635</td>\n",
       "      <td>21694.438600</td>\n",
       "    </tr>\n",
       "    <tr>\n",
       "      <th>2019-03-31</th>\n",
       "      <td>651666.737288</td>\n",
       "      <td>624798.088235</td>\n",
       "      <td>26868.649053</td>\n",
       "    </tr>\n",
       "    <tr>\n",
       "      <th>2019-04-30</th>\n",
       "      <td>655325.561321</td>\n",
       "      <td>651666.737288</td>\n",
       "      <td>3658.824033</td>\n",
       "    </tr>\n",
       "    <tr>\n",
       "      <th>2019-05-31</th>\n",
       "      <td>641491.136364</td>\n",
       "      <td>655325.561321</td>\n",
       "      <td>-13834.424957</td>\n",
       "    </tr>\n",
       "    <tr>\n",
       "      <th>2019-06-30</th>\n",
       "      <td>703275.396825</td>\n",
       "      <td>641491.136364</td>\n",
       "      <td>61784.260462</td>\n",
       "    </tr>\n",
       "    <tr>\n",
       "      <th>2019-07-31</th>\n",
       "      <td>583192.056000</td>\n",
       "      <td>703275.396825</td>\n",
       "      <td>-120083.340825</td>\n",
       "    </tr>\n",
       "  </tbody>\n",
       "</table>\n",
       "</div>"
      ],
      "text/plain": [
       "                    price  Prev Month Average Price  1 month change\n",
       "datesold                                                           \n",
       "2017-01-31  566190.250000                       NaN             NaN\n",
       "2017-02-28  683978.623832             566190.250000   117788.373832\n",
       "2017-03-31  668966.513953             683978.623832   -15012.109878\n",
       "2017-04-30  680138.399433             668966.513953    11171.885480\n",
       "2017-05-31  661891.971014             680138.399433   -18246.428419\n",
       "2017-06-30  655731.017804             661891.971014    -6160.953210\n",
       "2017-07-31  675710.884375             655731.017804    19979.866571\n",
       "2017-08-31  641171.159574             675710.884375   -34539.724801\n",
       "2017-09-30  670468.142119             641171.159574    29296.982544\n",
       "2017-10-31  659916.747525             670468.142119   -10551.394594\n",
       "2017-11-30  721804.684701             659916.747525    61887.937177\n",
       "2017-12-31  697552.703125             721804.684701   -24251.981576\n",
       "2018-01-31  590753.808140             697552.703125  -106798.894985\n",
       "2018-02-28  666738.265854             590753.808140    75984.457714\n",
       "2018-03-31  717516.058824             666738.265854    50777.792970\n",
       "2018-04-30  665040.377095             717516.058824   -52475.681729\n",
       "2018-05-31  669840.556561             665040.377095     4800.179466\n",
       "2018-06-30  660528.720238             669840.556561    -9311.836323\n",
       "2018-07-31  628073.993289             660528.720238   -32454.726950\n",
       "2018-08-31  629684.079208             628073.993289     1610.085919\n",
       "2018-09-30  658647.394464             629684.079208    28963.315256\n",
       "2018-10-31  655744.728223             658647.394464    -2902.666241\n",
       "2018-11-30  654334.517241             655744.728223    -1410.210982\n",
       "2018-12-31  674591.105023             654334.517241    20256.587781\n",
       "2019-01-31  603103.649635             674591.105023   -71487.455388\n",
       "2019-02-28  624798.088235             603103.649635    21694.438600\n",
       "2019-03-31  651666.737288             624798.088235    26868.649053\n",
       "2019-04-30  655325.561321             651666.737288     3658.824033\n",
       "2019-05-31  641491.136364             655325.561321   -13834.424957\n",
       "2019-06-30  703275.396825             641491.136364    61784.260462\n",
       "2019-07-31  583192.056000             703275.396825  -120083.340825"
      ]
     },
     "execution_count": 97,
     "metadata": {},
     "output_type": "execute_result"
    }
   ],
   "source": [
    "df3"
   ]
  },
  {
   "cell_type": "code",
   "execution_count": 99,
   "id": "00c4ace7-27e0-46c4-bc3c-2bd5358d5c14",
   "metadata": {},
   "outputs": [
    {
     "data": {
      "text/html": [
       "<div>\n",
       "<style scoped>\n",
       "    .dataframe tbody tr th:only-of-type {\n",
       "        vertical-align: middle;\n",
       "    }\n",
       "\n",
       "    .dataframe tbody tr th {\n",
       "        vertical-align: top;\n",
       "    }\n",
       "\n",
       "    .dataframe thead th {\n",
       "        text-align: right;\n",
       "    }\n",
       "</style>\n",
       "<table border=\"1\" class=\"dataframe\">\n",
       "  <thead>\n",
       "    <tr style=\"text-align: right;\">\n",
       "      <th></th>\n",
       "      <th>price</th>\n",
       "      <th>Prev Month Average Price</th>\n",
       "      <th>1 month change</th>\n",
       "    </tr>\n",
       "    <tr>\n",
       "      <th>datesold</th>\n",
       "      <th></th>\n",
       "      <th></th>\n",
       "      <th></th>\n",
       "    </tr>\n",
       "  </thead>\n",
       "  <tbody>\n",
       "    <tr>\n",
       "      <th>2017-01-31</th>\n",
       "      <td>566190.250000</td>\n",
       "      <td>NaN</td>\n",
       "      <td>NaN</td>\n",
       "    </tr>\n",
       "    <tr>\n",
       "      <th>2017-02-28</th>\n",
       "      <td>683978.623832</td>\n",
       "      <td>566190.250000</td>\n",
       "      <td>117788.373832</td>\n",
       "    </tr>\n",
       "    <tr>\n",
       "      <th>2017-03-31</th>\n",
       "      <td>668966.513953</td>\n",
       "      <td>683978.623832</td>\n",
       "      <td>-15012.109878</td>\n",
       "    </tr>\n",
       "    <tr>\n",
       "      <th>2017-04-30</th>\n",
       "      <td>680138.399433</td>\n",
       "      <td>668966.513953</td>\n",
       "      <td>11171.885480</td>\n",
       "    </tr>\n",
       "    <tr>\n",
       "      <th>2017-05-31</th>\n",
       "      <td>661891.971014</td>\n",
       "      <td>680138.399433</td>\n",
       "      <td>-18246.428419</td>\n",
       "    </tr>\n",
       "    <tr>\n",
       "      <th>2017-06-30</th>\n",
       "      <td>655731.017804</td>\n",
       "      <td>661891.971014</td>\n",
       "      <td>-6160.953210</td>\n",
       "    </tr>\n",
       "    <tr>\n",
       "      <th>2017-07-31</th>\n",
       "      <td>675710.884375</td>\n",
       "      <td>655731.017804</td>\n",
       "      <td>19979.866571</td>\n",
       "    </tr>\n",
       "    <tr>\n",
       "      <th>2017-08-31</th>\n",
       "      <td>641171.159574</td>\n",
       "      <td>675710.884375</td>\n",
       "      <td>-34539.724801</td>\n",
       "    </tr>\n",
       "    <tr>\n",
       "      <th>2017-09-30</th>\n",
       "      <td>670468.142119</td>\n",
       "      <td>641171.159574</td>\n",
       "      <td>29296.982544</td>\n",
       "    </tr>\n",
       "    <tr>\n",
       "      <th>2017-10-31</th>\n",
       "      <td>659916.747525</td>\n",
       "      <td>670468.142119</td>\n",
       "      <td>-10551.394594</td>\n",
       "    </tr>\n",
       "    <tr>\n",
       "      <th>2017-11-30</th>\n",
       "      <td>721804.684701</td>\n",
       "      <td>659916.747525</td>\n",
       "      <td>61887.937177</td>\n",
       "    </tr>\n",
       "    <tr>\n",
       "      <th>2017-12-31</th>\n",
       "      <td>697552.703125</td>\n",
       "      <td>721804.684701</td>\n",
       "      <td>-24251.981576</td>\n",
       "    </tr>\n",
       "    <tr>\n",
       "      <th>2018-01-31</th>\n",
       "      <td>590753.808140</td>\n",
       "      <td>697552.703125</td>\n",
       "      <td>-106798.894985</td>\n",
       "    </tr>\n",
       "    <tr>\n",
       "      <th>2018-02-28</th>\n",
       "      <td>666738.265854</td>\n",
       "      <td>590753.808140</td>\n",
       "      <td>75984.457714</td>\n",
       "    </tr>\n",
       "    <tr>\n",
       "      <th>2018-03-31</th>\n",
       "      <td>717516.058824</td>\n",
       "      <td>666738.265854</td>\n",
       "      <td>50777.792970</td>\n",
       "    </tr>\n",
       "    <tr>\n",
       "      <th>2018-04-30</th>\n",
       "      <td>665040.377095</td>\n",
       "      <td>717516.058824</td>\n",
       "      <td>-52475.681729</td>\n",
       "    </tr>\n",
       "    <tr>\n",
       "      <th>2018-05-31</th>\n",
       "      <td>669840.556561</td>\n",
       "      <td>665040.377095</td>\n",
       "      <td>4800.179466</td>\n",
       "    </tr>\n",
       "    <tr>\n",
       "      <th>2018-06-30</th>\n",
       "      <td>660528.720238</td>\n",
       "      <td>669840.556561</td>\n",
       "      <td>-9311.836323</td>\n",
       "    </tr>\n",
       "    <tr>\n",
       "      <th>2018-07-31</th>\n",
       "      <td>628073.993289</td>\n",
       "      <td>660528.720238</td>\n",
       "      <td>-32454.726950</td>\n",
       "    </tr>\n",
       "    <tr>\n",
       "      <th>2018-08-31</th>\n",
       "      <td>629684.079208</td>\n",
       "      <td>628073.993289</td>\n",
       "      <td>1610.085919</td>\n",
       "    </tr>\n",
       "    <tr>\n",
       "      <th>2018-09-30</th>\n",
       "      <td>658647.394464</td>\n",
       "      <td>629684.079208</td>\n",
       "      <td>28963.315256</td>\n",
       "    </tr>\n",
       "    <tr>\n",
       "      <th>2018-10-31</th>\n",
       "      <td>655744.728223</td>\n",
       "      <td>658647.394464</td>\n",
       "      <td>-2902.666241</td>\n",
       "    </tr>\n",
       "    <tr>\n",
       "      <th>2018-11-30</th>\n",
       "      <td>654334.517241</td>\n",
       "      <td>655744.728223</td>\n",
       "      <td>-1410.210982</td>\n",
       "    </tr>\n",
       "    <tr>\n",
       "      <th>2018-12-31</th>\n",
       "      <td>674591.105023</td>\n",
       "      <td>654334.517241</td>\n",
       "      <td>20256.587781</td>\n",
       "    </tr>\n",
       "    <tr>\n",
       "      <th>2019-01-31</th>\n",
       "      <td>603103.649635</td>\n",
       "      <td>674591.105023</td>\n",
       "      <td>-71487.455388</td>\n",
       "    </tr>\n",
       "    <tr>\n",
       "      <th>2019-02-28</th>\n",
       "      <td>624798.088235</td>\n",
       "      <td>603103.649635</td>\n",
       "      <td>21694.438600</td>\n",
       "    </tr>\n",
       "    <tr>\n",
       "      <th>2019-03-31</th>\n",
       "      <td>651666.737288</td>\n",
       "      <td>624798.088235</td>\n",
       "      <td>26868.649053</td>\n",
       "    </tr>\n",
       "    <tr>\n",
       "      <th>2019-04-30</th>\n",
       "      <td>655325.561321</td>\n",
       "      <td>651666.737288</td>\n",
       "      <td>3658.824033</td>\n",
       "    </tr>\n",
       "    <tr>\n",
       "      <th>2019-05-31</th>\n",
       "      <td>641491.136364</td>\n",
       "      <td>655325.561321</td>\n",
       "      <td>-13834.424957</td>\n",
       "    </tr>\n",
       "    <tr>\n",
       "      <th>2019-06-30</th>\n",
       "      <td>703275.396825</td>\n",
       "      <td>641491.136364</td>\n",
       "      <td>61784.260462</td>\n",
       "    </tr>\n",
       "    <tr>\n",
       "      <th>2019-07-31</th>\n",
       "      <td>583192.056000</td>\n",
       "      <td>703275.396825</td>\n",
       "      <td>-120083.340825</td>\n",
       "    </tr>\n",
       "  </tbody>\n",
       "</table>\n",
       "</div>"
      ],
      "text/plain": [
       "                    price  Prev Month Average Price  1 month change\n",
       "datesold                                                           \n",
       "2017-01-31  566190.250000                       NaN             NaN\n",
       "2017-02-28  683978.623832             566190.250000   117788.373832\n",
       "2017-03-31  668966.513953             683978.623832   -15012.109878\n",
       "2017-04-30  680138.399433             668966.513953    11171.885480\n",
       "2017-05-31  661891.971014             680138.399433   -18246.428419\n",
       "2017-06-30  655731.017804             661891.971014    -6160.953210\n",
       "2017-07-31  675710.884375             655731.017804    19979.866571\n",
       "2017-08-31  641171.159574             675710.884375   -34539.724801\n",
       "2017-09-30  670468.142119             641171.159574    29296.982544\n",
       "2017-10-31  659916.747525             670468.142119   -10551.394594\n",
       "2017-11-30  721804.684701             659916.747525    61887.937177\n",
       "2017-12-31  697552.703125             721804.684701   -24251.981576\n",
       "2018-01-31  590753.808140             697552.703125  -106798.894985\n",
       "2018-02-28  666738.265854             590753.808140    75984.457714\n",
       "2018-03-31  717516.058824             666738.265854    50777.792970\n",
       "2018-04-30  665040.377095             717516.058824   -52475.681729\n",
       "2018-05-31  669840.556561             665040.377095     4800.179466\n",
       "2018-06-30  660528.720238             669840.556561    -9311.836323\n",
       "2018-07-31  628073.993289             660528.720238   -32454.726950\n",
       "2018-08-31  629684.079208             628073.993289     1610.085919\n",
       "2018-09-30  658647.394464             629684.079208    28963.315256\n",
       "2018-10-31  655744.728223             658647.394464    -2902.666241\n",
       "2018-11-30  654334.517241             655744.728223    -1410.210982\n",
       "2018-12-31  674591.105023             654334.517241    20256.587781\n",
       "2019-01-31  603103.649635             674591.105023   -71487.455388\n",
       "2019-02-28  624798.088235             603103.649635    21694.438600\n",
       "2019-03-31  651666.737288             624798.088235    26868.649053\n",
       "2019-04-30  655325.561321             651666.737288     3658.824033\n",
       "2019-05-31  641491.136364             655325.561321   -13834.424957\n",
       "2019-06-30  703275.396825             641491.136364    61784.260462\n",
       "2019-07-31  583192.056000             703275.396825  -120083.340825"
      ]
     },
     "execution_count": 99,
     "metadata": {},
     "output_type": "execute_result"
    }
   ],
   "source": [
    "df3"
   ]
  },
  {
   "cell_type": "code",
   "execution_count": null,
   "id": "e34005da-a839-48f0-8d39-cca675ab1ac6",
   "metadata": {},
   "outputs": [],
   "source": []
  }
 ],
 "metadata": {
  "kernelspec": {
   "display_name": "Python 3 (ipykernel)",
   "language": "python",
   "name": "python3"
  },
  "language_info": {
   "codemirror_mode": {
    "name": "ipython",
    "version": 3
   },
   "file_extension": ".py",
   "mimetype": "text/x-python",
   "name": "python",
   "nbconvert_exporter": "python",
   "pygments_lexer": "ipython3",
   "version": "3.12.7"
  }
 },
 "nbformat": 4,
 "nbformat_minor": 5
}
